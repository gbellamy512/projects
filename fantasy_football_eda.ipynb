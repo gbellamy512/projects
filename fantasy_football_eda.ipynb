{
 "cells": [
  {
   "cell_type": "code",
   "execution_count": 23,
   "metadata": {},
   "outputs": [],
   "source": [
    "import pandas as pd\n",
    "import numpy as np\n",
    "import matplotlib.pyplot as plt\n",
    "import plotly.graph_objects as go\n",
    "import plotly.express as px"
   ]
  },
  {
   "cell_type": "code",
   "execution_count": 24,
   "metadata": {},
   "outputs": [],
   "source": [
    "def clean_df(df):\n",
    "    df = df.dropna(subset=['Player'])\n",
    "    df['Player'] = df['Player'].str.split().apply(lambda x: ' '.join(x[:2]))\n",
    "    return df\n",
    "\n",
    "def fill_with_misc(df, col1, col2):\n",
    "    df[col1] = df[col1].fillna(df[col2])\n",
    "    df.drop(columns=[col2], inplace=True)\n",
    "    df.dropna(subset=[col1], inplace=True)\n",
    "\n",
    "adp_df = clean_df(pd.read_csv('adp_2018_2022.csv'))\n",
    "adp_df = adp_df.rename(columns={'AVG': 'ADP'})\n",
    "player_df = clean_df(pd.read_csv('player_performance_2018_2022.csv'))\n",
    "player_df = player_df.rename(columns={'year': 'Year'})\n",
    "fill_with_misc(player_df, 'G', 'misc_G')\n",
    "fill_with_misc(player_df, 'FPTS/G', 'misc_FPTS/G')\n",
    "\n",
    "df = pd.merge(adp_df, player_df, on=['Player', 'Year'], how='inner', suffixes=('_adp', '_player'))\n",
    "df_cols = ['Year', 'pos', 'Player', 'G', 'ADP', 'FPTS', 'FPTS/G']\n",
    "df = df[df_cols]\n",
    "\n",
    "df['ADP_rank'] = df.groupby(['Year', 'pos'])['ADP'].rank(ascending=True, method='min')\n",
    "df['FPTS_rank'] = df.groupby(['Year', 'pos'])['FPTS'].rank(ascending=False, method='min')\n",
    "teams = 12\n",
    "df['round_drafted'] = (df['ADP'] - 0.5) // teams + 1\n",
    "# 1 qb + 2 rb + 2 wr + 1 te + 1 flex + 1 dst + 1 k + 7 b = 16\n",
    "df.loc[df['round_drafted'] > 16, 'round_drafted'] = 17\n",
    "df['round_drafted'] = df['round_drafted'].astype(int)\n",
    "df['pos_group'] = (df['FPTS_rank'] - 0.5) // teams + 1\n",
    "df['pos_group'] = df['pos_group'].astype(int)"
   ]
  },
  {
   "cell_type": "code",
   "execution_count": 25,
   "metadata": {},
   "outputs": [],
   "source": [
    "def consistency_chart(df, pos, year):\n",
    "    current_df = df[(df['pos'] == pos) & (df['pos_group'] == 1) & (df['Year'] == year)].sort_values(by='FPTS_rank')\n",
    "    next_df = df[(df['pos'] == pos) & (df['Year'] == year+1)]\n",
    "    cols = ['Player', 'G', 'FPTS_rank', 'pos_group']\n",
    "    df = pd.merge(current_df[cols], next_df[cols], on=['Player'], how='inner', suffixes=('_current', '_next'))\n",
    "    df['FPTS_rank_change'] = df['FPTS_rank_current'] - df['FPTS_rank_next']\n",
    "    df.loc[df['pos_group_next'] == 1, 'remained_one'] = 1\n",
    "    new_col = 'Year'\n",
    "    df[new_col] = year\n",
    "    column_order = [new_col] + [col for col in df.columns if col != new_col]\n",
    "    df = df[column_order]\n",
    "    return df\n",
    "\n",
    "positions = ['qb', 'rb', 'wr', 'te']\n",
    "year_min = 2018\n",
    "year_max = 2021\n",
    "pos_dfs = {}\n",
    "for pos in positions:\n",
    "    pos_year_dfs = []\n",
    "    for year in range(year_min, year_max+1):\n",
    "        pos_year_df = consistency_chart(df.copy(), pos, year)\n",
    "        pos_year_dfs.append(pos_year_df)\n",
    "    pos_df = pd.concat(pos_year_dfs)\n",
    "    pos_dfs[pos] = pos_df\n",
    "\n",
    "excel_name = 'consistency.xlsx'\n",
    "with pd.ExcelWriter(excel_name) as writer:\n",
    "    dfs = []\n",
    "    for sheet_name, pos_df in pos_dfs.items():\n",
    "        pos_df.to_excel(writer, sheet_name=sheet_name)\n",
    "        pos_df['pos'] = sheet_name\n",
    "        dfs.append(pos_df)\n",
    "    all_df = pd.concat(dfs)\n",
    "    all_df.to_excel(writer, sheet_name='all')\n",
    "    pivot_df = all_df.pivot_table(index=['pos'], columns=['Year'], values='remained_one', aggfunc=np.sum)\n",
    "    pivot_df.to_excel(writer, sheet_name='pivot')"
   ]
  },
  {
   "cell_type": "code",
   "execution_count": 26,
   "metadata": {},
   "outputs": [],
   "source": [
    "def ones_by_year_table(df):\n",
    "    drafted_pivot = pd.pivot_table(df, values='Player', index=['Year'], columns=['round_drafted'], aggfunc='count', margins=True).fillna(0)\n",
    "    drafted_pivot_percentage = drafted_pivot.div(drafted_pivot['All'], axis=0)\n",
    "    ones_pivot = pd.pivot_table(df[df['pos_group'] == 1], values='Player', index=['Year'], columns=['round_drafted'], aggfunc='count', margins=True).fillna(0)\n",
    "    ones_pivot_percentage = ones_pivot.div(ones_pivot['All'], axis=0)\n",
    "    # Reset the index for both dataframes\n",
    "    drafted_pivot.reset_index(inplace=True)\n",
    "    ones_pivot.reset_index(inplace=True)\n",
    "    drafted_pivot_percentage.reset_index(inplace=True)\n",
    "    ones_pivot_percentage.reset_index(inplace=True)\n",
    "\n",
    "    # Add a column to distinguish the two dataframes\n",
    "    drafted_pivot['Type'] = 'All'\n",
    "    ones_pivot['Type'] = 'Ones'\n",
    "    drafted_pivot_percentage['Type'] = 'All_%'\n",
    "    ones_pivot_percentage['Type'] = 'Ones_%'\n",
    "\n",
    "    # Concatenate the dataframes and set a multi-index\n",
    "    combined_df = pd.concat([drafted_pivot, ones_pivot, drafted_pivot_percentage, ones_pivot_percentage]).fillna(0)\n",
    "    combined_df.set_index(['Type', 'Year'], inplace=True)\n",
    "    combined_df.sort_index(inplace=True)\n",
    "\n",
    "    # Perform the division and store in a temporary DataFrame\n",
    "    temp_df = combined_df.loc['Ones'] / combined_df.loc['All']\n",
    "    # Reset the index for the temporary DataFrame\n",
    "    temp_df.reset_index(inplace=True)\n",
    "    # Add a column to distinguish this new DataFrame\n",
    "    temp_df['Type'] = 'hit_rate'\n",
    "\n",
    "    # Set the index to match the original DataFrame\n",
    "    temp_df.set_index(['Type', 'Year'], inplace=True)\n",
    "\n",
    "    # Concatenate the original DataFrame with this new one\n",
    "    combined_df = pd.concat([combined_df, temp_df])\n",
    "\n",
    "    # Sort the index for better readability\n",
    "    combined_df.sort_index(inplace=True)\n",
    "    return combined_df\n",
    "\n",
    "positions = ['qb', 'rb', 'wr', 'te']\n",
    "\n",
    "with pd.ExcelWriter('ones_by_round.xlsx') as writer:\n",
    "    for position in positions:\n",
    "        combined_result = ones_by_year_table(df[df['pos'] == position])\n",
    "        combined_result.to_excel(writer, sheet_name=position)"
   ]
  },
  {
   "cell_type": "code",
   "execution_count": 27,
   "metadata": {},
   "outputs": [],
   "source": [
    "def consistency_chart(df, pos):\n",
    "\n",
    "    current_df = df[(df['pos'] == pos) & (df['pos_group'] == 1)].sort_values(by='FPTS_rank')\n",
    "    next_df = df.copy()\n",
    "    next_df['Year'] = next_df['Year'] - 1\n",
    "    df2 = pd.merge(current_df, next_df, on=['Year', 'Player'], how='inner', suffixes=('_current', '_next'))\n",
    "    df2['FPTS_rank_change'] = df2['FPTS_rank_current'] - df2['FPTS_rank_next']\n",
    "\n",
    "    # Create the figure and layout\n",
    "    fig = go.Figure()\n",
    "\n",
    "    annotations = []\n",
    "\n",
    "    bar_width = 0.8 / len(df2['FPTS_rank_current'].unique())\n",
    "\n",
    "    # Create each bar series\n",
    "    for j, rank_current in enumerate(df2['FPTS_rank_current'].unique()):\n",
    "        subset_df = df2[df2['FPTS_rank_current'] == rank_current]\n",
    "        x_values = subset_df['Year']\n",
    "        y_values = subset_df['FPTS_rank_change']\n",
    "        players = subset_df['Player']\n",
    "        fpts_rank_next = subset_df['FPTS_rank_next']\n",
    "\n",
    "        # Offset x-values for proper positioning within each 'Year' group\n",
    "        offset_x_values = x_values + (j * bar_width - (bar_width * len(df2['FPTS_rank_current'].unique()) / 2) + bar_width / 2)\n",
    "        \n",
    "        fig.add_trace(go.Bar(\n",
    "            x=offset_x_values,\n",
    "            y=y_values,\n",
    "            width=bar_width,\n",
    "            name=str(rank_current),\n",
    "            # customdata=subset_df[['Player', 'FPTS_rank_next', 'FPTS_rank_current']],\n",
    "            customdata=subset_df[['Player', 'FPTS_rank_current', 'FPTS_rank_next', 'G_next']],\n",
    "            hovertemplate=(\n",
    "                \"Player: %{customdata[0]}<br>\" +\n",
    "                \"FPTS_rank_current: %{customdata[1]}<br>\" +\n",
    "                \"FPTS_rank_change: %{y}<br>\" +\n",
    "                \"FPTS_rank_next: %{customdata[2]}<br>\" +\n",
    "                \"FPTS_G: %{customdata[3]}<br>\" +\n",
    "                \"<extra></extra>\"\n",
    "            )\n",
    "        ))\n",
    "\n",
    "        # Add annotations (labels above bars)\n",
    "        for i, (x_val, y_val) in enumerate(zip(offset_x_values, y_values)):\n",
    "            # y_offset = 0.5 if y_val >= 0 else -0.5\n",
    "            y_offset_amt = 2\n",
    "            y_offset = y_offset_amt if y_val >= 0 else -y_offset_amt\n",
    "            annotations.append(\n",
    "                dict(\n",
    "                    x=x_val,\n",
    "                    y=y_val + y_offset,\n",
    "                    xref=\"x\",\n",
    "                    yref=\"y\",\n",
    "                    text=f\"{y_val:.0f}\",\n",
    "                    showarrow=False,\n",
    "                    font=dict(\n",
    "                        family=\"Arial\",\n",
    "                        size=12,\n",
    "                        color=\"black\"\n",
    "                    ),\n",
    "                    align=\"center\"\n",
    "                )\n",
    "            )\n",
    "\n",
    "    # Update the layout\n",
    "    fig.update_layout(\n",
    "        title='Difference in FPTS_rank_change by Position',\n",
    "        xaxis_title='Year',\n",
    "        yaxis_title='Difference in FPTS_rank_change',\n",
    "        barmode='group',\n",
    "        annotations=annotations\n",
    "    )\n",
    "\n",
    "    fig.show()"
   ]
  },
  {
   "cell_type": "code",
   "execution_count": 28,
   "metadata": {},
   "outputs": [
    {
     "data": {
      "application/vnd.plotly.v1+json": {
       "config": {
        "plotlyServerURL": "https://plot.ly"
       },
       "data": [
        {
         "customdata": [
          [
           "Todd Gurley",
           1,
           14,
           15
          ],
          [
           "Christian McCaffrey",
           1,
           51,
           3
          ],
          [
           "Jonathan Taylor",
           1,
           33,
           12
          ],
          [
           "Alvin Kamara",
           1,
           8,
           13
          ]
         ],
         "hovertemplate": "Player: %{customdata[0]}<br>FPTS_rank_current: %{customdata[1]}<br>FPTS_rank_change: %{y}<br>FPTS_rank_next: %{customdata[2]}<br>FPTS_G: %{customdata[3]}<br><extra></extra>",
         "name": "1.0",
         "type": "bar",
         "width": 0.06666666666666667,
         "x": [
          2017.6333333333334,
          2018.6333333333334,
          2020.6333333333334,
          2019.6333333333334
         ],
         "y": [
          -13,
          -50,
          -32,
          -7
         ]
        },
        {
         "customdata": [
          [
           "Austin Ekeler",
           2,
           1,
           17
          ],
          [
           "Derrick Henry",
           2,
           16,
           8
          ],
          [
           "Aaron Jones",
           2,
           5,
           14
          ],
          [
           "Saquon Barkley",
           2,
           10,
           13
          ]
         ],
         "hovertemplate": "Player: %{customdata[0]}<br>FPTS_rank_current: %{customdata[1]}<br>FPTS_rank_change: %{y}<br>FPTS_rank_next: %{customdata[2]}<br>FPTS_G: %{customdata[3]}<br><extra></extra>",
         "name": "2.0",
         "type": "bar",
         "width": 0.06666666666666667,
         "x": [
          2020.7,
          2019.7,
          2018.7,
          2017.7
         ],
         "y": [
          1,
          -14,
          -3,
          -8
         ]
        },
        {
         "customdata": [
          [
           "Christian McCaffrey",
           3,
           1,
           16
          ],
          [
           "Dalvin Cook",
           3,
           15,
           13
          ],
          [
           "Joe Mixon",
           3,
           12,
           15
          ],
          [
           "Derrick Henry",
           3,
           2,
           16
          ]
         ],
         "hovertemplate": "Player: %{customdata[0]}<br>FPTS_rank_current: %{customdata[1]}<br>FPTS_rank_change: %{y}<br>FPTS_rank_next: %{customdata[2]}<br>FPTS_G: %{customdata[3]}<br><extra></extra>",
         "name": "3.0",
         "type": "bar",
         "width": 0.06666666666666667,
         "x": [
          2017.7666666666667,
          2019.7666666666667,
          2020.7666666666667,
          2018.7666666666667
         ],
         "y": [
          2,
          -12,
          -9,
          1
         ]
        },
        {
         "customdata": [
          [
           "Alvin Kamara",
           4,
           12,
           14
          ],
          [
           "David Montgomery",
           4,
           21,
           14
          ],
          [
           "Ezekiel Elliott",
           4,
           11,
           15
          ],
          [
           "Najee Harris",
           4,
           14,
           17
          ]
         ],
         "hovertemplate": "Player: %{customdata[0]}<br>FPTS_rank_current: %{customdata[1]}<br>FPTS_rank_change: %{y}<br>FPTS_rank_next: %{customdata[2]}<br>FPTS_G: %{customdata[3]}<br><extra></extra>",
         "name": "4.0",
         "type": "bar",
         "width": 0.06666666666666667,
         "x": [
          2017.8333333333333,
          2019.8333333333333,
          2018.8333333333333,
          2020.8333333333333
         ],
         "y": [
          -8,
          -17,
          -7,
          -10
         ]
        },
        {
         "customdata": [
          [
           "Aaron Jones",
           5,
           12,
           15
          ],
          [
           "Dalvin Cook",
           5,
           3,
           14
          ],
          [
           "James Conner",
           5,
           20,
           13
          ],
          [
           "Ezekiel Elliott",
           5,
           4,
           16
          ]
         ],
         "hovertemplate": "Player: %{customdata[0]}<br>FPTS_rank_current: %{customdata[1]}<br>FPTS_rank_change: %{y}<br>FPTS_rank_next: %{customdata[2]}<br>FPTS_G: %{customdata[3]}<br><extra></extra>",
         "name": "5.0",
         "type": "bar",
         "width": 0.06666666666666667,
         "x": [
          2019.9,
          2018.9,
          2020.9,
          2017.9
         ],
         "y": [
          -7,
          2,
          -15,
          1
         ]
        },
        {
         "customdata": [
          [
           "Austin Ekeler",
           6,
           28,
           10
          ],
          [
           "James Conner",
           6,
           32,
           10
          ],
          [
           "Jonathan Taylor",
           6,
           1,
           17
          ],
          [
           "Ezekiel Elliott",
           6,
           19,
           15
          ]
         ],
         "hovertemplate": "Player: %{customdata[0]}<br>FPTS_rank_current: %{customdata[1]}<br>FPTS_rank_change: %{y}<br>FPTS_rank_next: %{customdata[2]}<br>FPTS_G: %{customdata[3]}<br><extra></extra>",
         "name": "6.0",
         "type": "bar",
         "width": 0.06666666666666667,
         "x": [
          2018.9666666666667,
          2017.9666666666667,
          2019.9666666666667,
          2020.9666666666667
         ],
         "y": [
          -22,
          -26,
          5,
          -13
         ]
        },
        {
         "customdata": [
          [
           "Nick Chubb",
           7,
           9,
           12
          ],
          [
           "Melvin Gordon",
           7,
           23,
           12
          ],
          [
           "Leonard Fournette",
           7,
           15,
           16
          ],
          [
           "James Robinson",
           7,
           24,
           14
          ]
         ],
         "hovertemplate": "Player: %{customdata[0]}<br>FPTS_rank_current: %{customdata[1]}<br>FPTS_rank_change: %{y}<br>FPTS_rank_next: %{customdata[2]}<br>FPTS_G: %{customdata[3]}<br><extra></extra>",
         "name": "7.0",
         "type": "bar",
         "width": 0.06666666666666667,
         "x": [
          2019.0333333333333,
          2018.0333333333333,
          2021.0333333333333,
          2020.0333333333333
         ],
         "y": [
          -2,
          -16,
          -8,
          -17
         ]
        },
        {
         "customdata": [
          [
           "Alvin Kamara",
           8,
           18,
           15
          ],
          [
           "Josh Jacobs",
           8,
           14,
           15
          ],
          [
           "James White",
           8,
           22,
           15
          ],
          [
           "Mark Ingram",
           8,
           65,
           11
          ]
         ],
         "hovertemplate": "Player: %{customdata[0]}<br>FPTS_rank_current: %{customdata[1]}<br>FPTS_rank_change: %{y}<br>FPTS_rank_next: %{customdata[2]}<br>FPTS_G: %{customdata[3]}<br><extra></extra>",
         "name": "8.0",
         "type": "bar",
         "width": 0.06666666666666667,
         "x": [
          2021.1,
          2020.1,
          2018.1,
          2019.1
         ],
         "y": [
          -10,
          -6,
          -14,
          -57
         ]
        },
        {
         "customdata": [
          [
           "Joe Mixon",
           9,
           13,
           16
          ],
          [
           "Nick Chubb",
           9,
           11,
           14
          ],
          [
           "Leonard Fournette",
           9,
           36,
           13
          ],
          [
           "Cordarrelle Patterson",
           9,
           30,
           13
          ]
         ],
         "hovertemplate": "Player: %{customdata[0]}<br>FPTS_rank_current: %{customdata[1]}<br>FPTS_rank_change: %{y}<br>FPTS_rank_next: %{customdata[2]}<br>FPTS_G: %{customdata[3]}<br><extra></extra>",
         "name": "9.0",
         "type": "bar",
         "width": 0.06666666666666667,
         "x": [
          2018.1666666666667,
          2020.1666666666667,
          2019.1666666666667,
          2021.1666666666667
         ],
         "y": [
          -4,
          -2,
          -27,
          -21
         ]
        },
        {
         "customdata": [
          [
           "David Johnson",
           10,
           37,
           13
          ],
          [
           "Saquon Barkley",
           10,
           90,
           2
          ],
          [
           "Kareem Hunt",
           10,
           46,
           8
          ],
          [
           "Antonio Gibson",
           10,
           31,
           15
          ]
         ],
         "hovertemplate": "Player: %{customdata[0]}<br>FPTS_rank_current: %{customdata[1]}<br>FPTS_rank_change: %{y}<br>FPTS_rank_next: %{customdata[2]}<br>FPTS_G: %{customdata[3]}<br><extra></extra>",
         "name": "10.0",
         "type": "bar",
         "width": 0.06666666666666667,
         "x": [
          2018.2333333333333,
          2019.2333333333333,
          2020.2333333333333,
          2021.2333333333333
         ],
         "y": [
          -27,
          -80,
          -36,
          -21
         ]
        },
        {
         "customdata": [
          [
           "Chris Carson",
           11,
           17,
           12
          ],
          [
           "Ezekiel Elliott",
           11,
           6,
           17
          ],
          [
           "Kareem Hunt",
           11,
           48,
           9
          ],
          [
           "Nick Chubb",
           11,
           5,
           17
          ]
         ],
         "hovertemplate": "Player: %{customdata[0]}<br>FPTS_rank_current: %{customdata[1]}<br>FPTS_rank_change: %{y}<br>FPTS_rank_next: %{customdata[2]}<br>FPTS_G: %{customdata[3]}<br><extra></extra>",
         "name": "11.0",
         "type": "bar",
         "width": 0.06666666666666667,
         "x": [
          2019.3,
          2020.3,
          2018.3,
          2021.3
         ],
         "y": [
          -6,
          5,
          -37,
          6
         ]
        },
        {
         "customdata": [
          [
           "Phillip Lindsay",
           12,
           19,
           16
          ],
          [
           "Aaron Jones",
           12,
           9,
           17
          ],
          [
           "Antonio Gibson",
           12,
           10,
           16
          ],
          [
           "Alvin Kamara",
           12,
           1,
           15
          ]
         ],
         "hovertemplate": "Player: %{customdata[0]}<br>FPTS_rank_current: %{customdata[1]}<br>FPTS_rank_change: %{y}<br>FPTS_rank_next: %{customdata[2]}<br>FPTS_G: %{customdata[3]}<br><extra></extra>",
         "name": "12.0",
         "type": "bar",
         "width": 0.06666666666666667,
         "x": [
          2018.3666666666666,
          2021.3666666666666,
          2020.3666666666666,
          2019.3666666666666
         ],
         "y": [
          -7,
          3,
          2,
          11
         ]
        }
       ],
       "layout": {
        "annotations": [
         {
          "align": "center",
          "font": {
           "color": "black",
           "family": "Arial",
           "size": 12
          },
          "showarrow": false,
          "text": "-13",
          "x": 2017.6333333333334,
          "xref": "x",
          "y": -15,
          "yref": "y"
         },
         {
          "align": "center",
          "font": {
           "color": "black",
           "family": "Arial",
           "size": 12
          },
          "showarrow": false,
          "text": "-50",
          "x": 2018.6333333333334,
          "xref": "x",
          "y": -52,
          "yref": "y"
         },
         {
          "align": "center",
          "font": {
           "color": "black",
           "family": "Arial",
           "size": 12
          },
          "showarrow": false,
          "text": "-32",
          "x": 2020.6333333333334,
          "xref": "x",
          "y": -34,
          "yref": "y"
         },
         {
          "align": "center",
          "font": {
           "color": "black",
           "family": "Arial",
           "size": 12
          },
          "showarrow": false,
          "text": "-7",
          "x": 2019.6333333333334,
          "xref": "x",
          "y": -9,
          "yref": "y"
         },
         {
          "align": "center",
          "font": {
           "color": "black",
           "family": "Arial",
           "size": 12
          },
          "showarrow": false,
          "text": "1",
          "x": 2020.7,
          "xref": "x",
          "y": 3,
          "yref": "y"
         },
         {
          "align": "center",
          "font": {
           "color": "black",
           "family": "Arial",
           "size": 12
          },
          "showarrow": false,
          "text": "-14",
          "x": 2019.7,
          "xref": "x",
          "y": -16,
          "yref": "y"
         },
         {
          "align": "center",
          "font": {
           "color": "black",
           "family": "Arial",
           "size": 12
          },
          "showarrow": false,
          "text": "-3",
          "x": 2018.7,
          "xref": "x",
          "y": -5,
          "yref": "y"
         },
         {
          "align": "center",
          "font": {
           "color": "black",
           "family": "Arial",
           "size": 12
          },
          "showarrow": false,
          "text": "-8",
          "x": 2017.7,
          "xref": "x",
          "y": -10,
          "yref": "y"
         },
         {
          "align": "center",
          "font": {
           "color": "black",
           "family": "Arial",
           "size": 12
          },
          "showarrow": false,
          "text": "2",
          "x": 2017.7666666666667,
          "xref": "x",
          "y": 4,
          "yref": "y"
         },
         {
          "align": "center",
          "font": {
           "color": "black",
           "family": "Arial",
           "size": 12
          },
          "showarrow": false,
          "text": "-12",
          "x": 2019.7666666666667,
          "xref": "x",
          "y": -14,
          "yref": "y"
         },
         {
          "align": "center",
          "font": {
           "color": "black",
           "family": "Arial",
           "size": 12
          },
          "showarrow": false,
          "text": "-9",
          "x": 2020.7666666666667,
          "xref": "x",
          "y": -11,
          "yref": "y"
         },
         {
          "align": "center",
          "font": {
           "color": "black",
           "family": "Arial",
           "size": 12
          },
          "showarrow": false,
          "text": "1",
          "x": 2018.7666666666667,
          "xref": "x",
          "y": 3,
          "yref": "y"
         },
         {
          "align": "center",
          "font": {
           "color": "black",
           "family": "Arial",
           "size": 12
          },
          "showarrow": false,
          "text": "-8",
          "x": 2017.8333333333333,
          "xref": "x",
          "y": -10,
          "yref": "y"
         },
         {
          "align": "center",
          "font": {
           "color": "black",
           "family": "Arial",
           "size": 12
          },
          "showarrow": false,
          "text": "-17",
          "x": 2019.8333333333333,
          "xref": "x",
          "y": -19,
          "yref": "y"
         },
         {
          "align": "center",
          "font": {
           "color": "black",
           "family": "Arial",
           "size": 12
          },
          "showarrow": false,
          "text": "-7",
          "x": 2018.8333333333333,
          "xref": "x",
          "y": -9,
          "yref": "y"
         },
         {
          "align": "center",
          "font": {
           "color": "black",
           "family": "Arial",
           "size": 12
          },
          "showarrow": false,
          "text": "-10",
          "x": 2020.8333333333333,
          "xref": "x",
          "y": -12,
          "yref": "y"
         },
         {
          "align": "center",
          "font": {
           "color": "black",
           "family": "Arial",
           "size": 12
          },
          "showarrow": false,
          "text": "-7",
          "x": 2019.9,
          "xref": "x",
          "y": -9,
          "yref": "y"
         },
         {
          "align": "center",
          "font": {
           "color": "black",
           "family": "Arial",
           "size": 12
          },
          "showarrow": false,
          "text": "2",
          "x": 2018.9,
          "xref": "x",
          "y": 4,
          "yref": "y"
         },
         {
          "align": "center",
          "font": {
           "color": "black",
           "family": "Arial",
           "size": 12
          },
          "showarrow": false,
          "text": "-15",
          "x": 2020.9,
          "xref": "x",
          "y": -17,
          "yref": "y"
         },
         {
          "align": "center",
          "font": {
           "color": "black",
           "family": "Arial",
           "size": 12
          },
          "showarrow": false,
          "text": "1",
          "x": 2017.9,
          "xref": "x",
          "y": 3,
          "yref": "y"
         },
         {
          "align": "center",
          "font": {
           "color": "black",
           "family": "Arial",
           "size": 12
          },
          "showarrow": false,
          "text": "-22",
          "x": 2018.9666666666667,
          "xref": "x",
          "y": -24,
          "yref": "y"
         },
         {
          "align": "center",
          "font": {
           "color": "black",
           "family": "Arial",
           "size": 12
          },
          "showarrow": false,
          "text": "-26",
          "x": 2017.9666666666667,
          "xref": "x",
          "y": -28,
          "yref": "y"
         },
         {
          "align": "center",
          "font": {
           "color": "black",
           "family": "Arial",
           "size": 12
          },
          "showarrow": false,
          "text": "5",
          "x": 2019.9666666666667,
          "xref": "x",
          "y": 7,
          "yref": "y"
         },
         {
          "align": "center",
          "font": {
           "color": "black",
           "family": "Arial",
           "size": 12
          },
          "showarrow": false,
          "text": "-13",
          "x": 2020.9666666666667,
          "xref": "x",
          "y": -15,
          "yref": "y"
         },
         {
          "align": "center",
          "font": {
           "color": "black",
           "family": "Arial",
           "size": 12
          },
          "showarrow": false,
          "text": "-2",
          "x": 2019.0333333333333,
          "xref": "x",
          "y": -4,
          "yref": "y"
         },
         {
          "align": "center",
          "font": {
           "color": "black",
           "family": "Arial",
           "size": 12
          },
          "showarrow": false,
          "text": "-16",
          "x": 2018.0333333333333,
          "xref": "x",
          "y": -18,
          "yref": "y"
         },
         {
          "align": "center",
          "font": {
           "color": "black",
           "family": "Arial",
           "size": 12
          },
          "showarrow": false,
          "text": "-8",
          "x": 2021.0333333333333,
          "xref": "x",
          "y": -10,
          "yref": "y"
         },
         {
          "align": "center",
          "font": {
           "color": "black",
           "family": "Arial",
           "size": 12
          },
          "showarrow": false,
          "text": "-17",
          "x": 2020.0333333333333,
          "xref": "x",
          "y": -19,
          "yref": "y"
         },
         {
          "align": "center",
          "font": {
           "color": "black",
           "family": "Arial",
           "size": 12
          },
          "showarrow": false,
          "text": "-10",
          "x": 2021.1,
          "xref": "x",
          "y": -12,
          "yref": "y"
         },
         {
          "align": "center",
          "font": {
           "color": "black",
           "family": "Arial",
           "size": 12
          },
          "showarrow": false,
          "text": "-6",
          "x": 2020.1,
          "xref": "x",
          "y": -8,
          "yref": "y"
         },
         {
          "align": "center",
          "font": {
           "color": "black",
           "family": "Arial",
           "size": 12
          },
          "showarrow": false,
          "text": "-14",
          "x": 2018.1,
          "xref": "x",
          "y": -16,
          "yref": "y"
         },
         {
          "align": "center",
          "font": {
           "color": "black",
           "family": "Arial",
           "size": 12
          },
          "showarrow": false,
          "text": "-57",
          "x": 2019.1,
          "xref": "x",
          "y": -59,
          "yref": "y"
         },
         {
          "align": "center",
          "font": {
           "color": "black",
           "family": "Arial",
           "size": 12
          },
          "showarrow": false,
          "text": "-4",
          "x": 2018.1666666666667,
          "xref": "x",
          "y": -6,
          "yref": "y"
         },
         {
          "align": "center",
          "font": {
           "color": "black",
           "family": "Arial",
           "size": 12
          },
          "showarrow": false,
          "text": "-2",
          "x": 2020.1666666666667,
          "xref": "x",
          "y": -4,
          "yref": "y"
         },
         {
          "align": "center",
          "font": {
           "color": "black",
           "family": "Arial",
           "size": 12
          },
          "showarrow": false,
          "text": "-27",
          "x": 2019.1666666666667,
          "xref": "x",
          "y": -29,
          "yref": "y"
         },
         {
          "align": "center",
          "font": {
           "color": "black",
           "family": "Arial",
           "size": 12
          },
          "showarrow": false,
          "text": "-21",
          "x": 2021.1666666666667,
          "xref": "x",
          "y": -23,
          "yref": "y"
         },
         {
          "align": "center",
          "font": {
           "color": "black",
           "family": "Arial",
           "size": 12
          },
          "showarrow": false,
          "text": "-27",
          "x": 2018.2333333333333,
          "xref": "x",
          "y": -29,
          "yref": "y"
         },
         {
          "align": "center",
          "font": {
           "color": "black",
           "family": "Arial",
           "size": 12
          },
          "showarrow": false,
          "text": "-80",
          "x": 2019.2333333333333,
          "xref": "x",
          "y": -82,
          "yref": "y"
         },
         {
          "align": "center",
          "font": {
           "color": "black",
           "family": "Arial",
           "size": 12
          },
          "showarrow": false,
          "text": "-36",
          "x": 2020.2333333333333,
          "xref": "x",
          "y": -38,
          "yref": "y"
         },
         {
          "align": "center",
          "font": {
           "color": "black",
           "family": "Arial",
           "size": 12
          },
          "showarrow": false,
          "text": "-21",
          "x": 2021.2333333333333,
          "xref": "x",
          "y": -23,
          "yref": "y"
         },
         {
          "align": "center",
          "font": {
           "color": "black",
           "family": "Arial",
           "size": 12
          },
          "showarrow": false,
          "text": "-6",
          "x": 2019.3,
          "xref": "x",
          "y": -8,
          "yref": "y"
         },
         {
          "align": "center",
          "font": {
           "color": "black",
           "family": "Arial",
           "size": 12
          },
          "showarrow": false,
          "text": "5",
          "x": 2020.3,
          "xref": "x",
          "y": 7,
          "yref": "y"
         },
         {
          "align": "center",
          "font": {
           "color": "black",
           "family": "Arial",
           "size": 12
          },
          "showarrow": false,
          "text": "-37",
          "x": 2018.3,
          "xref": "x",
          "y": -39,
          "yref": "y"
         },
         {
          "align": "center",
          "font": {
           "color": "black",
           "family": "Arial",
           "size": 12
          },
          "showarrow": false,
          "text": "6",
          "x": 2021.3,
          "xref": "x",
          "y": 8,
          "yref": "y"
         },
         {
          "align": "center",
          "font": {
           "color": "black",
           "family": "Arial",
           "size": 12
          },
          "showarrow": false,
          "text": "-7",
          "x": 2018.3666666666666,
          "xref": "x",
          "y": -9,
          "yref": "y"
         },
         {
          "align": "center",
          "font": {
           "color": "black",
           "family": "Arial",
           "size": 12
          },
          "showarrow": false,
          "text": "3",
          "x": 2021.3666666666666,
          "xref": "x",
          "y": 5,
          "yref": "y"
         },
         {
          "align": "center",
          "font": {
           "color": "black",
           "family": "Arial",
           "size": 12
          },
          "showarrow": false,
          "text": "2",
          "x": 2020.3666666666666,
          "xref": "x",
          "y": 4,
          "yref": "y"
         },
         {
          "align": "center",
          "font": {
           "color": "black",
           "family": "Arial",
           "size": 12
          },
          "showarrow": false,
          "text": "11",
          "x": 2019.3666666666666,
          "xref": "x",
          "y": 13,
          "yref": "y"
         }
        ],
        "barmode": "group",
        "template": {
         "data": {
          "bar": [
           {
            "error_x": {
             "color": "#2a3f5f"
            },
            "error_y": {
             "color": "#2a3f5f"
            },
            "marker": {
             "line": {
              "color": "#E5ECF6",
              "width": 0.5
             },
             "pattern": {
              "fillmode": "overlay",
              "size": 10,
              "solidity": 0.2
             }
            },
            "type": "bar"
           }
          ],
          "barpolar": [
           {
            "marker": {
             "line": {
              "color": "#E5ECF6",
              "width": 0.5
             },
             "pattern": {
              "fillmode": "overlay",
              "size": 10,
              "solidity": 0.2
             }
            },
            "type": "barpolar"
           }
          ],
          "carpet": [
           {
            "aaxis": {
             "endlinecolor": "#2a3f5f",
             "gridcolor": "white",
             "linecolor": "white",
             "minorgridcolor": "white",
             "startlinecolor": "#2a3f5f"
            },
            "baxis": {
             "endlinecolor": "#2a3f5f",
             "gridcolor": "white",
             "linecolor": "white",
             "minorgridcolor": "white",
             "startlinecolor": "#2a3f5f"
            },
            "type": "carpet"
           }
          ],
          "choropleth": [
           {
            "colorbar": {
             "outlinewidth": 0,
             "ticks": ""
            },
            "type": "choropleth"
           }
          ],
          "contour": [
           {
            "colorbar": {
             "outlinewidth": 0,
             "ticks": ""
            },
            "colorscale": [
             [
              0,
              "#0d0887"
             ],
             [
              0.1111111111111111,
              "#46039f"
             ],
             [
              0.2222222222222222,
              "#7201a8"
             ],
             [
              0.3333333333333333,
              "#9c179e"
             ],
             [
              0.4444444444444444,
              "#bd3786"
             ],
             [
              0.5555555555555556,
              "#d8576b"
             ],
             [
              0.6666666666666666,
              "#ed7953"
             ],
             [
              0.7777777777777778,
              "#fb9f3a"
             ],
             [
              0.8888888888888888,
              "#fdca26"
             ],
             [
              1,
              "#f0f921"
             ]
            ],
            "type": "contour"
           }
          ],
          "contourcarpet": [
           {
            "colorbar": {
             "outlinewidth": 0,
             "ticks": ""
            },
            "type": "contourcarpet"
           }
          ],
          "heatmap": [
           {
            "colorbar": {
             "outlinewidth": 0,
             "ticks": ""
            },
            "colorscale": [
             [
              0,
              "#0d0887"
             ],
             [
              0.1111111111111111,
              "#46039f"
             ],
             [
              0.2222222222222222,
              "#7201a8"
             ],
             [
              0.3333333333333333,
              "#9c179e"
             ],
             [
              0.4444444444444444,
              "#bd3786"
             ],
             [
              0.5555555555555556,
              "#d8576b"
             ],
             [
              0.6666666666666666,
              "#ed7953"
             ],
             [
              0.7777777777777778,
              "#fb9f3a"
             ],
             [
              0.8888888888888888,
              "#fdca26"
             ],
             [
              1,
              "#f0f921"
             ]
            ],
            "type": "heatmap"
           }
          ],
          "heatmapgl": [
           {
            "colorbar": {
             "outlinewidth": 0,
             "ticks": ""
            },
            "colorscale": [
             [
              0,
              "#0d0887"
             ],
             [
              0.1111111111111111,
              "#46039f"
             ],
             [
              0.2222222222222222,
              "#7201a8"
             ],
             [
              0.3333333333333333,
              "#9c179e"
             ],
             [
              0.4444444444444444,
              "#bd3786"
             ],
             [
              0.5555555555555556,
              "#d8576b"
             ],
             [
              0.6666666666666666,
              "#ed7953"
             ],
             [
              0.7777777777777778,
              "#fb9f3a"
             ],
             [
              0.8888888888888888,
              "#fdca26"
             ],
             [
              1,
              "#f0f921"
             ]
            ],
            "type": "heatmapgl"
           }
          ],
          "histogram": [
           {
            "marker": {
             "pattern": {
              "fillmode": "overlay",
              "size": 10,
              "solidity": 0.2
             }
            },
            "type": "histogram"
           }
          ],
          "histogram2d": [
           {
            "colorbar": {
             "outlinewidth": 0,
             "ticks": ""
            },
            "colorscale": [
             [
              0,
              "#0d0887"
             ],
             [
              0.1111111111111111,
              "#46039f"
             ],
             [
              0.2222222222222222,
              "#7201a8"
             ],
             [
              0.3333333333333333,
              "#9c179e"
             ],
             [
              0.4444444444444444,
              "#bd3786"
             ],
             [
              0.5555555555555556,
              "#d8576b"
             ],
             [
              0.6666666666666666,
              "#ed7953"
             ],
             [
              0.7777777777777778,
              "#fb9f3a"
             ],
             [
              0.8888888888888888,
              "#fdca26"
             ],
             [
              1,
              "#f0f921"
             ]
            ],
            "type": "histogram2d"
           }
          ],
          "histogram2dcontour": [
           {
            "colorbar": {
             "outlinewidth": 0,
             "ticks": ""
            },
            "colorscale": [
             [
              0,
              "#0d0887"
             ],
             [
              0.1111111111111111,
              "#46039f"
             ],
             [
              0.2222222222222222,
              "#7201a8"
             ],
             [
              0.3333333333333333,
              "#9c179e"
             ],
             [
              0.4444444444444444,
              "#bd3786"
             ],
             [
              0.5555555555555556,
              "#d8576b"
             ],
             [
              0.6666666666666666,
              "#ed7953"
             ],
             [
              0.7777777777777778,
              "#fb9f3a"
             ],
             [
              0.8888888888888888,
              "#fdca26"
             ],
             [
              1,
              "#f0f921"
             ]
            ],
            "type": "histogram2dcontour"
           }
          ],
          "mesh3d": [
           {
            "colorbar": {
             "outlinewidth": 0,
             "ticks": ""
            },
            "type": "mesh3d"
           }
          ],
          "parcoords": [
           {
            "line": {
             "colorbar": {
              "outlinewidth": 0,
              "ticks": ""
             }
            },
            "type": "parcoords"
           }
          ],
          "pie": [
           {
            "automargin": true,
            "type": "pie"
           }
          ],
          "scatter": [
           {
            "fillpattern": {
             "fillmode": "overlay",
             "size": 10,
             "solidity": 0.2
            },
            "type": "scatter"
           }
          ],
          "scatter3d": [
           {
            "line": {
             "colorbar": {
              "outlinewidth": 0,
              "ticks": ""
             }
            },
            "marker": {
             "colorbar": {
              "outlinewidth": 0,
              "ticks": ""
             }
            },
            "type": "scatter3d"
           }
          ],
          "scattercarpet": [
           {
            "marker": {
             "colorbar": {
              "outlinewidth": 0,
              "ticks": ""
             }
            },
            "type": "scattercarpet"
           }
          ],
          "scattergeo": [
           {
            "marker": {
             "colorbar": {
              "outlinewidth": 0,
              "ticks": ""
             }
            },
            "type": "scattergeo"
           }
          ],
          "scattergl": [
           {
            "marker": {
             "colorbar": {
              "outlinewidth": 0,
              "ticks": ""
             }
            },
            "type": "scattergl"
           }
          ],
          "scattermapbox": [
           {
            "marker": {
             "colorbar": {
              "outlinewidth": 0,
              "ticks": ""
             }
            },
            "type": "scattermapbox"
           }
          ],
          "scatterpolar": [
           {
            "marker": {
             "colorbar": {
              "outlinewidth": 0,
              "ticks": ""
             }
            },
            "type": "scatterpolar"
           }
          ],
          "scatterpolargl": [
           {
            "marker": {
             "colorbar": {
              "outlinewidth": 0,
              "ticks": ""
             }
            },
            "type": "scatterpolargl"
           }
          ],
          "scatterternary": [
           {
            "marker": {
             "colorbar": {
              "outlinewidth": 0,
              "ticks": ""
             }
            },
            "type": "scatterternary"
           }
          ],
          "surface": [
           {
            "colorbar": {
             "outlinewidth": 0,
             "ticks": ""
            },
            "colorscale": [
             [
              0,
              "#0d0887"
             ],
             [
              0.1111111111111111,
              "#46039f"
             ],
             [
              0.2222222222222222,
              "#7201a8"
             ],
             [
              0.3333333333333333,
              "#9c179e"
             ],
             [
              0.4444444444444444,
              "#bd3786"
             ],
             [
              0.5555555555555556,
              "#d8576b"
             ],
             [
              0.6666666666666666,
              "#ed7953"
             ],
             [
              0.7777777777777778,
              "#fb9f3a"
             ],
             [
              0.8888888888888888,
              "#fdca26"
             ],
             [
              1,
              "#f0f921"
             ]
            ],
            "type": "surface"
           }
          ],
          "table": [
           {
            "cells": {
             "fill": {
              "color": "#EBF0F8"
             },
             "line": {
              "color": "white"
             }
            },
            "header": {
             "fill": {
              "color": "#C8D4E3"
             },
             "line": {
              "color": "white"
             }
            },
            "type": "table"
           }
          ]
         },
         "layout": {
          "annotationdefaults": {
           "arrowcolor": "#2a3f5f",
           "arrowhead": 0,
           "arrowwidth": 1
          },
          "autotypenumbers": "strict",
          "coloraxis": {
           "colorbar": {
            "outlinewidth": 0,
            "ticks": ""
           }
          },
          "colorscale": {
           "diverging": [
            [
             0,
             "#8e0152"
            ],
            [
             0.1,
             "#c51b7d"
            ],
            [
             0.2,
             "#de77ae"
            ],
            [
             0.3,
             "#f1b6da"
            ],
            [
             0.4,
             "#fde0ef"
            ],
            [
             0.5,
             "#f7f7f7"
            ],
            [
             0.6,
             "#e6f5d0"
            ],
            [
             0.7,
             "#b8e186"
            ],
            [
             0.8,
             "#7fbc41"
            ],
            [
             0.9,
             "#4d9221"
            ],
            [
             1,
             "#276419"
            ]
           ],
           "sequential": [
            [
             0,
             "#0d0887"
            ],
            [
             0.1111111111111111,
             "#46039f"
            ],
            [
             0.2222222222222222,
             "#7201a8"
            ],
            [
             0.3333333333333333,
             "#9c179e"
            ],
            [
             0.4444444444444444,
             "#bd3786"
            ],
            [
             0.5555555555555556,
             "#d8576b"
            ],
            [
             0.6666666666666666,
             "#ed7953"
            ],
            [
             0.7777777777777778,
             "#fb9f3a"
            ],
            [
             0.8888888888888888,
             "#fdca26"
            ],
            [
             1,
             "#f0f921"
            ]
           ],
           "sequentialminus": [
            [
             0,
             "#0d0887"
            ],
            [
             0.1111111111111111,
             "#46039f"
            ],
            [
             0.2222222222222222,
             "#7201a8"
            ],
            [
             0.3333333333333333,
             "#9c179e"
            ],
            [
             0.4444444444444444,
             "#bd3786"
            ],
            [
             0.5555555555555556,
             "#d8576b"
            ],
            [
             0.6666666666666666,
             "#ed7953"
            ],
            [
             0.7777777777777778,
             "#fb9f3a"
            ],
            [
             0.8888888888888888,
             "#fdca26"
            ],
            [
             1,
             "#f0f921"
            ]
           ]
          },
          "colorway": [
           "#636efa",
           "#EF553B",
           "#00cc96",
           "#ab63fa",
           "#FFA15A",
           "#19d3f3",
           "#FF6692",
           "#B6E880",
           "#FF97FF",
           "#FECB52"
          ],
          "font": {
           "color": "#2a3f5f"
          },
          "geo": {
           "bgcolor": "white",
           "lakecolor": "white",
           "landcolor": "#E5ECF6",
           "showlakes": true,
           "showland": true,
           "subunitcolor": "white"
          },
          "hoverlabel": {
           "align": "left"
          },
          "hovermode": "closest",
          "mapbox": {
           "style": "light"
          },
          "paper_bgcolor": "white",
          "plot_bgcolor": "#E5ECF6",
          "polar": {
           "angularaxis": {
            "gridcolor": "white",
            "linecolor": "white",
            "ticks": ""
           },
           "bgcolor": "#E5ECF6",
           "radialaxis": {
            "gridcolor": "white",
            "linecolor": "white",
            "ticks": ""
           }
          },
          "scene": {
           "xaxis": {
            "backgroundcolor": "#E5ECF6",
            "gridcolor": "white",
            "gridwidth": 2,
            "linecolor": "white",
            "showbackground": true,
            "ticks": "",
            "zerolinecolor": "white"
           },
           "yaxis": {
            "backgroundcolor": "#E5ECF6",
            "gridcolor": "white",
            "gridwidth": 2,
            "linecolor": "white",
            "showbackground": true,
            "ticks": "",
            "zerolinecolor": "white"
           },
           "zaxis": {
            "backgroundcolor": "#E5ECF6",
            "gridcolor": "white",
            "gridwidth": 2,
            "linecolor": "white",
            "showbackground": true,
            "ticks": "",
            "zerolinecolor": "white"
           }
          },
          "shapedefaults": {
           "line": {
            "color": "#2a3f5f"
           }
          },
          "ternary": {
           "aaxis": {
            "gridcolor": "white",
            "linecolor": "white",
            "ticks": ""
           },
           "baxis": {
            "gridcolor": "white",
            "linecolor": "white",
            "ticks": ""
           },
           "bgcolor": "#E5ECF6",
           "caxis": {
            "gridcolor": "white",
            "linecolor": "white",
            "ticks": ""
           }
          },
          "title": {
           "x": 0.05
          },
          "xaxis": {
           "automargin": true,
           "gridcolor": "white",
           "linecolor": "white",
           "ticks": "",
           "title": {
            "standoff": 15
           },
           "zerolinecolor": "white",
           "zerolinewidth": 2
          },
          "yaxis": {
           "automargin": true,
           "gridcolor": "white",
           "linecolor": "white",
           "ticks": "",
           "title": {
            "standoff": 15
           },
           "zerolinecolor": "white",
           "zerolinewidth": 2
          }
         }
        },
        "title": {
         "text": "Difference in FPTS_rank_change by Position"
        },
        "xaxis": {
         "title": {
          "text": "Year"
         }
        },
        "yaxis": {
         "title": {
          "text": "Difference in FPTS_rank_change"
         }
        }
       }
      }
     },
     "metadata": {},
     "output_type": "display_data"
    }
   ],
   "source": [
    "consistency_chart(df.copy(), 'rb')"
   ]
  },
  {
   "cell_type": "code",
   "execution_count": 29,
   "metadata": {},
   "outputs": [
    {
     "data": {
      "application/vnd.plotly.v1+json": {
       "config": {
        "plotlyServerURL": "https://plot.ly"
       },
       "data": [
        {
         "customdata": [
          [
           "Cooper Kupp",
           1,
           24,
           9
          ],
          [
           "Davante Adams",
           1,
           3,
           16
          ],
          [
           "Tyreek Hill",
           1,
           30,
           12
          ],
          [
           "Michael Thomas",
           1,
           87,
           7
          ]
         ],
         "hovertemplate": "Player: %{customdata[0]}<br>FPTS_rank_current: %{customdata[1]}<br>FPTS_rank_change: %{y}<br>FPTS_rank_next: %{customdata[2]}<br>FPTS_G: %{customdata[3]}<br><extra></extra>",
         "name": "1.0",
         "type": "bar",
         "width": 0.06666666666666667,
         "x": [
          2020.6333333333334,
          2019.6333333333334,
          2017.6333333333334,
          2018.6333333333334
         ],
         "y": [
          -23,
          -2,
          -29,
          -86
         ]
        },
        {
         "customdata": [
          [
           "Deebo Samuel",
           2,
           38,
           13
          ],
          [
           "DeAndre Hopkins",
           2,
           5,
           15
          ],
          [
           "Tyreek Hill",
           2,
           6,
           17
          ],
          [
           "Chris Godwin",
           2,
           32,
           12
          ]
         ],
         "hovertemplate": "Player: %{customdata[0]}<br>FPTS_rank_current: %{customdata[1]}<br>FPTS_rank_change: %{y}<br>FPTS_rank_next: %{customdata[2]}<br>FPTS_G: %{customdata[3]}<br><extra></extra>",
         "name": "2.0",
         "type": "bar",
         "width": 0.06666666666666667,
         "x": [
          2020.7,
          2017.7,
          2019.7,
          2018.7
         ],
         "y": [
          -36,
          -3,
          -4,
          -30
         ]
        },
        {
         "customdata": [
          [
           "Stefon Diggs",
           3,
           7,
           17
          ],
          [
           "Julio Jones",
           3,
           50,
           9
          ],
          [
           "Davante Adams",
           3,
           2,
           17
          ],
          [
           "Davante Adams",
           3,
           24,
           12
          ]
         ],
         "hovertemplate": "Player: %{customdata[0]}<br>FPTS_rank_current: %{customdata[1]}<br>FPTS_rank_change: %{y}<br>FPTS_rank_next: %{customdata[2]}<br>FPTS_G: %{customdata[3]}<br><extra></extra>",
         "name": "3.0",
         "type": "bar",
         "width": 0.06666666666666667,
         "x": [
          2019.7666666666667,
          2018.7666666666667,
          2020.7666666666667,
          2017.7666666666667
         ],
         "y": [
          -4,
          -47,
          1,
          -21
         ]
        },
        {
         "customdata": [
          [
           "Calvin Ridley",
           4,
           93,
           5
          ],
          [
           "Justin Jefferson",
           4,
           1,
           17
          ],
          [
           "Cooper Kupp",
           4,
           27,
           15
          ],
          [
           "Antonio Brown",
           4,
           117,
           1
          ]
         ],
         "hovertemplate": "Player: %{customdata[0]}<br>FPTS_rank_current: %{customdata[1]}<br>FPTS_rank_change: %{y}<br>FPTS_rank_next: %{customdata[2]}<br>FPTS_G: %{customdata[3]}<br><extra></extra>",
         "name": "4.0",
         "type": "bar",
         "width": 0.06666666666666667,
         "x": [
          2019.8333333333333,
          2020.8333333333333,
          2018.8333333333333,
          2017.8333333333333
         ],
         "y": [
          -89,
          3,
          -23,
          -113
         ]
        },
        {
         "customdata": [
          [
           "Julio Jones",
           5,
           3,
           15
          ],
          [
           "Ja'Marr Chase",
           5,
           12,
           13
          ],
          [
           "DeAndre Hopkins",
           5,
           5,
           16
          ],
          [
           "DeAndre Hopkins",
           5,
           42,
           10
          ]
         ],
         "hovertemplate": "Player: %{customdata[0]}<br>FPTS_rank_current: %{customdata[1]}<br>FPTS_rank_change: %{y}<br>FPTS_rank_next: %{customdata[2]}<br>FPTS_G: %{customdata[3]}<br><extra></extra>",
         "name": "5.0",
         "type": "bar",
         "width": 0.06666666666666667,
         "x": [
          2017.9,
          2020.9,
          2018.9,
          2019.9
         ],
         "y": [
          2,
          -7,
          0,
          -37
         ]
        },
        {
         "customdata": [
          [
           "Michael Thomas",
           6,
           1,
           16
          ],
          [
           "Tyreek Hill",
           6,
           3,
           17
          ],
          [
           "Kenny Golladay",
           6,
           91,
           5
          ],
          [
           "Justin Jefferson",
           6,
           4,
           17
          ]
         ],
         "hovertemplate": "Player: %{customdata[0]}<br>FPTS_rank_current: %{customdata[1]}<br>FPTS_rank_change: %{y}<br>FPTS_rank_next: %{customdata[2]}<br>FPTS_G: %{customdata[3]}<br><extra></extra>",
         "name": "6.0",
         "type": "bar",
         "width": 0.06666666666666667,
         "x": [
          2017.9666666666667,
          2020.9666666666667,
          2018.9666666666667,
          2019.9666666666667
         ],
         "y": [
          5,
          3,
          -85,
          2
         ]
        },
        {
         "customdata": [
          [
           "Adam Thielen",
           7,
           61,
           10
          ],
          [
           "Stefon Diggs",
           7,
           4,
           17
          ],
          [
           "DeVante Parker",
           7,
           41,
           14
          ],
          [
           "DK Metcalf",
           7,
           12,
           17
          ]
         ],
         "hovertemplate": "Player: %{customdata[0]}<br>FPTS_rank_current: %{customdata[1]}<br>FPTS_rank_change: %{y}<br>FPTS_rank_next: %{customdata[2]}<br>FPTS_G: %{customdata[3]}<br><extra></extra>",
         "name": "7.0",
         "type": "bar",
         "width": 0.06666666666666667,
         "x": [
          2018.0333333333333,
          2021.0333333333333,
          2019.0333333333333,
          2020.0333333333333
         ],
         "y": [
          -54,
          3,
          -34,
          -5
         ]
        },
        {
         "customdata": [
          [
           "Mike Evans",
           8,
           16,
           15
          ],
          [
           "Adam Thielen",
           8,
           28,
           13
          ],
          [
           "Mike Evans",
           8,
           12,
           13
          ],
          [
           "JuJu Smith-Schuster",
           8,
           65,
           12
          ],
          [
           "Keenan Allen",
           8,
           14,
           14
          ]
         ],
         "hovertemplate": "Player: %{customdata[0]}<br>FPTS_rank_current: %{customdata[1]}<br>FPTS_rank_change: %{y}<br>FPTS_rank_next: %{customdata[2]}<br>FPTS_G: %{customdata[3]}<br><extra></extra>",
         "name": "8.0",
         "type": "bar",
         "width": 0.06666666666666667,
         "x": [
          2021.1,
          2020.1,
          2018.1,
          2018.1,
          2019.1
         ],
         "y": [
          -8,
          -20,
          -4,
          -57,
          -6
         ]
        },
        {
         "customdata": [
          [
           "Amari Cooper",
           9,
           16,
           16
          ],
          [
           "Diontae Johnson",
           9,
           39,
           17
          ],
          [
           "Tyler Lockett",
           9,
           13,
           16
          ]
         ],
         "hovertemplate": "Player: %{customdata[0]}<br>FPTS_rank_current: %{customdata[1]}<br>FPTS_rank_change: %{y}<br>FPTS_rank_next: %{customdata[2]}<br>FPTS_G: %{customdata[3]}<br><extra></extra>",
         "name": "9.0",
         "type": "bar",
         "width": 0.06666666666666667,
         "x": [
          2019.1666666666667,
          2021.1666666666667,
          2020.1666666666667
         ],
         "y": [
          -7,
          -30,
          -4
         ]
        },
        {
         "customdata": [
          [
           "Mike Evans",
           10,
           8,
           16
          ],
          [
           "Julian Edelman",
           10,
           94,
           6
          ],
          [
           "Mike Williams",
           10,
           31,
           13
          ],
          [
           "Robert Woods",
           10,
           17,
           15
          ]
         ],
         "hovertemplate": "Player: %{customdata[0]}<br>FPTS_rank_current: %{customdata[1]}<br>FPTS_rank_change: %{y}<br>FPTS_rank_next: %{customdata[2]}<br>FPTS_G: %{customdata[3]}<br><extra></extra>",
         "name": "10.0",
         "type": "bar",
         "width": 0.06666666666666667,
         "x": [
          2020.2333333333333,
          2019.2333333333333,
          2021.2333333333333,
          2018.2333333333333
         ],
         "y": [
          2,
          -84,
          -21,
          -7
         ]
        },
        {
         "customdata": [
          [
           "Stefon Diggs",
           11,
           21,
           15
          ],
          [
           "A.J. Brown",
           11,
           32,
           13
          ],
          [
           "Hunter Renfrow",
           11,
           71,
           10
          ],
          [
           "Allen Robinson",
           11,
           12,
           16
          ]
         ],
         "hovertemplate": "Player: %{customdata[0]}<br>FPTS_rank_current: %{customdata[1]}<br>FPTS_rank_change: %{y}<br>FPTS_rank_next: %{customdata[2]}<br>FPTS_G: %{customdata[3]}<br><extra></extra>",
         "name": "11.0",
         "type": "bar",
         "width": 0.06666666666666667,
         "x": [
          2018.3,
          2020.3,
          2021.3,
          2019.3
         ],
         "y": [
          -10,
          -21,
          -60,
          -1
         ]
        },
        {
         "customdata": [
          [
           "Allen Robinson",
           12,
           78,
           12
          ],
          [
           "Keenan Allen",
           12,
           8,
           16
          ],
          [
           "DK Metcalf",
           12,
           18,
           17
          ],
          [
           "Mike Evans",
           12,
           10,
           16
          ]
         ],
         "hovertemplate": "Player: %{customdata[0]}<br>FPTS_rank_current: %{customdata[1]}<br>FPTS_rank_change: %{y}<br>FPTS_rank_next: %{customdata[2]}<br>FPTS_G: %{customdata[3]}<br><extra></extra>",
         "name": "12.0",
         "type": "bar",
         "width": 0.06666666666666667,
         "x": [
          2020.3666666666666,
          2018.3666666666666,
          2021.3666666666666,
          2019.3666666666666
         ],
         "y": [
          -66,
          4,
          -6,
          2
         ]
        }
       ],
       "layout": {
        "annotations": [
         {
          "align": "center",
          "font": {
           "color": "black",
           "family": "Arial",
           "size": 12
          },
          "showarrow": false,
          "text": "-23",
          "x": 2020.6333333333334,
          "xref": "x",
          "y": -25,
          "yref": "y"
         },
         {
          "align": "center",
          "font": {
           "color": "black",
           "family": "Arial",
           "size": 12
          },
          "showarrow": false,
          "text": "-2",
          "x": 2019.6333333333334,
          "xref": "x",
          "y": -4,
          "yref": "y"
         },
         {
          "align": "center",
          "font": {
           "color": "black",
           "family": "Arial",
           "size": 12
          },
          "showarrow": false,
          "text": "-29",
          "x": 2017.6333333333334,
          "xref": "x",
          "y": -31,
          "yref": "y"
         },
         {
          "align": "center",
          "font": {
           "color": "black",
           "family": "Arial",
           "size": 12
          },
          "showarrow": false,
          "text": "-86",
          "x": 2018.6333333333334,
          "xref": "x",
          "y": -88,
          "yref": "y"
         },
         {
          "align": "center",
          "font": {
           "color": "black",
           "family": "Arial",
           "size": 12
          },
          "showarrow": false,
          "text": "-36",
          "x": 2020.7,
          "xref": "x",
          "y": -38,
          "yref": "y"
         },
         {
          "align": "center",
          "font": {
           "color": "black",
           "family": "Arial",
           "size": 12
          },
          "showarrow": false,
          "text": "-3",
          "x": 2017.7,
          "xref": "x",
          "y": -5,
          "yref": "y"
         },
         {
          "align": "center",
          "font": {
           "color": "black",
           "family": "Arial",
           "size": 12
          },
          "showarrow": false,
          "text": "-4",
          "x": 2019.7,
          "xref": "x",
          "y": -6,
          "yref": "y"
         },
         {
          "align": "center",
          "font": {
           "color": "black",
           "family": "Arial",
           "size": 12
          },
          "showarrow": false,
          "text": "-30",
          "x": 2018.7,
          "xref": "x",
          "y": -32,
          "yref": "y"
         },
         {
          "align": "center",
          "font": {
           "color": "black",
           "family": "Arial",
           "size": 12
          },
          "showarrow": false,
          "text": "-4",
          "x": 2019.7666666666667,
          "xref": "x",
          "y": -6,
          "yref": "y"
         },
         {
          "align": "center",
          "font": {
           "color": "black",
           "family": "Arial",
           "size": 12
          },
          "showarrow": false,
          "text": "-47",
          "x": 2018.7666666666667,
          "xref": "x",
          "y": -49,
          "yref": "y"
         },
         {
          "align": "center",
          "font": {
           "color": "black",
           "family": "Arial",
           "size": 12
          },
          "showarrow": false,
          "text": "1",
          "x": 2020.7666666666667,
          "xref": "x",
          "y": 3,
          "yref": "y"
         },
         {
          "align": "center",
          "font": {
           "color": "black",
           "family": "Arial",
           "size": 12
          },
          "showarrow": false,
          "text": "-21",
          "x": 2017.7666666666667,
          "xref": "x",
          "y": -23,
          "yref": "y"
         },
         {
          "align": "center",
          "font": {
           "color": "black",
           "family": "Arial",
           "size": 12
          },
          "showarrow": false,
          "text": "-89",
          "x": 2019.8333333333333,
          "xref": "x",
          "y": -91,
          "yref": "y"
         },
         {
          "align": "center",
          "font": {
           "color": "black",
           "family": "Arial",
           "size": 12
          },
          "showarrow": false,
          "text": "3",
          "x": 2020.8333333333333,
          "xref": "x",
          "y": 5,
          "yref": "y"
         },
         {
          "align": "center",
          "font": {
           "color": "black",
           "family": "Arial",
           "size": 12
          },
          "showarrow": false,
          "text": "-23",
          "x": 2018.8333333333333,
          "xref": "x",
          "y": -25,
          "yref": "y"
         },
         {
          "align": "center",
          "font": {
           "color": "black",
           "family": "Arial",
           "size": 12
          },
          "showarrow": false,
          "text": "-113",
          "x": 2017.8333333333333,
          "xref": "x",
          "y": -115,
          "yref": "y"
         },
         {
          "align": "center",
          "font": {
           "color": "black",
           "family": "Arial",
           "size": 12
          },
          "showarrow": false,
          "text": "2",
          "x": 2017.9,
          "xref": "x",
          "y": 4,
          "yref": "y"
         },
         {
          "align": "center",
          "font": {
           "color": "black",
           "family": "Arial",
           "size": 12
          },
          "showarrow": false,
          "text": "-7",
          "x": 2020.9,
          "xref": "x",
          "y": -9,
          "yref": "y"
         },
         {
          "align": "center",
          "font": {
           "color": "black",
           "family": "Arial",
           "size": 12
          },
          "showarrow": false,
          "text": "0",
          "x": 2018.9,
          "xref": "x",
          "y": 2,
          "yref": "y"
         },
         {
          "align": "center",
          "font": {
           "color": "black",
           "family": "Arial",
           "size": 12
          },
          "showarrow": false,
          "text": "-37",
          "x": 2019.9,
          "xref": "x",
          "y": -39,
          "yref": "y"
         },
         {
          "align": "center",
          "font": {
           "color": "black",
           "family": "Arial",
           "size": 12
          },
          "showarrow": false,
          "text": "5",
          "x": 2017.9666666666667,
          "xref": "x",
          "y": 7,
          "yref": "y"
         },
         {
          "align": "center",
          "font": {
           "color": "black",
           "family": "Arial",
           "size": 12
          },
          "showarrow": false,
          "text": "3",
          "x": 2020.9666666666667,
          "xref": "x",
          "y": 5,
          "yref": "y"
         },
         {
          "align": "center",
          "font": {
           "color": "black",
           "family": "Arial",
           "size": 12
          },
          "showarrow": false,
          "text": "-85",
          "x": 2018.9666666666667,
          "xref": "x",
          "y": -87,
          "yref": "y"
         },
         {
          "align": "center",
          "font": {
           "color": "black",
           "family": "Arial",
           "size": 12
          },
          "showarrow": false,
          "text": "2",
          "x": 2019.9666666666667,
          "xref": "x",
          "y": 4,
          "yref": "y"
         },
         {
          "align": "center",
          "font": {
           "color": "black",
           "family": "Arial",
           "size": 12
          },
          "showarrow": false,
          "text": "-54",
          "x": 2018.0333333333333,
          "xref": "x",
          "y": -56,
          "yref": "y"
         },
         {
          "align": "center",
          "font": {
           "color": "black",
           "family": "Arial",
           "size": 12
          },
          "showarrow": false,
          "text": "3",
          "x": 2021.0333333333333,
          "xref": "x",
          "y": 5,
          "yref": "y"
         },
         {
          "align": "center",
          "font": {
           "color": "black",
           "family": "Arial",
           "size": 12
          },
          "showarrow": false,
          "text": "-34",
          "x": 2019.0333333333333,
          "xref": "x",
          "y": -36,
          "yref": "y"
         },
         {
          "align": "center",
          "font": {
           "color": "black",
           "family": "Arial",
           "size": 12
          },
          "showarrow": false,
          "text": "-5",
          "x": 2020.0333333333333,
          "xref": "x",
          "y": -7,
          "yref": "y"
         },
         {
          "align": "center",
          "font": {
           "color": "black",
           "family": "Arial",
           "size": 12
          },
          "showarrow": false,
          "text": "-8",
          "x": 2021.1,
          "xref": "x",
          "y": -10,
          "yref": "y"
         },
         {
          "align": "center",
          "font": {
           "color": "black",
           "family": "Arial",
           "size": 12
          },
          "showarrow": false,
          "text": "-20",
          "x": 2020.1,
          "xref": "x",
          "y": -22,
          "yref": "y"
         },
         {
          "align": "center",
          "font": {
           "color": "black",
           "family": "Arial",
           "size": 12
          },
          "showarrow": false,
          "text": "-4",
          "x": 2018.1,
          "xref": "x",
          "y": -6,
          "yref": "y"
         },
         {
          "align": "center",
          "font": {
           "color": "black",
           "family": "Arial",
           "size": 12
          },
          "showarrow": false,
          "text": "-57",
          "x": 2018.1,
          "xref": "x",
          "y": -59,
          "yref": "y"
         },
         {
          "align": "center",
          "font": {
           "color": "black",
           "family": "Arial",
           "size": 12
          },
          "showarrow": false,
          "text": "-6",
          "x": 2019.1,
          "xref": "x",
          "y": -8,
          "yref": "y"
         },
         {
          "align": "center",
          "font": {
           "color": "black",
           "family": "Arial",
           "size": 12
          },
          "showarrow": false,
          "text": "-7",
          "x": 2019.1666666666667,
          "xref": "x",
          "y": -9,
          "yref": "y"
         },
         {
          "align": "center",
          "font": {
           "color": "black",
           "family": "Arial",
           "size": 12
          },
          "showarrow": false,
          "text": "-30",
          "x": 2021.1666666666667,
          "xref": "x",
          "y": -32,
          "yref": "y"
         },
         {
          "align": "center",
          "font": {
           "color": "black",
           "family": "Arial",
           "size": 12
          },
          "showarrow": false,
          "text": "-4",
          "x": 2020.1666666666667,
          "xref": "x",
          "y": -6,
          "yref": "y"
         },
         {
          "align": "center",
          "font": {
           "color": "black",
           "family": "Arial",
           "size": 12
          },
          "showarrow": false,
          "text": "2",
          "x": 2020.2333333333333,
          "xref": "x",
          "y": 4,
          "yref": "y"
         },
         {
          "align": "center",
          "font": {
           "color": "black",
           "family": "Arial",
           "size": 12
          },
          "showarrow": false,
          "text": "-84",
          "x": 2019.2333333333333,
          "xref": "x",
          "y": -86,
          "yref": "y"
         },
         {
          "align": "center",
          "font": {
           "color": "black",
           "family": "Arial",
           "size": 12
          },
          "showarrow": false,
          "text": "-21",
          "x": 2021.2333333333333,
          "xref": "x",
          "y": -23,
          "yref": "y"
         },
         {
          "align": "center",
          "font": {
           "color": "black",
           "family": "Arial",
           "size": 12
          },
          "showarrow": false,
          "text": "-7",
          "x": 2018.2333333333333,
          "xref": "x",
          "y": -9,
          "yref": "y"
         },
         {
          "align": "center",
          "font": {
           "color": "black",
           "family": "Arial",
           "size": 12
          },
          "showarrow": false,
          "text": "-10",
          "x": 2018.3,
          "xref": "x",
          "y": -12,
          "yref": "y"
         },
         {
          "align": "center",
          "font": {
           "color": "black",
           "family": "Arial",
           "size": 12
          },
          "showarrow": false,
          "text": "-21",
          "x": 2020.3,
          "xref": "x",
          "y": -23,
          "yref": "y"
         },
         {
          "align": "center",
          "font": {
           "color": "black",
           "family": "Arial",
           "size": 12
          },
          "showarrow": false,
          "text": "-60",
          "x": 2021.3,
          "xref": "x",
          "y": -62,
          "yref": "y"
         },
         {
          "align": "center",
          "font": {
           "color": "black",
           "family": "Arial",
           "size": 12
          },
          "showarrow": false,
          "text": "-1",
          "x": 2019.3,
          "xref": "x",
          "y": -3,
          "yref": "y"
         },
         {
          "align": "center",
          "font": {
           "color": "black",
           "family": "Arial",
           "size": 12
          },
          "showarrow": false,
          "text": "-66",
          "x": 2020.3666666666666,
          "xref": "x",
          "y": -68,
          "yref": "y"
         },
         {
          "align": "center",
          "font": {
           "color": "black",
           "family": "Arial",
           "size": 12
          },
          "showarrow": false,
          "text": "4",
          "x": 2018.3666666666666,
          "xref": "x",
          "y": 6,
          "yref": "y"
         },
         {
          "align": "center",
          "font": {
           "color": "black",
           "family": "Arial",
           "size": 12
          },
          "showarrow": false,
          "text": "-6",
          "x": 2021.3666666666666,
          "xref": "x",
          "y": -8,
          "yref": "y"
         },
         {
          "align": "center",
          "font": {
           "color": "black",
           "family": "Arial",
           "size": 12
          },
          "showarrow": false,
          "text": "2",
          "x": 2019.3666666666666,
          "xref": "x",
          "y": 4,
          "yref": "y"
         }
        ],
        "barmode": "group",
        "template": {
         "data": {
          "bar": [
           {
            "error_x": {
             "color": "#2a3f5f"
            },
            "error_y": {
             "color": "#2a3f5f"
            },
            "marker": {
             "line": {
              "color": "#E5ECF6",
              "width": 0.5
             },
             "pattern": {
              "fillmode": "overlay",
              "size": 10,
              "solidity": 0.2
             }
            },
            "type": "bar"
           }
          ],
          "barpolar": [
           {
            "marker": {
             "line": {
              "color": "#E5ECF6",
              "width": 0.5
             },
             "pattern": {
              "fillmode": "overlay",
              "size": 10,
              "solidity": 0.2
             }
            },
            "type": "barpolar"
           }
          ],
          "carpet": [
           {
            "aaxis": {
             "endlinecolor": "#2a3f5f",
             "gridcolor": "white",
             "linecolor": "white",
             "minorgridcolor": "white",
             "startlinecolor": "#2a3f5f"
            },
            "baxis": {
             "endlinecolor": "#2a3f5f",
             "gridcolor": "white",
             "linecolor": "white",
             "minorgridcolor": "white",
             "startlinecolor": "#2a3f5f"
            },
            "type": "carpet"
           }
          ],
          "choropleth": [
           {
            "colorbar": {
             "outlinewidth": 0,
             "ticks": ""
            },
            "type": "choropleth"
           }
          ],
          "contour": [
           {
            "colorbar": {
             "outlinewidth": 0,
             "ticks": ""
            },
            "colorscale": [
             [
              0,
              "#0d0887"
             ],
             [
              0.1111111111111111,
              "#46039f"
             ],
             [
              0.2222222222222222,
              "#7201a8"
             ],
             [
              0.3333333333333333,
              "#9c179e"
             ],
             [
              0.4444444444444444,
              "#bd3786"
             ],
             [
              0.5555555555555556,
              "#d8576b"
             ],
             [
              0.6666666666666666,
              "#ed7953"
             ],
             [
              0.7777777777777778,
              "#fb9f3a"
             ],
             [
              0.8888888888888888,
              "#fdca26"
             ],
             [
              1,
              "#f0f921"
             ]
            ],
            "type": "contour"
           }
          ],
          "contourcarpet": [
           {
            "colorbar": {
             "outlinewidth": 0,
             "ticks": ""
            },
            "type": "contourcarpet"
           }
          ],
          "heatmap": [
           {
            "colorbar": {
             "outlinewidth": 0,
             "ticks": ""
            },
            "colorscale": [
             [
              0,
              "#0d0887"
             ],
             [
              0.1111111111111111,
              "#46039f"
             ],
             [
              0.2222222222222222,
              "#7201a8"
             ],
             [
              0.3333333333333333,
              "#9c179e"
             ],
             [
              0.4444444444444444,
              "#bd3786"
             ],
             [
              0.5555555555555556,
              "#d8576b"
             ],
             [
              0.6666666666666666,
              "#ed7953"
             ],
             [
              0.7777777777777778,
              "#fb9f3a"
             ],
             [
              0.8888888888888888,
              "#fdca26"
             ],
             [
              1,
              "#f0f921"
             ]
            ],
            "type": "heatmap"
           }
          ],
          "heatmapgl": [
           {
            "colorbar": {
             "outlinewidth": 0,
             "ticks": ""
            },
            "colorscale": [
             [
              0,
              "#0d0887"
             ],
             [
              0.1111111111111111,
              "#46039f"
             ],
             [
              0.2222222222222222,
              "#7201a8"
             ],
             [
              0.3333333333333333,
              "#9c179e"
             ],
             [
              0.4444444444444444,
              "#bd3786"
             ],
             [
              0.5555555555555556,
              "#d8576b"
             ],
             [
              0.6666666666666666,
              "#ed7953"
             ],
             [
              0.7777777777777778,
              "#fb9f3a"
             ],
             [
              0.8888888888888888,
              "#fdca26"
             ],
             [
              1,
              "#f0f921"
             ]
            ],
            "type": "heatmapgl"
           }
          ],
          "histogram": [
           {
            "marker": {
             "pattern": {
              "fillmode": "overlay",
              "size": 10,
              "solidity": 0.2
             }
            },
            "type": "histogram"
           }
          ],
          "histogram2d": [
           {
            "colorbar": {
             "outlinewidth": 0,
             "ticks": ""
            },
            "colorscale": [
             [
              0,
              "#0d0887"
             ],
             [
              0.1111111111111111,
              "#46039f"
             ],
             [
              0.2222222222222222,
              "#7201a8"
             ],
             [
              0.3333333333333333,
              "#9c179e"
             ],
             [
              0.4444444444444444,
              "#bd3786"
             ],
             [
              0.5555555555555556,
              "#d8576b"
             ],
             [
              0.6666666666666666,
              "#ed7953"
             ],
             [
              0.7777777777777778,
              "#fb9f3a"
             ],
             [
              0.8888888888888888,
              "#fdca26"
             ],
             [
              1,
              "#f0f921"
             ]
            ],
            "type": "histogram2d"
           }
          ],
          "histogram2dcontour": [
           {
            "colorbar": {
             "outlinewidth": 0,
             "ticks": ""
            },
            "colorscale": [
             [
              0,
              "#0d0887"
             ],
             [
              0.1111111111111111,
              "#46039f"
             ],
             [
              0.2222222222222222,
              "#7201a8"
             ],
             [
              0.3333333333333333,
              "#9c179e"
             ],
             [
              0.4444444444444444,
              "#bd3786"
             ],
             [
              0.5555555555555556,
              "#d8576b"
             ],
             [
              0.6666666666666666,
              "#ed7953"
             ],
             [
              0.7777777777777778,
              "#fb9f3a"
             ],
             [
              0.8888888888888888,
              "#fdca26"
             ],
             [
              1,
              "#f0f921"
             ]
            ],
            "type": "histogram2dcontour"
           }
          ],
          "mesh3d": [
           {
            "colorbar": {
             "outlinewidth": 0,
             "ticks": ""
            },
            "type": "mesh3d"
           }
          ],
          "parcoords": [
           {
            "line": {
             "colorbar": {
              "outlinewidth": 0,
              "ticks": ""
             }
            },
            "type": "parcoords"
           }
          ],
          "pie": [
           {
            "automargin": true,
            "type": "pie"
           }
          ],
          "scatter": [
           {
            "fillpattern": {
             "fillmode": "overlay",
             "size": 10,
             "solidity": 0.2
            },
            "type": "scatter"
           }
          ],
          "scatter3d": [
           {
            "line": {
             "colorbar": {
              "outlinewidth": 0,
              "ticks": ""
             }
            },
            "marker": {
             "colorbar": {
              "outlinewidth": 0,
              "ticks": ""
             }
            },
            "type": "scatter3d"
           }
          ],
          "scattercarpet": [
           {
            "marker": {
             "colorbar": {
              "outlinewidth": 0,
              "ticks": ""
             }
            },
            "type": "scattercarpet"
           }
          ],
          "scattergeo": [
           {
            "marker": {
             "colorbar": {
              "outlinewidth": 0,
              "ticks": ""
             }
            },
            "type": "scattergeo"
           }
          ],
          "scattergl": [
           {
            "marker": {
             "colorbar": {
              "outlinewidth": 0,
              "ticks": ""
             }
            },
            "type": "scattergl"
           }
          ],
          "scattermapbox": [
           {
            "marker": {
             "colorbar": {
              "outlinewidth": 0,
              "ticks": ""
             }
            },
            "type": "scattermapbox"
           }
          ],
          "scatterpolar": [
           {
            "marker": {
             "colorbar": {
              "outlinewidth": 0,
              "ticks": ""
             }
            },
            "type": "scatterpolar"
           }
          ],
          "scatterpolargl": [
           {
            "marker": {
             "colorbar": {
              "outlinewidth": 0,
              "ticks": ""
             }
            },
            "type": "scatterpolargl"
           }
          ],
          "scatterternary": [
           {
            "marker": {
             "colorbar": {
              "outlinewidth": 0,
              "ticks": ""
             }
            },
            "type": "scatterternary"
           }
          ],
          "surface": [
           {
            "colorbar": {
             "outlinewidth": 0,
             "ticks": ""
            },
            "colorscale": [
             [
              0,
              "#0d0887"
             ],
             [
              0.1111111111111111,
              "#46039f"
             ],
             [
              0.2222222222222222,
              "#7201a8"
             ],
             [
              0.3333333333333333,
              "#9c179e"
             ],
             [
              0.4444444444444444,
              "#bd3786"
             ],
             [
              0.5555555555555556,
              "#d8576b"
             ],
             [
              0.6666666666666666,
              "#ed7953"
             ],
             [
              0.7777777777777778,
              "#fb9f3a"
             ],
             [
              0.8888888888888888,
              "#fdca26"
             ],
             [
              1,
              "#f0f921"
             ]
            ],
            "type": "surface"
           }
          ],
          "table": [
           {
            "cells": {
             "fill": {
              "color": "#EBF0F8"
             },
             "line": {
              "color": "white"
             }
            },
            "header": {
             "fill": {
              "color": "#C8D4E3"
             },
             "line": {
              "color": "white"
             }
            },
            "type": "table"
           }
          ]
         },
         "layout": {
          "annotationdefaults": {
           "arrowcolor": "#2a3f5f",
           "arrowhead": 0,
           "arrowwidth": 1
          },
          "autotypenumbers": "strict",
          "coloraxis": {
           "colorbar": {
            "outlinewidth": 0,
            "ticks": ""
           }
          },
          "colorscale": {
           "diverging": [
            [
             0,
             "#8e0152"
            ],
            [
             0.1,
             "#c51b7d"
            ],
            [
             0.2,
             "#de77ae"
            ],
            [
             0.3,
             "#f1b6da"
            ],
            [
             0.4,
             "#fde0ef"
            ],
            [
             0.5,
             "#f7f7f7"
            ],
            [
             0.6,
             "#e6f5d0"
            ],
            [
             0.7,
             "#b8e186"
            ],
            [
             0.8,
             "#7fbc41"
            ],
            [
             0.9,
             "#4d9221"
            ],
            [
             1,
             "#276419"
            ]
           ],
           "sequential": [
            [
             0,
             "#0d0887"
            ],
            [
             0.1111111111111111,
             "#46039f"
            ],
            [
             0.2222222222222222,
             "#7201a8"
            ],
            [
             0.3333333333333333,
             "#9c179e"
            ],
            [
             0.4444444444444444,
             "#bd3786"
            ],
            [
             0.5555555555555556,
             "#d8576b"
            ],
            [
             0.6666666666666666,
             "#ed7953"
            ],
            [
             0.7777777777777778,
             "#fb9f3a"
            ],
            [
             0.8888888888888888,
             "#fdca26"
            ],
            [
             1,
             "#f0f921"
            ]
           ],
           "sequentialminus": [
            [
             0,
             "#0d0887"
            ],
            [
             0.1111111111111111,
             "#46039f"
            ],
            [
             0.2222222222222222,
             "#7201a8"
            ],
            [
             0.3333333333333333,
             "#9c179e"
            ],
            [
             0.4444444444444444,
             "#bd3786"
            ],
            [
             0.5555555555555556,
             "#d8576b"
            ],
            [
             0.6666666666666666,
             "#ed7953"
            ],
            [
             0.7777777777777778,
             "#fb9f3a"
            ],
            [
             0.8888888888888888,
             "#fdca26"
            ],
            [
             1,
             "#f0f921"
            ]
           ]
          },
          "colorway": [
           "#636efa",
           "#EF553B",
           "#00cc96",
           "#ab63fa",
           "#FFA15A",
           "#19d3f3",
           "#FF6692",
           "#B6E880",
           "#FF97FF",
           "#FECB52"
          ],
          "font": {
           "color": "#2a3f5f"
          },
          "geo": {
           "bgcolor": "white",
           "lakecolor": "white",
           "landcolor": "#E5ECF6",
           "showlakes": true,
           "showland": true,
           "subunitcolor": "white"
          },
          "hoverlabel": {
           "align": "left"
          },
          "hovermode": "closest",
          "mapbox": {
           "style": "light"
          },
          "paper_bgcolor": "white",
          "plot_bgcolor": "#E5ECF6",
          "polar": {
           "angularaxis": {
            "gridcolor": "white",
            "linecolor": "white",
            "ticks": ""
           },
           "bgcolor": "#E5ECF6",
           "radialaxis": {
            "gridcolor": "white",
            "linecolor": "white",
            "ticks": ""
           }
          },
          "scene": {
           "xaxis": {
            "backgroundcolor": "#E5ECF6",
            "gridcolor": "white",
            "gridwidth": 2,
            "linecolor": "white",
            "showbackground": true,
            "ticks": "",
            "zerolinecolor": "white"
           },
           "yaxis": {
            "backgroundcolor": "#E5ECF6",
            "gridcolor": "white",
            "gridwidth": 2,
            "linecolor": "white",
            "showbackground": true,
            "ticks": "",
            "zerolinecolor": "white"
           },
           "zaxis": {
            "backgroundcolor": "#E5ECF6",
            "gridcolor": "white",
            "gridwidth": 2,
            "linecolor": "white",
            "showbackground": true,
            "ticks": "",
            "zerolinecolor": "white"
           }
          },
          "shapedefaults": {
           "line": {
            "color": "#2a3f5f"
           }
          },
          "ternary": {
           "aaxis": {
            "gridcolor": "white",
            "linecolor": "white",
            "ticks": ""
           },
           "baxis": {
            "gridcolor": "white",
            "linecolor": "white",
            "ticks": ""
           },
           "bgcolor": "#E5ECF6",
           "caxis": {
            "gridcolor": "white",
            "linecolor": "white",
            "ticks": ""
           }
          },
          "title": {
           "x": 0.05
          },
          "xaxis": {
           "automargin": true,
           "gridcolor": "white",
           "linecolor": "white",
           "ticks": "",
           "title": {
            "standoff": 15
           },
           "zerolinecolor": "white",
           "zerolinewidth": 2
          },
          "yaxis": {
           "automargin": true,
           "gridcolor": "white",
           "linecolor": "white",
           "ticks": "",
           "title": {
            "standoff": 15
           },
           "zerolinecolor": "white",
           "zerolinewidth": 2
          }
         }
        },
        "title": {
         "text": "Difference in FPTS_rank_change by Position"
        },
        "xaxis": {
         "title": {
          "text": "Year"
         }
        },
        "yaxis": {
         "title": {
          "text": "Difference in FPTS_rank_change"
         }
        }
       }
      }
     },
     "metadata": {},
     "output_type": "display_data"
    }
   ],
   "source": [
    "consistency_chart(df.copy(), 'wr')"
   ]
  },
  {
   "cell_type": "code",
   "execution_count": 30,
   "metadata": {},
   "outputs": [
    {
     "data": {
      "application/vnd.plotly.v1+json": {
       "config": {
        "plotlyServerURL": "https://plot.ly"
       },
       "data": [
        {
         "customdata": [
          [
           "Travis Kelce",
           1,
           2,
           16
          ],
          [
           "Travis Kelce",
           1,
           1,
           16
          ],
          [
           "Travis Kelce",
           1,
           1,
           15
          ],
          [
           "Mark Andrews",
           1,
           4,
           15
          ]
         ],
         "hovertemplate": "Player: %{customdata[0]}<br>FPTS_rank_current: %{customdata[1]}<br>FPTS_rank_change: %{y}<br>FPTS_rank_next: %{customdata[2]}<br>FPTS_G: %{customdata[3]}<br><extra></extra>",
         "name": "1.0",
         "type": "bar",
         "width": 0.06666666666666667,
         "x": [
          2019.6333333333334,
          2017.6333333333334,
          2018.6333333333334,
          2020.6333333333334
         ],
         "y": [
          -1,
          0,
          0,
          -3
         ]
        },
        {
         "customdata": [
          [
           "George Kittle",
           2,
           17,
           8
          ],
          [
           "Darren Waller",
           2,
           18,
           11
          ],
          [
           "Travis Kelce",
           2,
           1,
           17
          ],
          [
           "Zach Ertz",
           2,
           5,
           15
          ]
         ],
         "hovertemplate": "Player: %{customdata[0]}<br>FPTS_rank_current: %{customdata[1]}<br>FPTS_rank_change: %{y}<br>FPTS_rank_next: %{customdata[2]}<br>FPTS_G: %{customdata[3]}<br><extra></extra>",
         "name": "2.0",
         "type": "bar",
         "width": 0.06666666666666667,
         "x": [
          2018.7,
          2019.7,
          2020.7,
          2017.7
         ],
         "y": [
          -15,
          -16,
          1,
          -3
         ]
        },
        {
         "customdata": [
          [
           "T.J. Hockenson",
           3,
           15,
           12
          ],
          [
           "George Kittle",
           3,
           2,
           14
          ],
          [
           "Dalton Schultz",
           3,
           10,
           15
          ],
          [
           "Darren Waller",
           3,
           2,
           16
          ]
         ],
         "hovertemplate": "Player: %{customdata[0]}<br>FPTS_rank_current: %{customdata[1]}<br>FPTS_rank_change: %{y}<br>FPTS_rank_next: %{customdata[2]}<br>FPTS_G: %{customdata[3]}<br><extra></extra>",
         "name": "3.0",
         "type": "bar",
         "width": 0.06666666666666667,
         "x": [
          2019.7666666666667,
          2017.7666666666667,
          2020.7666666666667,
          2018.7666666666667
         ],
         "y": [
          -12,
          1,
          -7,
          1
         ]
        },
        {
         "customdata": [
          [
           "George Kittle",
           4,
           3,
           15
          ],
          [
           "Mark Andrews",
           4,
           1,
           17
          ],
          [
           "Mark Andrews",
           4,
           4,
           14
          ],
          [
           "Eric Ebron",
           4,
           22,
           11
          ]
         ],
         "hovertemplate": "Player: %{customdata[0]}<br>FPTS_rank_current: %{customdata[1]}<br>FPTS_rank_change: %{y}<br>FPTS_rank_next: %{customdata[2]}<br>FPTS_G: %{customdata[3]}<br><extra></extra>",
         "name": "4.0",
         "type": "bar",
         "width": 0.06666666666666667,
         "x": [
          2020.8333333333333,
          2019.8333333333333,
          2018.8333333333333,
          2017.8333333333333
         ],
         "y": [
          1,
          3,
          0,
          -18
         ]
        },
        {
         "customdata": [
          [
           "Logan Thomas",
           5,
           39,
           5
          ],
          [
           "Zach Ertz",
           5,
           28,
           11
          ],
          [
           "Zach Ertz",
           5,
           17,
           10
          ],
          [
           "Jared Cook",
           5,
           7,
           14
          ]
         ],
         "hovertemplate": "Player: %{customdata[0]}<br>FPTS_rank_current: %{customdata[1]}<br>FPTS_rank_change: %{y}<br>FPTS_rank_next: %{customdata[2]}<br>FPTS_G: %{customdata[3]}<br><extra></extra>",
         "name": "5.0",
         "type": "bar",
         "width": 0.06666666666666667,
         "x": [
          2019.9,
          2018.9,
          2020.9,
          2017.9
         ],
         "y": [
          -34,
          -23,
          -12,
          -2
         ]
        },
        {
         "customdata": [
          [
           "Austin Hooper",
           6,
           19,
           13
          ],
          [
           "Austin Hooper",
           6,
           6,
           13
          ],
          [
           "Mike Gesicki",
           6,
           11,
           17
          ]
         ],
         "hovertemplate": "Player: %{customdata[0]}<br>FPTS_rank_current: %{customdata[1]}<br>FPTS_rank_change: %{y}<br>FPTS_rank_next: %{customdata[2]}<br>FPTS_G: %{customdata[3]}<br><extra></extra>",
         "name": "6.0",
         "type": "bar",
         "width": 0.06666666666666667,
         "x": [
          2018.9666666666667,
          2017.9666666666667,
          2019.9666666666667
         ],
         "y": [
          -13,
          0,
          -5
         ]
        },
        {
         "customdata": [
          [
           "Rob Gronkowski",
           7,
           5,
           12
          ],
          [
           "Jared Cook",
           7,
           15,
           15
          ],
          [
           "Kyle Pitts",
           7,
           25,
           10
          ],
          [
           "Trey Burton",
           7,
           47,
           9
          ]
         ],
         "hovertemplate": "Player: %{customdata[0]}<br>FPTS_rank_current: %{customdata[1]}<br>FPTS_rank_change: %{y}<br>FPTS_rank_next: %{customdata[2]}<br>FPTS_G: %{customdata[3]}<br><extra></extra>",
         "name": "7.0",
         "type": "bar",
         "width": 0.06666666666666667,
         "x": [
          2020.0333333333333,
          2019.0333333333333,
          2021.0333333333333,
          2018.0333333333333
         ],
         "y": [
          2,
          -8,
          -18,
          -40
         ]
        },
        {
         "customdata": [
          [
           "Hunter Henry",
           8,
           12,
           14
          ],
          [
           "Dawson Knox",
           8,
           14,
           15
          ],
          [
           "Kyle Rudolph",
           8,
           13,
           16
          ],
          [
           "Hayden Hurst",
           8,
           34,
           12
          ]
         ],
         "hovertemplate": "Player: %{customdata[0]}<br>FPTS_rank_current: %{customdata[1]}<br>FPTS_rank_change: %{y}<br>FPTS_rank_next: %{customdata[2]}<br>FPTS_G: %{customdata[3]}<br><extra></extra>",
         "name": "8.0",
         "type": "bar",
         "width": 0.06666666666666667,
         "x": [
          2019.1,
          2021.1,
          2018.1,
          2020.1
         ],
         "y": [
          -4,
          -6,
          -5,
          -26
         ]
        },
        {
         "customdata": [
          [
           "Hunter Henry",
           9,
           19,
           16
          ],
          [
           "David Njoku",
           9,
           49,
           4
          ],
          [
           "Jonnu Smith",
           9,
           31,
           16
          ],
          [
           "Dallas Goedert",
           9,
           18,
           11
          ]
         ],
         "hovertemplate": "Player: %{customdata[0]}<br>FPTS_rank_current: %{customdata[1]}<br>FPTS_rank_change: %{y}<br>FPTS_rank_next: %{customdata[2]}<br>FPTS_G: %{customdata[3]}<br><extra></extra>",
         "name": "9.0",
         "type": "bar",
         "width": 0.06666666666666667,
         "x": [
          2021.1666666666667,
          2018.1666666666667,
          2020.1666666666667,
          2019.1666666666667
         ],
         "y": [
          -10,
          -40,
          -22,
          -9
         ]
        },
        {
         "customdata": [
          [
           "Vance McDonald",
           10,
           27,
           14
          ],
          [
           "Mike Gesicki",
           10,
           6,
           15
          ],
          [
           "Dallas Goedert",
           10,
           12,
           12
          ],
          [
           "Jimmy Graham",
           10,
           40,
           11
          ]
         ],
         "hovertemplate": "Player: %{customdata[0]}<br>FPTS_rank_current: %{customdata[1]}<br>FPTS_rank_change: %{y}<br>FPTS_rank_next: %{customdata[2]}<br>FPTS_G: %{customdata[3]}<br><extra></extra>",
         "name": "10.0",
         "type": "bar",
         "width": 0.06666666666666667,
         "x": [
          2018.2333333333333,
          2019.2333333333333,
          2021.2333333333333,
          2020.2333333333333
         ],
         "y": [
          -17,
          4,
          -2,
          -30
         ]
        },
        {
         "customdata": [
          [
           "Noah Fant",
           11,
           12,
           16
          ],
          [
           "Jason Witten",
           11,
           43,
           16
          ],
          [
           "Mike Gesicki",
           11,
           21,
           17
          ]
         ],
         "hovertemplate": "Player: %{customdata[0]}<br>FPTS_rank_current: %{customdata[1]}<br>FPTS_rank_change: %{y}<br>FPTS_rank_next: %{customdata[2]}<br>FPTS_G: %{customdata[3]}<br><extra></extra>",
         "name": "11.0",
         "type": "bar",
         "width": 0.06666666666666667,
         "x": [
          2020.3,
          2019.3,
          2021.3
         ],
         "y": [
          -1,
          -32,
          -10
         ]
        },
        {
         "customdata": [
          [
           "Noah Fant",
           12,
           16,
           17
          ],
          [
           "Hunter Henry",
           12,
           9,
           16
          ],
          [
           "Greg Olsen",
           12,
           39,
           11
          ],
          [
           "Evan Engram",
           12,
           16,
           8
          ]
         ],
         "hovertemplate": "Player: %{customdata[0]}<br>FPTS_rank_current: %{customdata[1]}<br>FPTS_rank_change: %{y}<br>FPTS_rank_next: %{customdata[2]}<br>FPTS_G: %{customdata[3]}<br><extra></extra>",
         "name": "12.0",
         "type": "bar",
         "width": 0.06666666666666667,
         "x": [
          2021.3666666666666,
          2020.3666666666666,
          2019.3666666666666,
          2018.3666666666666
         ],
         "y": [
          -4,
          3,
          -27,
          -4
         ]
        }
       ],
       "layout": {
        "annotations": [
         {
          "align": "center",
          "font": {
           "color": "black",
           "family": "Arial",
           "size": 12
          },
          "showarrow": false,
          "text": "-1",
          "x": 2019.6333333333334,
          "xref": "x",
          "y": -3,
          "yref": "y"
         },
         {
          "align": "center",
          "font": {
           "color": "black",
           "family": "Arial",
           "size": 12
          },
          "showarrow": false,
          "text": "0",
          "x": 2017.6333333333334,
          "xref": "x",
          "y": 2,
          "yref": "y"
         },
         {
          "align": "center",
          "font": {
           "color": "black",
           "family": "Arial",
           "size": 12
          },
          "showarrow": false,
          "text": "0",
          "x": 2018.6333333333334,
          "xref": "x",
          "y": 2,
          "yref": "y"
         },
         {
          "align": "center",
          "font": {
           "color": "black",
           "family": "Arial",
           "size": 12
          },
          "showarrow": false,
          "text": "-3",
          "x": 2020.6333333333334,
          "xref": "x",
          "y": -5,
          "yref": "y"
         },
         {
          "align": "center",
          "font": {
           "color": "black",
           "family": "Arial",
           "size": 12
          },
          "showarrow": false,
          "text": "-15",
          "x": 2018.7,
          "xref": "x",
          "y": -17,
          "yref": "y"
         },
         {
          "align": "center",
          "font": {
           "color": "black",
           "family": "Arial",
           "size": 12
          },
          "showarrow": false,
          "text": "-16",
          "x": 2019.7,
          "xref": "x",
          "y": -18,
          "yref": "y"
         },
         {
          "align": "center",
          "font": {
           "color": "black",
           "family": "Arial",
           "size": 12
          },
          "showarrow": false,
          "text": "1",
          "x": 2020.7,
          "xref": "x",
          "y": 3,
          "yref": "y"
         },
         {
          "align": "center",
          "font": {
           "color": "black",
           "family": "Arial",
           "size": 12
          },
          "showarrow": false,
          "text": "-3",
          "x": 2017.7,
          "xref": "x",
          "y": -5,
          "yref": "y"
         },
         {
          "align": "center",
          "font": {
           "color": "black",
           "family": "Arial",
           "size": 12
          },
          "showarrow": false,
          "text": "-12",
          "x": 2019.7666666666667,
          "xref": "x",
          "y": -14,
          "yref": "y"
         },
         {
          "align": "center",
          "font": {
           "color": "black",
           "family": "Arial",
           "size": 12
          },
          "showarrow": false,
          "text": "1",
          "x": 2017.7666666666667,
          "xref": "x",
          "y": 3,
          "yref": "y"
         },
         {
          "align": "center",
          "font": {
           "color": "black",
           "family": "Arial",
           "size": 12
          },
          "showarrow": false,
          "text": "-7",
          "x": 2020.7666666666667,
          "xref": "x",
          "y": -9,
          "yref": "y"
         },
         {
          "align": "center",
          "font": {
           "color": "black",
           "family": "Arial",
           "size": 12
          },
          "showarrow": false,
          "text": "1",
          "x": 2018.7666666666667,
          "xref": "x",
          "y": 3,
          "yref": "y"
         },
         {
          "align": "center",
          "font": {
           "color": "black",
           "family": "Arial",
           "size": 12
          },
          "showarrow": false,
          "text": "1",
          "x": 2020.8333333333333,
          "xref": "x",
          "y": 3,
          "yref": "y"
         },
         {
          "align": "center",
          "font": {
           "color": "black",
           "family": "Arial",
           "size": 12
          },
          "showarrow": false,
          "text": "3",
          "x": 2019.8333333333333,
          "xref": "x",
          "y": 5,
          "yref": "y"
         },
         {
          "align": "center",
          "font": {
           "color": "black",
           "family": "Arial",
           "size": 12
          },
          "showarrow": false,
          "text": "0",
          "x": 2018.8333333333333,
          "xref": "x",
          "y": 2,
          "yref": "y"
         },
         {
          "align": "center",
          "font": {
           "color": "black",
           "family": "Arial",
           "size": 12
          },
          "showarrow": false,
          "text": "-18",
          "x": 2017.8333333333333,
          "xref": "x",
          "y": -20,
          "yref": "y"
         },
         {
          "align": "center",
          "font": {
           "color": "black",
           "family": "Arial",
           "size": 12
          },
          "showarrow": false,
          "text": "-34",
          "x": 2019.9,
          "xref": "x",
          "y": -36,
          "yref": "y"
         },
         {
          "align": "center",
          "font": {
           "color": "black",
           "family": "Arial",
           "size": 12
          },
          "showarrow": false,
          "text": "-23",
          "x": 2018.9,
          "xref": "x",
          "y": -25,
          "yref": "y"
         },
         {
          "align": "center",
          "font": {
           "color": "black",
           "family": "Arial",
           "size": 12
          },
          "showarrow": false,
          "text": "-12",
          "x": 2020.9,
          "xref": "x",
          "y": -14,
          "yref": "y"
         },
         {
          "align": "center",
          "font": {
           "color": "black",
           "family": "Arial",
           "size": 12
          },
          "showarrow": false,
          "text": "-2",
          "x": 2017.9,
          "xref": "x",
          "y": -4,
          "yref": "y"
         },
         {
          "align": "center",
          "font": {
           "color": "black",
           "family": "Arial",
           "size": 12
          },
          "showarrow": false,
          "text": "-13",
          "x": 2018.9666666666667,
          "xref": "x",
          "y": -15,
          "yref": "y"
         },
         {
          "align": "center",
          "font": {
           "color": "black",
           "family": "Arial",
           "size": 12
          },
          "showarrow": false,
          "text": "0",
          "x": 2017.9666666666667,
          "xref": "x",
          "y": 2,
          "yref": "y"
         },
         {
          "align": "center",
          "font": {
           "color": "black",
           "family": "Arial",
           "size": 12
          },
          "showarrow": false,
          "text": "-5",
          "x": 2019.9666666666667,
          "xref": "x",
          "y": -7,
          "yref": "y"
         },
         {
          "align": "center",
          "font": {
           "color": "black",
           "family": "Arial",
           "size": 12
          },
          "showarrow": false,
          "text": "2",
          "x": 2020.0333333333333,
          "xref": "x",
          "y": 4,
          "yref": "y"
         },
         {
          "align": "center",
          "font": {
           "color": "black",
           "family": "Arial",
           "size": 12
          },
          "showarrow": false,
          "text": "-8",
          "x": 2019.0333333333333,
          "xref": "x",
          "y": -10,
          "yref": "y"
         },
         {
          "align": "center",
          "font": {
           "color": "black",
           "family": "Arial",
           "size": 12
          },
          "showarrow": false,
          "text": "-18",
          "x": 2021.0333333333333,
          "xref": "x",
          "y": -20,
          "yref": "y"
         },
         {
          "align": "center",
          "font": {
           "color": "black",
           "family": "Arial",
           "size": 12
          },
          "showarrow": false,
          "text": "-40",
          "x": 2018.0333333333333,
          "xref": "x",
          "y": -42,
          "yref": "y"
         },
         {
          "align": "center",
          "font": {
           "color": "black",
           "family": "Arial",
           "size": 12
          },
          "showarrow": false,
          "text": "-4",
          "x": 2019.1,
          "xref": "x",
          "y": -6,
          "yref": "y"
         },
         {
          "align": "center",
          "font": {
           "color": "black",
           "family": "Arial",
           "size": 12
          },
          "showarrow": false,
          "text": "-6",
          "x": 2021.1,
          "xref": "x",
          "y": -8,
          "yref": "y"
         },
         {
          "align": "center",
          "font": {
           "color": "black",
           "family": "Arial",
           "size": 12
          },
          "showarrow": false,
          "text": "-5",
          "x": 2018.1,
          "xref": "x",
          "y": -7,
          "yref": "y"
         },
         {
          "align": "center",
          "font": {
           "color": "black",
           "family": "Arial",
           "size": 12
          },
          "showarrow": false,
          "text": "-26",
          "x": 2020.1,
          "xref": "x",
          "y": -28,
          "yref": "y"
         },
         {
          "align": "center",
          "font": {
           "color": "black",
           "family": "Arial",
           "size": 12
          },
          "showarrow": false,
          "text": "-10",
          "x": 2021.1666666666667,
          "xref": "x",
          "y": -12,
          "yref": "y"
         },
         {
          "align": "center",
          "font": {
           "color": "black",
           "family": "Arial",
           "size": 12
          },
          "showarrow": false,
          "text": "-40",
          "x": 2018.1666666666667,
          "xref": "x",
          "y": -42,
          "yref": "y"
         },
         {
          "align": "center",
          "font": {
           "color": "black",
           "family": "Arial",
           "size": 12
          },
          "showarrow": false,
          "text": "-22",
          "x": 2020.1666666666667,
          "xref": "x",
          "y": -24,
          "yref": "y"
         },
         {
          "align": "center",
          "font": {
           "color": "black",
           "family": "Arial",
           "size": 12
          },
          "showarrow": false,
          "text": "-9",
          "x": 2019.1666666666667,
          "xref": "x",
          "y": -11,
          "yref": "y"
         },
         {
          "align": "center",
          "font": {
           "color": "black",
           "family": "Arial",
           "size": 12
          },
          "showarrow": false,
          "text": "-17",
          "x": 2018.2333333333333,
          "xref": "x",
          "y": -19,
          "yref": "y"
         },
         {
          "align": "center",
          "font": {
           "color": "black",
           "family": "Arial",
           "size": 12
          },
          "showarrow": false,
          "text": "4",
          "x": 2019.2333333333333,
          "xref": "x",
          "y": 6,
          "yref": "y"
         },
         {
          "align": "center",
          "font": {
           "color": "black",
           "family": "Arial",
           "size": 12
          },
          "showarrow": false,
          "text": "-2",
          "x": 2021.2333333333333,
          "xref": "x",
          "y": -4,
          "yref": "y"
         },
         {
          "align": "center",
          "font": {
           "color": "black",
           "family": "Arial",
           "size": 12
          },
          "showarrow": false,
          "text": "-30",
          "x": 2020.2333333333333,
          "xref": "x",
          "y": -32,
          "yref": "y"
         },
         {
          "align": "center",
          "font": {
           "color": "black",
           "family": "Arial",
           "size": 12
          },
          "showarrow": false,
          "text": "-1",
          "x": 2020.3,
          "xref": "x",
          "y": -3,
          "yref": "y"
         },
         {
          "align": "center",
          "font": {
           "color": "black",
           "family": "Arial",
           "size": 12
          },
          "showarrow": false,
          "text": "-32",
          "x": 2019.3,
          "xref": "x",
          "y": -34,
          "yref": "y"
         },
         {
          "align": "center",
          "font": {
           "color": "black",
           "family": "Arial",
           "size": 12
          },
          "showarrow": false,
          "text": "-10",
          "x": 2021.3,
          "xref": "x",
          "y": -12,
          "yref": "y"
         },
         {
          "align": "center",
          "font": {
           "color": "black",
           "family": "Arial",
           "size": 12
          },
          "showarrow": false,
          "text": "-4",
          "x": 2021.3666666666666,
          "xref": "x",
          "y": -6,
          "yref": "y"
         },
         {
          "align": "center",
          "font": {
           "color": "black",
           "family": "Arial",
           "size": 12
          },
          "showarrow": false,
          "text": "3",
          "x": 2020.3666666666666,
          "xref": "x",
          "y": 5,
          "yref": "y"
         },
         {
          "align": "center",
          "font": {
           "color": "black",
           "family": "Arial",
           "size": 12
          },
          "showarrow": false,
          "text": "-27",
          "x": 2019.3666666666666,
          "xref": "x",
          "y": -29,
          "yref": "y"
         },
         {
          "align": "center",
          "font": {
           "color": "black",
           "family": "Arial",
           "size": 12
          },
          "showarrow": false,
          "text": "-4",
          "x": 2018.3666666666666,
          "xref": "x",
          "y": -6,
          "yref": "y"
         }
        ],
        "barmode": "group",
        "template": {
         "data": {
          "bar": [
           {
            "error_x": {
             "color": "#2a3f5f"
            },
            "error_y": {
             "color": "#2a3f5f"
            },
            "marker": {
             "line": {
              "color": "#E5ECF6",
              "width": 0.5
             },
             "pattern": {
              "fillmode": "overlay",
              "size": 10,
              "solidity": 0.2
             }
            },
            "type": "bar"
           }
          ],
          "barpolar": [
           {
            "marker": {
             "line": {
              "color": "#E5ECF6",
              "width": 0.5
             },
             "pattern": {
              "fillmode": "overlay",
              "size": 10,
              "solidity": 0.2
             }
            },
            "type": "barpolar"
           }
          ],
          "carpet": [
           {
            "aaxis": {
             "endlinecolor": "#2a3f5f",
             "gridcolor": "white",
             "linecolor": "white",
             "minorgridcolor": "white",
             "startlinecolor": "#2a3f5f"
            },
            "baxis": {
             "endlinecolor": "#2a3f5f",
             "gridcolor": "white",
             "linecolor": "white",
             "minorgridcolor": "white",
             "startlinecolor": "#2a3f5f"
            },
            "type": "carpet"
           }
          ],
          "choropleth": [
           {
            "colorbar": {
             "outlinewidth": 0,
             "ticks": ""
            },
            "type": "choropleth"
           }
          ],
          "contour": [
           {
            "colorbar": {
             "outlinewidth": 0,
             "ticks": ""
            },
            "colorscale": [
             [
              0,
              "#0d0887"
             ],
             [
              0.1111111111111111,
              "#46039f"
             ],
             [
              0.2222222222222222,
              "#7201a8"
             ],
             [
              0.3333333333333333,
              "#9c179e"
             ],
             [
              0.4444444444444444,
              "#bd3786"
             ],
             [
              0.5555555555555556,
              "#d8576b"
             ],
             [
              0.6666666666666666,
              "#ed7953"
             ],
             [
              0.7777777777777778,
              "#fb9f3a"
             ],
             [
              0.8888888888888888,
              "#fdca26"
             ],
             [
              1,
              "#f0f921"
             ]
            ],
            "type": "contour"
           }
          ],
          "contourcarpet": [
           {
            "colorbar": {
             "outlinewidth": 0,
             "ticks": ""
            },
            "type": "contourcarpet"
           }
          ],
          "heatmap": [
           {
            "colorbar": {
             "outlinewidth": 0,
             "ticks": ""
            },
            "colorscale": [
             [
              0,
              "#0d0887"
             ],
             [
              0.1111111111111111,
              "#46039f"
             ],
             [
              0.2222222222222222,
              "#7201a8"
             ],
             [
              0.3333333333333333,
              "#9c179e"
             ],
             [
              0.4444444444444444,
              "#bd3786"
             ],
             [
              0.5555555555555556,
              "#d8576b"
             ],
             [
              0.6666666666666666,
              "#ed7953"
             ],
             [
              0.7777777777777778,
              "#fb9f3a"
             ],
             [
              0.8888888888888888,
              "#fdca26"
             ],
             [
              1,
              "#f0f921"
             ]
            ],
            "type": "heatmap"
           }
          ],
          "heatmapgl": [
           {
            "colorbar": {
             "outlinewidth": 0,
             "ticks": ""
            },
            "colorscale": [
             [
              0,
              "#0d0887"
             ],
             [
              0.1111111111111111,
              "#46039f"
             ],
             [
              0.2222222222222222,
              "#7201a8"
             ],
             [
              0.3333333333333333,
              "#9c179e"
             ],
             [
              0.4444444444444444,
              "#bd3786"
             ],
             [
              0.5555555555555556,
              "#d8576b"
             ],
             [
              0.6666666666666666,
              "#ed7953"
             ],
             [
              0.7777777777777778,
              "#fb9f3a"
             ],
             [
              0.8888888888888888,
              "#fdca26"
             ],
             [
              1,
              "#f0f921"
             ]
            ],
            "type": "heatmapgl"
           }
          ],
          "histogram": [
           {
            "marker": {
             "pattern": {
              "fillmode": "overlay",
              "size": 10,
              "solidity": 0.2
             }
            },
            "type": "histogram"
           }
          ],
          "histogram2d": [
           {
            "colorbar": {
             "outlinewidth": 0,
             "ticks": ""
            },
            "colorscale": [
             [
              0,
              "#0d0887"
             ],
             [
              0.1111111111111111,
              "#46039f"
             ],
             [
              0.2222222222222222,
              "#7201a8"
             ],
             [
              0.3333333333333333,
              "#9c179e"
             ],
             [
              0.4444444444444444,
              "#bd3786"
             ],
             [
              0.5555555555555556,
              "#d8576b"
             ],
             [
              0.6666666666666666,
              "#ed7953"
             ],
             [
              0.7777777777777778,
              "#fb9f3a"
             ],
             [
              0.8888888888888888,
              "#fdca26"
             ],
             [
              1,
              "#f0f921"
             ]
            ],
            "type": "histogram2d"
           }
          ],
          "histogram2dcontour": [
           {
            "colorbar": {
             "outlinewidth": 0,
             "ticks": ""
            },
            "colorscale": [
             [
              0,
              "#0d0887"
             ],
             [
              0.1111111111111111,
              "#46039f"
             ],
             [
              0.2222222222222222,
              "#7201a8"
             ],
             [
              0.3333333333333333,
              "#9c179e"
             ],
             [
              0.4444444444444444,
              "#bd3786"
             ],
             [
              0.5555555555555556,
              "#d8576b"
             ],
             [
              0.6666666666666666,
              "#ed7953"
             ],
             [
              0.7777777777777778,
              "#fb9f3a"
             ],
             [
              0.8888888888888888,
              "#fdca26"
             ],
             [
              1,
              "#f0f921"
             ]
            ],
            "type": "histogram2dcontour"
           }
          ],
          "mesh3d": [
           {
            "colorbar": {
             "outlinewidth": 0,
             "ticks": ""
            },
            "type": "mesh3d"
           }
          ],
          "parcoords": [
           {
            "line": {
             "colorbar": {
              "outlinewidth": 0,
              "ticks": ""
             }
            },
            "type": "parcoords"
           }
          ],
          "pie": [
           {
            "automargin": true,
            "type": "pie"
           }
          ],
          "scatter": [
           {
            "fillpattern": {
             "fillmode": "overlay",
             "size": 10,
             "solidity": 0.2
            },
            "type": "scatter"
           }
          ],
          "scatter3d": [
           {
            "line": {
             "colorbar": {
              "outlinewidth": 0,
              "ticks": ""
             }
            },
            "marker": {
             "colorbar": {
              "outlinewidth": 0,
              "ticks": ""
             }
            },
            "type": "scatter3d"
           }
          ],
          "scattercarpet": [
           {
            "marker": {
             "colorbar": {
              "outlinewidth": 0,
              "ticks": ""
             }
            },
            "type": "scattercarpet"
           }
          ],
          "scattergeo": [
           {
            "marker": {
             "colorbar": {
              "outlinewidth": 0,
              "ticks": ""
             }
            },
            "type": "scattergeo"
           }
          ],
          "scattergl": [
           {
            "marker": {
             "colorbar": {
              "outlinewidth": 0,
              "ticks": ""
             }
            },
            "type": "scattergl"
           }
          ],
          "scattermapbox": [
           {
            "marker": {
             "colorbar": {
              "outlinewidth": 0,
              "ticks": ""
             }
            },
            "type": "scattermapbox"
           }
          ],
          "scatterpolar": [
           {
            "marker": {
             "colorbar": {
              "outlinewidth": 0,
              "ticks": ""
             }
            },
            "type": "scatterpolar"
           }
          ],
          "scatterpolargl": [
           {
            "marker": {
             "colorbar": {
              "outlinewidth": 0,
              "ticks": ""
             }
            },
            "type": "scatterpolargl"
           }
          ],
          "scatterternary": [
           {
            "marker": {
             "colorbar": {
              "outlinewidth": 0,
              "ticks": ""
             }
            },
            "type": "scatterternary"
           }
          ],
          "surface": [
           {
            "colorbar": {
             "outlinewidth": 0,
             "ticks": ""
            },
            "colorscale": [
             [
              0,
              "#0d0887"
             ],
             [
              0.1111111111111111,
              "#46039f"
             ],
             [
              0.2222222222222222,
              "#7201a8"
             ],
             [
              0.3333333333333333,
              "#9c179e"
             ],
             [
              0.4444444444444444,
              "#bd3786"
             ],
             [
              0.5555555555555556,
              "#d8576b"
             ],
             [
              0.6666666666666666,
              "#ed7953"
             ],
             [
              0.7777777777777778,
              "#fb9f3a"
             ],
             [
              0.8888888888888888,
              "#fdca26"
             ],
             [
              1,
              "#f0f921"
             ]
            ],
            "type": "surface"
           }
          ],
          "table": [
           {
            "cells": {
             "fill": {
              "color": "#EBF0F8"
             },
             "line": {
              "color": "white"
             }
            },
            "header": {
             "fill": {
              "color": "#C8D4E3"
             },
             "line": {
              "color": "white"
             }
            },
            "type": "table"
           }
          ]
         },
         "layout": {
          "annotationdefaults": {
           "arrowcolor": "#2a3f5f",
           "arrowhead": 0,
           "arrowwidth": 1
          },
          "autotypenumbers": "strict",
          "coloraxis": {
           "colorbar": {
            "outlinewidth": 0,
            "ticks": ""
           }
          },
          "colorscale": {
           "diverging": [
            [
             0,
             "#8e0152"
            ],
            [
             0.1,
             "#c51b7d"
            ],
            [
             0.2,
             "#de77ae"
            ],
            [
             0.3,
             "#f1b6da"
            ],
            [
             0.4,
             "#fde0ef"
            ],
            [
             0.5,
             "#f7f7f7"
            ],
            [
             0.6,
             "#e6f5d0"
            ],
            [
             0.7,
             "#b8e186"
            ],
            [
             0.8,
             "#7fbc41"
            ],
            [
             0.9,
             "#4d9221"
            ],
            [
             1,
             "#276419"
            ]
           ],
           "sequential": [
            [
             0,
             "#0d0887"
            ],
            [
             0.1111111111111111,
             "#46039f"
            ],
            [
             0.2222222222222222,
             "#7201a8"
            ],
            [
             0.3333333333333333,
             "#9c179e"
            ],
            [
             0.4444444444444444,
             "#bd3786"
            ],
            [
             0.5555555555555556,
             "#d8576b"
            ],
            [
             0.6666666666666666,
             "#ed7953"
            ],
            [
             0.7777777777777778,
             "#fb9f3a"
            ],
            [
             0.8888888888888888,
             "#fdca26"
            ],
            [
             1,
             "#f0f921"
            ]
           ],
           "sequentialminus": [
            [
             0,
             "#0d0887"
            ],
            [
             0.1111111111111111,
             "#46039f"
            ],
            [
             0.2222222222222222,
             "#7201a8"
            ],
            [
             0.3333333333333333,
             "#9c179e"
            ],
            [
             0.4444444444444444,
             "#bd3786"
            ],
            [
             0.5555555555555556,
             "#d8576b"
            ],
            [
             0.6666666666666666,
             "#ed7953"
            ],
            [
             0.7777777777777778,
             "#fb9f3a"
            ],
            [
             0.8888888888888888,
             "#fdca26"
            ],
            [
             1,
             "#f0f921"
            ]
           ]
          },
          "colorway": [
           "#636efa",
           "#EF553B",
           "#00cc96",
           "#ab63fa",
           "#FFA15A",
           "#19d3f3",
           "#FF6692",
           "#B6E880",
           "#FF97FF",
           "#FECB52"
          ],
          "font": {
           "color": "#2a3f5f"
          },
          "geo": {
           "bgcolor": "white",
           "lakecolor": "white",
           "landcolor": "#E5ECF6",
           "showlakes": true,
           "showland": true,
           "subunitcolor": "white"
          },
          "hoverlabel": {
           "align": "left"
          },
          "hovermode": "closest",
          "mapbox": {
           "style": "light"
          },
          "paper_bgcolor": "white",
          "plot_bgcolor": "#E5ECF6",
          "polar": {
           "angularaxis": {
            "gridcolor": "white",
            "linecolor": "white",
            "ticks": ""
           },
           "bgcolor": "#E5ECF6",
           "radialaxis": {
            "gridcolor": "white",
            "linecolor": "white",
            "ticks": ""
           }
          },
          "scene": {
           "xaxis": {
            "backgroundcolor": "#E5ECF6",
            "gridcolor": "white",
            "gridwidth": 2,
            "linecolor": "white",
            "showbackground": true,
            "ticks": "",
            "zerolinecolor": "white"
           },
           "yaxis": {
            "backgroundcolor": "#E5ECF6",
            "gridcolor": "white",
            "gridwidth": 2,
            "linecolor": "white",
            "showbackground": true,
            "ticks": "",
            "zerolinecolor": "white"
           },
           "zaxis": {
            "backgroundcolor": "#E5ECF6",
            "gridcolor": "white",
            "gridwidth": 2,
            "linecolor": "white",
            "showbackground": true,
            "ticks": "",
            "zerolinecolor": "white"
           }
          },
          "shapedefaults": {
           "line": {
            "color": "#2a3f5f"
           }
          },
          "ternary": {
           "aaxis": {
            "gridcolor": "white",
            "linecolor": "white",
            "ticks": ""
           },
           "baxis": {
            "gridcolor": "white",
            "linecolor": "white",
            "ticks": ""
           },
           "bgcolor": "#E5ECF6",
           "caxis": {
            "gridcolor": "white",
            "linecolor": "white",
            "ticks": ""
           }
          },
          "title": {
           "x": 0.05
          },
          "xaxis": {
           "automargin": true,
           "gridcolor": "white",
           "linecolor": "white",
           "ticks": "",
           "title": {
            "standoff": 15
           },
           "zerolinecolor": "white",
           "zerolinewidth": 2
          },
          "yaxis": {
           "automargin": true,
           "gridcolor": "white",
           "linecolor": "white",
           "ticks": "",
           "title": {
            "standoff": 15
           },
           "zerolinecolor": "white",
           "zerolinewidth": 2
          }
         }
        },
        "title": {
         "text": "Difference in FPTS_rank_change by Position"
        },
        "xaxis": {
         "title": {
          "text": "Year"
         }
        },
        "yaxis": {
         "title": {
          "text": "Difference in FPTS_rank_change"
         }
        }
       }
      }
     },
     "metadata": {},
     "output_type": "display_data"
    }
   ],
   "source": [
    "consistency_chart(df.copy(), 'te')"
   ]
  },
  {
   "cell_type": "code",
   "execution_count": 31,
   "metadata": {},
   "outputs": [
    {
     "data": {
      "application/vnd.plotly.v1+json": {
       "config": {
        "plotlyServerURL": "https://plot.ly"
       },
       "data": [
        {
         "customdata": [
          [
           "Josh Allen",
           1,
           2,
           17
          ],
          [
           "Josh Allen",
           1,
           1,
           17
          ],
          [
           "Lamar Jackson",
           1,
           10,
           15
          ],
          [
           "Patrick Mahomes",
           1,
           8,
           14
          ]
         ],
         "hovertemplate": "Player: %{customdata[0]}<br>FPTS_rank_current: %{customdata[1]}<br>FPTS_rank_change: %{y}<br>FPTS_rank_next: %{customdata[2]}<br>FPTS_G: %{customdata[3]}<br><extra></extra>",
         "name": "1.0",
         "type": "bar",
         "width": 0.06666666666666667,
         "x": [
          2020.6333333333334,
          2019.6333333333334,
          2018.6333333333334,
          2017.6333333333334
         ],
         "y": [
          -1,
          0,
          -9,
          -7
         ]
        },
        {
         "customdata": [
          [
           "Matt Ryan",
           2,
           11,
           15
          ],
          [
           "Kyler Murray",
           2,
           10,
           14
          ],
          [
           "Dak Prescott",
           2,
           31,
           5
          ],
          [
           "Justin Herbert",
           2,
           10,
           17
          ]
         ],
         "hovertemplate": "Player: %{customdata[0]}<br>FPTS_rank_current: %{customdata[1]}<br>FPTS_rank_change: %{y}<br>FPTS_rank_next: %{customdata[2]}<br>FPTS_G: %{customdata[3]}<br><extra></extra>",
         "name": "2.0",
         "type": "bar",
         "width": 0.06666666666666667,
         "x": [
          2017.7,
          2019.7,
          2018.7,
          2020.7
         ],
         "y": [
          -9,
          -8,
          -29,
          -8
         ]
        },
        {
         "customdata": [
          [
           "Jameis Winston",
           3,
           41,
           4
          ],
          [
           "Tom Brady",
           3,
           11,
           17
          ],
          [
           "Aaron Rodgers",
           3,
           6,
           16
          ],
          [
           "Ben Roethlisberger",
           3,
           40,
           2
          ]
         ],
         "hovertemplate": "Player: %{customdata[0]}<br>FPTS_rank_current: %{customdata[1]}<br>FPTS_rank_change: %{y}<br>FPTS_rank_next: %{customdata[2]}<br>FPTS_G: %{customdata[3]}<br><extra></extra>",
         "name": "3.0",
         "type": "bar",
         "width": 0.06666666666666667,
         "x": [
          2018.7666666666667,
          2020.7666666666667,
          2019.7666666666667,
          2017.7666666666667
         ],
         "y": [
          -38,
          -8,
          -3,
          -37
         ]
        },
        {
         "customdata": [
          [
           "Patrick Mahomes",
           4,
           4,
           17
          ],
          [
           "Russell Wilson",
           4,
           6,
           16
          ],
          [
           "Patrick Mahomes",
           4,
           1,
           17
          ],
          [
           "Deshaun Watson",
           4,
           5,
           15
          ]
         ],
         "hovertemplate": "Player: %{customdata[0]}<br>FPTS_rank_current: %{customdata[1]}<br>FPTS_rank_change: %{y}<br>FPTS_rank_next: %{customdata[2]}<br>FPTS_G: %{customdata[3]}<br><extra></extra>",
         "name": "4.0",
         "type": "bar",
         "width": 0.06666666666666667,
         "x": [
          2019.8333333333333,
          2018.8333333333333,
          2020.8333333333333,
          2017.8333333333333
         ],
         "y": [
          0,
          -2,
          3,
          -1
         ]
        },
        {
         "customdata": [
          [
           "Matthew Stafford",
           5,
           25,
           9
          ],
          [
           "Deshaun Watson",
           5,
           5,
           16
          ]
         ],
         "hovertemplate": "Player: %{customdata[0]}<br>FPTS_rank_current: %{customdata[1]}<br>FPTS_rank_change: %{y}<br>FPTS_rank_next: %{customdata[2]}<br>FPTS_G: %{customdata[3]}<br><extra></extra>",
         "name": "5.0",
         "type": "bar",
         "width": 0.06666666666666667,
         "x": [
          2020.9,
          2018.9
         ],
         "y": [
          -20,
          0
         ]
        },
        {
         "customdata": [
          [
           "Russell Wilson",
           6,
           16,
           14
          ],
          [
           "Aaron Rodgers",
           6,
           12,
           17
          ],
          [
           "Josh Allen",
           6,
           1,
           16
          ],
          [
           "Aaron Rodgers",
           6,
           10,
           16
          ]
         ],
         "hovertemplate": "Player: %{customdata[0]}<br>FPTS_rank_current: %{customdata[1]}<br>FPTS_rank_change: %{y}<br>FPTS_rank_next: %{customdata[2]}<br>FPTS_G: %{customdata[3]}<br><extra></extra>",
         "name": "6.0",
         "type": "bar",
         "width": 0.06666666666666667,
         "x": [
          2019.9666666666667,
          2020.9666666666667,
          2018.9666666666667,
          2017.9666666666667
         ],
         "y": [
          -10,
          -6,
          5,
          -4
         ]
        },
        {
         "customdata": [
          [
           "Jared Goff",
           7,
           13,
           16
          ],
          [
           "Dak Prescott",
           7,
           17,
           12
          ],
          [
           "Kyler Murray",
           7,
           2,
           16
          ],
          [
           "Ryan Tannehill",
           7,
           12,
           17
          ]
         ],
         "hovertemplate": "Player: %{customdata[0]}<br>FPTS_rank_current: %{customdata[1]}<br>FPTS_rank_change: %{y}<br>FPTS_rank_next: %{customdata[2]}<br>FPTS_G: %{customdata[3]}<br><extra></extra>",
         "name": "7.0",
         "type": "bar",
         "width": 0.06666666666666667,
         "x": [
          2018.0333333333333,
          2021.0333333333333,
          2019.0333333333333,
          2020.0333333333333
         ],
         "y": [
          -6,
          -10,
          5,
          -5
         ]
        },
        {
         "customdata": [
          [
           "Joe Burrow",
           8,
           4,
           17
          ],
          [
           "Tom Brady",
           8,
           3,
           17
          ],
          [
           "Drew Brees",
           8,
           21,
           11
          ],
          [
           "Patrick Mahomes",
           8,
           4,
           15
          ]
         ],
         "hovertemplate": "Player: %{customdata[0]}<br>FPTS_rank_current: %{customdata[1]}<br>FPTS_rank_change: %{y}<br>FPTS_rank_next: %{customdata[2]}<br>FPTS_G: %{customdata[3]}<br><extra></extra>",
         "name": "8.0",
         "type": "bar",
         "width": 0.06666666666666667,
         "x": [
          2021.1,
          2020.1,
          2018.1,
          2019.1
         ],
         "y": [
          4,
          5,
          -13,
          4
         ]
        },
        {
         "customdata": [
          [
           "Russell Wilson",
           9,
           4,
           16
          ],
          [
           "Carson Wentz",
           9,
           22,
           12
          ],
          [
           "Jalen Hurts",
           9,
           3,
           15
          ],
          [
           "Justin Herbert",
           9,
           2,
           17
          ]
         ],
         "hovertemplate": "Player: %{customdata[0]}<br>FPTS_rank_current: %{customdata[1]}<br>FPTS_rank_change: %{y}<br>FPTS_rank_next: %{customdata[2]}<br>FPTS_G: %{customdata[3]}<br><extra></extra>",
         "name": "9.0",
         "type": "bar",
         "width": 0.06666666666666667,
         "x": [
          2018.1666666666667,
          2019.1666666666667,
          2021.1666666666667,
          2020.1666666666667
         ],
         "y": [
          5,
          -13,
          6,
          7
         ]
        },
        {
         "customdata": [
          [
           "Kyler Murray",
           10,
           18,
           11
          ],
          [
           "Lamar Jackson",
           10,
           15,
           12
          ],
          [
           "Aaron Rodgers",
           10,
           3,
           16
          ],
          [
           "Dak Prescott",
           10,
           2,
           16
          ]
         ],
         "hovertemplate": "Player: %{customdata[0]}<br>FPTS_rank_current: %{customdata[1]}<br>FPTS_rank_change: %{y}<br>FPTS_rank_next: %{customdata[2]}<br>FPTS_G: %{customdata[3]}<br><extra></extra>",
         "name": "10.0",
         "type": "bar",
         "width": 0.06666666666666667,
         "x": [
          2021.2333333333333,
          2020.2333333333333,
          2019.2333333333333,
          2018.2333333333333
         ],
         "y": [
          -8,
          -5,
          7,
          8
         ]
        },
        {
         "customdata": [
          [
           "Kirk Cousins",
           11,
           11,
           16
          ],
          [
           "Kirk Cousins",
           11,
           6,
           17
          ],
          [
           "Matt Ryan",
           11,
           12,
           16
          ],
          [
           "Philip Rivers",
           11,
           15,
           16
          ]
         ],
         "hovertemplate": "Player: %{customdata[0]}<br>FPTS_rank_current: %{customdata[1]}<br>FPTS_rank_change: %{y}<br>FPTS_rank_next: %{customdata[2]}<br>FPTS_G: %{customdata[3]}<br><extra></extra>",
         "name": "11.0",
         "type": "bar",
         "width": 0.06666666666666667,
         "x": [
          2020.3,
          2021.3,
          2019.3,
          2018.3
         ],
         "y": [
          0,
          5,
          -1,
          -4
         ]
        },
        {
         "customdata": [
          [
           "Kirk Cousins",
           12,
           18,
           15
          ],
          [
           "Ryan Tannehill",
           12,
           21,
           12
          ],
          [
           "Cam Newton",
           12,
           39,
           2
          ],
          [
           "Tom Brady",
           12,
           8,
           16
          ],
          [
           "Matt Ryan",
           12,
           20,
           17
          ]
         ],
         "hovertemplate": "Player: %{customdata[0]}<br>FPTS_rank_current: %{customdata[1]}<br>FPTS_rank_change: %{y}<br>FPTS_rank_next: %{customdata[2]}<br>FPTS_G: %{customdata[3]}<br><extra></extra>",
         "name": "12.0",
         "type": "bar",
         "width": 0.06666666666666667,
         "x": [
          2018.3666666666666,
          2021.3666666666666,
          2018.3666666666666,
          2019.3666666666666,
          2020.3666666666666
         ],
         "y": [
          -6,
          -9,
          -27,
          4,
          -8
         ]
        }
       ],
       "layout": {
        "annotations": [
         {
          "align": "center",
          "font": {
           "color": "black",
           "family": "Arial",
           "size": 12
          },
          "showarrow": false,
          "text": "-1",
          "x": 2020.6333333333334,
          "xref": "x",
          "y": -3,
          "yref": "y"
         },
         {
          "align": "center",
          "font": {
           "color": "black",
           "family": "Arial",
           "size": 12
          },
          "showarrow": false,
          "text": "0",
          "x": 2019.6333333333334,
          "xref": "x",
          "y": 2,
          "yref": "y"
         },
         {
          "align": "center",
          "font": {
           "color": "black",
           "family": "Arial",
           "size": 12
          },
          "showarrow": false,
          "text": "-9",
          "x": 2018.6333333333334,
          "xref": "x",
          "y": -11,
          "yref": "y"
         },
         {
          "align": "center",
          "font": {
           "color": "black",
           "family": "Arial",
           "size": 12
          },
          "showarrow": false,
          "text": "-7",
          "x": 2017.6333333333334,
          "xref": "x",
          "y": -9,
          "yref": "y"
         },
         {
          "align": "center",
          "font": {
           "color": "black",
           "family": "Arial",
           "size": 12
          },
          "showarrow": false,
          "text": "-9",
          "x": 2017.7,
          "xref": "x",
          "y": -11,
          "yref": "y"
         },
         {
          "align": "center",
          "font": {
           "color": "black",
           "family": "Arial",
           "size": 12
          },
          "showarrow": false,
          "text": "-8",
          "x": 2019.7,
          "xref": "x",
          "y": -10,
          "yref": "y"
         },
         {
          "align": "center",
          "font": {
           "color": "black",
           "family": "Arial",
           "size": 12
          },
          "showarrow": false,
          "text": "-29",
          "x": 2018.7,
          "xref": "x",
          "y": -31,
          "yref": "y"
         },
         {
          "align": "center",
          "font": {
           "color": "black",
           "family": "Arial",
           "size": 12
          },
          "showarrow": false,
          "text": "-8",
          "x": 2020.7,
          "xref": "x",
          "y": -10,
          "yref": "y"
         },
         {
          "align": "center",
          "font": {
           "color": "black",
           "family": "Arial",
           "size": 12
          },
          "showarrow": false,
          "text": "-38",
          "x": 2018.7666666666667,
          "xref": "x",
          "y": -40,
          "yref": "y"
         },
         {
          "align": "center",
          "font": {
           "color": "black",
           "family": "Arial",
           "size": 12
          },
          "showarrow": false,
          "text": "-8",
          "x": 2020.7666666666667,
          "xref": "x",
          "y": -10,
          "yref": "y"
         },
         {
          "align": "center",
          "font": {
           "color": "black",
           "family": "Arial",
           "size": 12
          },
          "showarrow": false,
          "text": "-3",
          "x": 2019.7666666666667,
          "xref": "x",
          "y": -5,
          "yref": "y"
         },
         {
          "align": "center",
          "font": {
           "color": "black",
           "family": "Arial",
           "size": 12
          },
          "showarrow": false,
          "text": "-37",
          "x": 2017.7666666666667,
          "xref": "x",
          "y": -39,
          "yref": "y"
         },
         {
          "align": "center",
          "font": {
           "color": "black",
           "family": "Arial",
           "size": 12
          },
          "showarrow": false,
          "text": "0",
          "x": 2019.8333333333333,
          "xref": "x",
          "y": 2,
          "yref": "y"
         },
         {
          "align": "center",
          "font": {
           "color": "black",
           "family": "Arial",
           "size": 12
          },
          "showarrow": false,
          "text": "-2",
          "x": 2018.8333333333333,
          "xref": "x",
          "y": -4,
          "yref": "y"
         },
         {
          "align": "center",
          "font": {
           "color": "black",
           "family": "Arial",
           "size": 12
          },
          "showarrow": false,
          "text": "3",
          "x": 2020.8333333333333,
          "xref": "x",
          "y": 5,
          "yref": "y"
         },
         {
          "align": "center",
          "font": {
           "color": "black",
           "family": "Arial",
           "size": 12
          },
          "showarrow": false,
          "text": "-1",
          "x": 2017.8333333333333,
          "xref": "x",
          "y": -3,
          "yref": "y"
         },
         {
          "align": "center",
          "font": {
           "color": "black",
           "family": "Arial",
           "size": 12
          },
          "showarrow": false,
          "text": "-20",
          "x": 2020.9,
          "xref": "x",
          "y": -22,
          "yref": "y"
         },
         {
          "align": "center",
          "font": {
           "color": "black",
           "family": "Arial",
           "size": 12
          },
          "showarrow": false,
          "text": "0",
          "x": 2018.9,
          "xref": "x",
          "y": 2,
          "yref": "y"
         },
         {
          "align": "center",
          "font": {
           "color": "black",
           "family": "Arial",
           "size": 12
          },
          "showarrow": false,
          "text": "-10",
          "x": 2019.9666666666667,
          "xref": "x",
          "y": -12,
          "yref": "y"
         },
         {
          "align": "center",
          "font": {
           "color": "black",
           "family": "Arial",
           "size": 12
          },
          "showarrow": false,
          "text": "-6",
          "x": 2020.9666666666667,
          "xref": "x",
          "y": -8,
          "yref": "y"
         },
         {
          "align": "center",
          "font": {
           "color": "black",
           "family": "Arial",
           "size": 12
          },
          "showarrow": false,
          "text": "5",
          "x": 2018.9666666666667,
          "xref": "x",
          "y": 7,
          "yref": "y"
         },
         {
          "align": "center",
          "font": {
           "color": "black",
           "family": "Arial",
           "size": 12
          },
          "showarrow": false,
          "text": "-4",
          "x": 2017.9666666666667,
          "xref": "x",
          "y": -6,
          "yref": "y"
         },
         {
          "align": "center",
          "font": {
           "color": "black",
           "family": "Arial",
           "size": 12
          },
          "showarrow": false,
          "text": "-6",
          "x": 2018.0333333333333,
          "xref": "x",
          "y": -8,
          "yref": "y"
         },
         {
          "align": "center",
          "font": {
           "color": "black",
           "family": "Arial",
           "size": 12
          },
          "showarrow": false,
          "text": "-10",
          "x": 2021.0333333333333,
          "xref": "x",
          "y": -12,
          "yref": "y"
         },
         {
          "align": "center",
          "font": {
           "color": "black",
           "family": "Arial",
           "size": 12
          },
          "showarrow": false,
          "text": "5",
          "x": 2019.0333333333333,
          "xref": "x",
          "y": 7,
          "yref": "y"
         },
         {
          "align": "center",
          "font": {
           "color": "black",
           "family": "Arial",
           "size": 12
          },
          "showarrow": false,
          "text": "-5",
          "x": 2020.0333333333333,
          "xref": "x",
          "y": -7,
          "yref": "y"
         },
         {
          "align": "center",
          "font": {
           "color": "black",
           "family": "Arial",
           "size": 12
          },
          "showarrow": false,
          "text": "4",
          "x": 2021.1,
          "xref": "x",
          "y": 6,
          "yref": "y"
         },
         {
          "align": "center",
          "font": {
           "color": "black",
           "family": "Arial",
           "size": 12
          },
          "showarrow": false,
          "text": "5",
          "x": 2020.1,
          "xref": "x",
          "y": 7,
          "yref": "y"
         },
         {
          "align": "center",
          "font": {
           "color": "black",
           "family": "Arial",
           "size": 12
          },
          "showarrow": false,
          "text": "-13",
          "x": 2018.1,
          "xref": "x",
          "y": -15,
          "yref": "y"
         },
         {
          "align": "center",
          "font": {
           "color": "black",
           "family": "Arial",
           "size": 12
          },
          "showarrow": false,
          "text": "4",
          "x": 2019.1,
          "xref": "x",
          "y": 6,
          "yref": "y"
         },
         {
          "align": "center",
          "font": {
           "color": "black",
           "family": "Arial",
           "size": 12
          },
          "showarrow": false,
          "text": "5",
          "x": 2018.1666666666667,
          "xref": "x",
          "y": 7,
          "yref": "y"
         },
         {
          "align": "center",
          "font": {
           "color": "black",
           "family": "Arial",
           "size": 12
          },
          "showarrow": false,
          "text": "-13",
          "x": 2019.1666666666667,
          "xref": "x",
          "y": -15,
          "yref": "y"
         },
         {
          "align": "center",
          "font": {
           "color": "black",
           "family": "Arial",
           "size": 12
          },
          "showarrow": false,
          "text": "6",
          "x": 2021.1666666666667,
          "xref": "x",
          "y": 8,
          "yref": "y"
         },
         {
          "align": "center",
          "font": {
           "color": "black",
           "family": "Arial",
           "size": 12
          },
          "showarrow": false,
          "text": "7",
          "x": 2020.1666666666667,
          "xref": "x",
          "y": 9,
          "yref": "y"
         },
         {
          "align": "center",
          "font": {
           "color": "black",
           "family": "Arial",
           "size": 12
          },
          "showarrow": false,
          "text": "-8",
          "x": 2021.2333333333333,
          "xref": "x",
          "y": -10,
          "yref": "y"
         },
         {
          "align": "center",
          "font": {
           "color": "black",
           "family": "Arial",
           "size": 12
          },
          "showarrow": false,
          "text": "-5",
          "x": 2020.2333333333333,
          "xref": "x",
          "y": -7,
          "yref": "y"
         },
         {
          "align": "center",
          "font": {
           "color": "black",
           "family": "Arial",
           "size": 12
          },
          "showarrow": false,
          "text": "7",
          "x": 2019.2333333333333,
          "xref": "x",
          "y": 9,
          "yref": "y"
         },
         {
          "align": "center",
          "font": {
           "color": "black",
           "family": "Arial",
           "size": 12
          },
          "showarrow": false,
          "text": "8",
          "x": 2018.2333333333333,
          "xref": "x",
          "y": 10,
          "yref": "y"
         },
         {
          "align": "center",
          "font": {
           "color": "black",
           "family": "Arial",
           "size": 12
          },
          "showarrow": false,
          "text": "0",
          "x": 2020.3,
          "xref": "x",
          "y": 2,
          "yref": "y"
         },
         {
          "align": "center",
          "font": {
           "color": "black",
           "family": "Arial",
           "size": 12
          },
          "showarrow": false,
          "text": "5",
          "x": 2021.3,
          "xref": "x",
          "y": 7,
          "yref": "y"
         },
         {
          "align": "center",
          "font": {
           "color": "black",
           "family": "Arial",
           "size": 12
          },
          "showarrow": false,
          "text": "-1",
          "x": 2019.3,
          "xref": "x",
          "y": -3,
          "yref": "y"
         },
         {
          "align": "center",
          "font": {
           "color": "black",
           "family": "Arial",
           "size": 12
          },
          "showarrow": false,
          "text": "-4",
          "x": 2018.3,
          "xref": "x",
          "y": -6,
          "yref": "y"
         },
         {
          "align": "center",
          "font": {
           "color": "black",
           "family": "Arial",
           "size": 12
          },
          "showarrow": false,
          "text": "-6",
          "x": 2018.3666666666666,
          "xref": "x",
          "y": -8,
          "yref": "y"
         },
         {
          "align": "center",
          "font": {
           "color": "black",
           "family": "Arial",
           "size": 12
          },
          "showarrow": false,
          "text": "-9",
          "x": 2021.3666666666666,
          "xref": "x",
          "y": -11,
          "yref": "y"
         },
         {
          "align": "center",
          "font": {
           "color": "black",
           "family": "Arial",
           "size": 12
          },
          "showarrow": false,
          "text": "-27",
          "x": 2018.3666666666666,
          "xref": "x",
          "y": -29,
          "yref": "y"
         },
         {
          "align": "center",
          "font": {
           "color": "black",
           "family": "Arial",
           "size": 12
          },
          "showarrow": false,
          "text": "4",
          "x": 2019.3666666666666,
          "xref": "x",
          "y": 6,
          "yref": "y"
         },
         {
          "align": "center",
          "font": {
           "color": "black",
           "family": "Arial",
           "size": 12
          },
          "showarrow": false,
          "text": "-8",
          "x": 2020.3666666666666,
          "xref": "x",
          "y": -10,
          "yref": "y"
         }
        ],
        "barmode": "group",
        "template": {
         "data": {
          "bar": [
           {
            "error_x": {
             "color": "#2a3f5f"
            },
            "error_y": {
             "color": "#2a3f5f"
            },
            "marker": {
             "line": {
              "color": "#E5ECF6",
              "width": 0.5
             },
             "pattern": {
              "fillmode": "overlay",
              "size": 10,
              "solidity": 0.2
             }
            },
            "type": "bar"
           }
          ],
          "barpolar": [
           {
            "marker": {
             "line": {
              "color": "#E5ECF6",
              "width": 0.5
             },
             "pattern": {
              "fillmode": "overlay",
              "size": 10,
              "solidity": 0.2
             }
            },
            "type": "barpolar"
           }
          ],
          "carpet": [
           {
            "aaxis": {
             "endlinecolor": "#2a3f5f",
             "gridcolor": "white",
             "linecolor": "white",
             "minorgridcolor": "white",
             "startlinecolor": "#2a3f5f"
            },
            "baxis": {
             "endlinecolor": "#2a3f5f",
             "gridcolor": "white",
             "linecolor": "white",
             "minorgridcolor": "white",
             "startlinecolor": "#2a3f5f"
            },
            "type": "carpet"
           }
          ],
          "choropleth": [
           {
            "colorbar": {
             "outlinewidth": 0,
             "ticks": ""
            },
            "type": "choropleth"
           }
          ],
          "contour": [
           {
            "colorbar": {
             "outlinewidth": 0,
             "ticks": ""
            },
            "colorscale": [
             [
              0,
              "#0d0887"
             ],
             [
              0.1111111111111111,
              "#46039f"
             ],
             [
              0.2222222222222222,
              "#7201a8"
             ],
             [
              0.3333333333333333,
              "#9c179e"
             ],
             [
              0.4444444444444444,
              "#bd3786"
             ],
             [
              0.5555555555555556,
              "#d8576b"
             ],
             [
              0.6666666666666666,
              "#ed7953"
             ],
             [
              0.7777777777777778,
              "#fb9f3a"
             ],
             [
              0.8888888888888888,
              "#fdca26"
             ],
             [
              1,
              "#f0f921"
             ]
            ],
            "type": "contour"
           }
          ],
          "contourcarpet": [
           {
            "colorbar": {
             "outlinewidth": 0,
             "ticks": ""
            },
            "type": "contourcarpet"
           }
          ],
          "heatmap": [
           {
            "colorbar": {
             "outlinewidth": 0,
             "ticks": ""
            },
            "colorscale": [
             [
              0,
              "#0d0887"
             ],
             [
              0.1111111111111111,
              "#46039f"
             ],
             [
              0.2222222222222222,
              "#7201a8"
             ],
             [
              0.3333333333333333,
              "#9c179e"
             ],
             [
              0.4444444444444444,
              "#bd3786"
             ],
             [
              0.5555555555555556,
              "#d8576b"
             ],
             [
              0.6666666666666666,
              "#ed7953"
             ],
             [
              0.7777777777777778,
              "#fb9f3a"
             ],
             [
              0.8888888888888888,
              "#fdca26"
             ],
             [
              1,
              "#f0f921"
             ]
            ],
            "type": "heatmap"
           }
          ],
          "heatmapgl": [
           {
            "colorbar": {
             "outlinewidth": 0,
             "ticks": ""
            },
            "colorscale": [
             [
              0,
              "#0d0887"
             ],
             [
              0.1111111111111111,
              "#46039f"
             ],
             [
              0.2222222222222222,
              "#7201a8"
             ],
             [
              0.3333333333333333,
              "#9c179e"
             ],
             [
              0.4444444444444444,
              "#bd3786"
             ],
             [
              0.5555555555555556,
              "#d8576b"
             ],
             [
              0.6666666666666666,
              "#ed7953"
             ],
             [
              0.7777777777777778,
              "#fb9f3a"
             ],
             [
              0.8888888888888888,
              "#fdca26"
             ],
             [
              1,
              "#f0f921"
             ]
            ],
            "type": "heatmapgl"
           }
          ],
          "histogram": [
           {
            "marker": {
             "pattern": {
              "fillmode": "overlay",
              "size": 10,
              "solidity": 0.2
             }
            },
            "type": "histogram"
           }
          ],
          "histogram2d": [
           {
            "colorbar": {
             "outlinewidth": 0,
             "ticks": ""
            },
            "colorscale": [
             [
              0,
              "#0d0887"
             ],
             [
              0.1111111111111111,
              "#46039f"
             ],
             [
              0.2222222222222222,
              "#7201a8"
             ],
             [
              0.3333333333333333,
              "#9c179e"
             ],
             [
              0.4444444444444444,
              "#bd3786"
             ],
             [
              0.5555555555555556,
              "#d8576b"
             ],
             [
              0.6666666666666666,
              "#ed7953"
             ],
             [
              0.7777777777777778,
              "#fb9f3a"
             ],
             [
              0.8888888888888888,
              "#fdca26"
             ],
             [
              1,
              "#f0f921"
             ]
            ],
            "type": "histogram2d"
           }
          ],
          "histogram2dcontour": [
           {
            "colorbar": {
             "outlinewidth": 0,
             "ticks": ""
            },
            "colorscale": [
             [
              0,
              "#0d0887"
             ],
             [
              0.1111111111111111,
              "#46039f"
             ],
             [
              0.2222222222222222,
              "#7201a8"
             ],
             [
              0.3333333333333333,
              "#9c179e"
             ],
             [
              0.4444444444444444,
              "#bd3786"
             ],
             [
              0.5555555555555556,
              "#d8576b"
             ],
             [
              0.6666666666666666,
              "#ed7953"
             ],
             [
              0.7777777777777778,
              "#fb9f3a"
             ],
             [
              0.8888888888888888,
              "#fdca26"
             ],
             [
              1,
              "#f0f921"
             ]
            ],
            "type": "histogram2dcontour"
           }
          ],
          "mesh3d": [
           {
            "colorbar": {
             "outlinewidth": 0,
             "ticks": ""
            },
            "type": "mesh3d"
           }
          ],
          "parcoords": [
           {
            "line": {
             "colorbar": {
              "outlinewidth": 0,
              "ticks": ""
             }
            },
            "type": "parcoords"
           }
          ],
          "pie": [
           {
            "automargin": true,
            "type": "pie"
           }
          ],
          "scatter": [
           {
            "fillpattern": {
             "fillmode": "overlay",
             "size": 10,
             "solidity": 0.2
            },
            "type": "scatter"
           }
          ],
          "scatter3d": [
           {
            "line": {
             "colorbar": {
              "outlinewidth": 0,
              "ticks": ""
             }
            },
            "marker": {
             "colorbar": {
              "outlinewidth": 0,
              "ticks": ""
             }
            },
            "type": "scatter3d"
           }
          ],
          "scattercarpet": [
           {
            "marker": {
             "colorbar": {
              "outlinewidth": 0,
              "ticks": ""
             }
            },
            "type": "scattercarpet"
           }
          ],
          "scattergeo": [
           {
            "marker": {
             "colorbar": {
              "outlinewidth": 0,
              "ticks": ""
             }
            },
            "type": "scattergeo"
           }
          ],
          "scattergl": [
           {
            "marker": {
             "colorbar": {
              "outlinewidth": 0,
              "ticks": ""
             }
            },
            "type": "scattergl"
           }
          ],
          "scattermapbox": [
           {
            "marker": {
             "colorbar": {
              "outlinewidth": 0,
              "ticks": ""
             }
            },
            "type": "scattermapbox"
           }
          ],
          "scatterpolar": [
           {
            "marker": {
             "colorbar": {
              "outlinewidth": 0,
              "ticks": ""
             }
            },
            "type": "scatterpolar"
           }
          ],
          "scatterpolargl": [
           {
            "marker": {
             "colorbar": {
              "outlinewidth": 0,
              "ticks": ""
             }
            },
            "type": "scatterpolargl"
           }
          ],
          "scatterternary": [
           {
            "marker": {
             "colorbar": {
              "outlinewidth": 0,
              "ticks": ""
             }
            },
            "type": "scatterternary"
           }
          ],
          "surface": [
           {
            "colorbar": {
             "outlinewidth": 0,
             "ticks": ""
            },
            "colorscale": [
             [
              0,
              "#0d0887"
             ],
             [
              0.1111111111111111,
              "#46039f"
             ],
             [
              0.2222222222222222,
              "#7201a8"
             ],
             [
              0.3333333333333333,
              "#9c179e"
             ],
             [
              0.4444444444444444,
              "#bd3786"
             ],
             [
              0.5555555555555556,
              "#d8576b"
             ],
             [
              0.6666666666666666,
              "#ed7953"
             ],
             [
              0.7777777777777778,
              "#fb9f3a"
             ],
             [
              0.8888888888888888,
              "#fdca26"
             ],
             [
              1,
              "#f0f921"
             ]
            ],
            "type": "surface"
           }
          ],
          "table": [
           {
            "cells": {
             "fill": {
              "color": "#EBF0F8"
             },
             "line": {
              "color": "white"
             }
            },
            "header": {
             "fill": {
              "color": "#C8D4E3"
             },
             "line": {
              "color": "white"
             }
            },
            "type": "table"
           }
          ]
         },
         "layout": {
          "annotationdefaults": {
           "arrowcolor": "#2a3f5f",
           "arrowhead": 0,
           "arrowwidth": 1
          },
          "autotypenumbers": "strict",
          "coloraxis": {
           "colorbar": {
            "outlinewidth": 0,
            "ticks": ""
           }
          },
          "colorscale": {
           "diverging": [
            [
             0,
             "#8e0152"
            ],
            [
             0.1,
             "#c51b7d"
            ],
            [
             0.2,
             "#de77ae"
            ],
            [
             0.3,
             "#f1b6da"
            ],
            [
             0.4,
             "#fde0ef"
            ],
            [
             0.5,
             "#f7f7f7"
            ],
            [
             0.6,
             "#e6f5d0"
            ],
            [
             0.7,
             "#b8e186"
            ],
            [
             0.8,
             "#7fbc41"
            ],
            [
             0.9,
             "#4d9221"
            ],
            [
             1,
             "#276419"
            ]
           ],
           "sequential": [
            [
             0,
             "#0d0887"
            ],
            [
             0.1111111111111111,
             "#46039f"
            ],
            [
             0.2222222222222222,
             "#7201a8"
            ],
            [
             0.3333333333333333,
             "#9c179e"
            ],
            [
             0.4444444444444444,
             "#bd3786"
            ],
            [
             0.5555555555555556,
             "#d8576b"
            ],
            [
             0.6666666666666666,
             "#ed7953"
            ],
            [
             0.7777777777777778,
             "#fb9f3a"
            ],
            [
             0.8888888888888888,
             "#fdca26"
            ],
            [
             1,
             "#f0f921"
            ]
           ],
           "sequentialminus": [
            [
             0,
             "#0d0887"
            ],
            [
             0.1111111111111111,
             "#46039f"
            ],
            [
             0.2222222222222222,
             "#7201a8"
            ],
            [
             0.3333333333333333,
             "#9c179e"
            ],
            [
             0.4444444444444444,
             "#bd3786"
            ],
            [
             0.5555555555555556,
             "#d8576b"
            ],
            [
             0.6666666666666666,
             "#ed7953"
            ],
            [
             0.7777777777777778,
             "#fb9f3a"
            ],
            [
             0.8888888888888888,
             "#fdca26"
            ],
            [
             1,
             "#f0f921"
            ]
           ]
          },
          "colorway": [
           "#636efa",
           "#EF553B",
           "#00cc96",
           "#ab63fa",
           "#FFA15A",
           "#19d3f3",
           "#FF6692",
           "#B6E880",
           "#FF97FF",
           "#FECB52"
          ],
          "font": {
           "color": "#2a3f5f"
          },
          "geo": {
           "bgcolor": "white",
           "lakecolor": "white",
           "landcolor": "#E5ECF6",
           "showlakes": true,
           "showland": true,
           "subunitcolor": "white"
          },
          "hoverlabel": {
           "align": "left"
          },
          "hovermode": "closest",
          "mapbox": {
           "style": "light"
          },
          "paper_bgcolor": "white",
          "plot_bgcolor": "#E5ECF6",
          "polar": {
           "angularaxis": {
            "gridcolor": "white",
            "linecolor": "white",
            "ticks": ""
           },
           "bgcolor": "#E5ECF6",
           "radialaxis": {
            "gridcolor": "white",
            "linecolor": "white",
            "ticks": ""
           }
          },
          "scene": {
           "xaxis": {
            "backgroundcolor": "#E5ECF6",
            "gridcolor": "white",
            "gridwidth": 2,
            "linecolor": "white",
            "showbackground": true,
            "ticks": "",
            "zerolinecolor": "white"
           },
           "yaxis": {
            "backgroundcolor": "#E5ECF6",
            "gridcolor": "white",
            "gridwidth": 2,
            "linecolor": "white",
            "showbackground": true,
            "ticks": "",
            "zerolinecolor": "white"
           },
           "zaxis": {
            "backgroundcolor": "#E5ECF6",
            "gridcolor": "white",
            "gridwidth": 2,
            "linecolor": "white",
            "showbackground": true,
            "ticks": "",
            "zerolinecolor": "white"
           }
          },
          "shapedefaults": {
           "line": {
            "color": "#2a3f5f"
           }
          },
          "ternary": {
           "aaxis": {
            "gridcolor": "white",
            "linecolor": "white",
            "ticks": ""
           },
           "baxis": {
            "gridcolor": "white",
            "linecolor": "white",
            "ticks": ""
           },
           "bgcolor": "#E5ECF6",
           "caxis": {
            "gridcolor": "white",
            "linecolor": "white",
            "ticks": ""
           }
          },
          "title": {
           "x": 0.05
          },
          "xaxis": {
           "automargin": true,
           "gridcolor": "white",
           "linecolor": "white",
           "ticks": "",
           "title": {
            "standoff": 15
           },
           "zerolinecolor": "white",
           "zerolinewidth": 2
          },
          "yaxis": {
           "automargin": true,
           "gridcolor": "white",
           "linecolor": "white",
           "ticks": "",
           "title": {
            "standoff": 15
           },
           "zerolinecolor": "white",
           "zerolinewidth": 2
          }
         }
        },
        "title": {
         "text": "Difference in FPTS_rank_change by Position"
        },
        "xaxis": {
         "title": {
          "text": "Year"
         }
        },
        "yaxis": {
         "title": {
          "text": "Difference in FPTS_rank_change"
         }
        }
       }
      }
     },
     "metadata": {},
     "output_type": "display_data"
    }
   ],
   "source": [
    "consistency_chart(df.copy(), 'qb')"
   ]
  },
  {
   "cell_type": "code",
   "execution_count": 32,
   "metadata": {},
   "outputs": [],
   "source": [
    "# Set the display option to not wrap columns\n",
    "pd.set_option('display.expand_frame_repr', False)\n",
    "\n",
    "def analyze_position(df, pos, year=2022, teams=12, per_team = 2):\n",
    "    filtered_df = df[(df['Year'] == year) & (df['pos'] == pos)].copy()\n",
    "    filtered_df.drop(columns=['Year', 'pos'], inplace=True)\n",
    "    filtered_df['FPTS_vs_ADP_rank'] = filtered_df['FPTS_rank'] - filtered_df['ADP_rank']\n",
    "    filtered_df.sort_values(by='FPTS_rank', ascending=True, inplace=True)\n",
    "    \n",
    "    print('top performers')\n",
    "    print(filtered_df.head(teams))\n",
    "    print()\n",
    "    print('best values')\n",
    "    print(filtered_df[filtered_df['FPTS_rank'] <= teams * per_team].sort_values(by='FPTS_vs_ADP_rank', ascending=True).head(10))\n",
    "    print()\n",
    "    print('worst values')\n",
    "    print(filtered_df[filtered_df['ADP_rank'] <= teams * per_team].sort_values(by='FPTS_vs_ADP_rank', ascending=False).head(10))\n",
    "    \n",
    "    df_plot = filtered_df[filtered_df['FPTS_rank'] <= teams * per_team]\n",
    "\n",
    "    fig = px.scatter(df_plot, x='ADP_rank', y='FPTS', trendline='ols',\n",
    "                    hover_name='Player', title='FPTS vs ADP_rank',\n",
    "                    labels={'ADP_rank': 'ADP Rank', 'FPTS': 'Fantasy Points'},\n",
    "                    hover_data=['FPTS_rank', 'G'])\n",
    "\n",
    "    # Invert the x-axis\n",
    "    fig.update_xaxes(autorange=\"reversed\")\n",
    "\n",
    "    fig.show()"
   ]
  },
  {
   "cell_type": "code",
   "execution_count": 33,
   "metadata": {},
   "outputs": [
    {
     "name": "stdout",
     "output_type": "stream",
     "text": [
      "top performers\n",
      "               Player     G    ADP   FPTS  FPTS/G  ADP_rank  FPTS_rank  round_drafted  pos_group  FPTS_vs_ADP_rank\n",
      "1470  Patrick Mahomes  17.0   33.0  428.9    25.2       2.0        1.0              3          1              -1.0\n",
      "1457       Josh Allen  17.0   22.0  412.4    24.3       1.0        2.0              2          1               1.0\n",
      "1495      Jalen Hurts  15.0   60.0  384.1    25.6       7.0        3.0              5          1              -4.0\n",
      "1492       Joe Burrow  17.0   56.5  369.0    21.7       6.0        4.0              5          1              -2.0\n",
      "1580    Justin Fields  15.0  167.0  307.0    20.5      18.0        5.0             14          1             -13.0\n",
      "1551     Kirk Cousins  17.0  126.0  305.6    18.0      15.0        6.0             11          1              -9.0\n",
      "1587  Trevor Lawrence  17.0  173.0  303.7    17.9      19.0        7.0             15          1             -12.0\n",
      "1641     Daniel Jones  16.0  232.0  293.9    18.4      28.0        8.0             17          1             -20.0\n",
      "1621       Jared Goff  17.0  177.0  290.8    17.1      21.0        9.0             15          1             -12.0\n",
      "1471   Justin Herbert  17.0   36.0  290.3    17.1       3.0       10.0              3          1               7.0\n",
      "1505        Tom Brady  17.0   70.5  280.5    16.5       8.0       11.0              6          1               3.0\n",
      "1527    Aaron Rodgers  17.0   93.0  251.3    14.8      11.0       12.0              8          1               1.0\n",
      "\n",
      "best values\n",
      "               Player     G    ADP   FPTS  FPTS/G  ADP_rank  FPTS_rank  round_drafted  pos_group  FPTS_vs_ADP_rank\n",
      "1641     Daniel Jones  16.0  232.0  293.9    18.4      28.0        8.0             17          1             -20.0\n",
      "1580    Justin Fields  15.0  167.0  307.0    20.5      18.0        5.0             14          1             -13.0\n",
      "1587  Trevor Lawrence  17.0  173.0  303.7    17.9      19.0        7.0             15          1             -12.0\n",
      "1621       Jared Goff  17.0  177.0  290.8    17.1      21.0        9.0             15          1             -12.0\n",
      "1551     Kirk Cousins  17.0  126.0  305.6    18.0      15.0        6.0             11          1              -9.0\n",
      "1495      Jalen Hurts  15.0   60.0  384.1    25.6       7.0        3.0              5          1              -4.0\n",
      "1492       Joe Burrow  17.0   56.5  369.0    21.7       6.0        4.0              5          1              -2.0\n",
      "1470  Patrick Mahomes  17.0   33.0  428.9    25.2       2.0        1.0              3          1              -1.0\n",
      "1457       Josh Allen  17.0   22.0  412.4    24.3       1.0        2.0              2          1               1.0\n",
      "1527    Aaron Rodgers  17.0   93.0  251.3    14.8      11.0       12.0              8          1               1.0\n",
      "\n",
      "worst values\n",
      "               Player     G   ADP   FPTS  FPTS/G  ADP_rank  FPTS_rank  round_drafted  pos_group  FPTS_vs_ADP_rank\n",
      "1532       Trey Lance   3.0  98.0   13.5     4.5      12.0       28.0              9          3              16.0\n",
      "1491     Kyler Murray  11.0  55.5  207.6    18.9       5.0       18.0              5          2              13.0\n",
      "1480    Lamar Jackson  12.0  42.5  243.1    20.3       4.0       13.0              4          2               9.0\n",
      "1471   Justin Herbert  17.0  36.0  290.3    17.1       3.0       10.0              3          1               7.0\n",
      "1522     Dak Prescott  12.0  89.5  213.6    17.8      10.0       17.0              8          2               7.0\n",
      "1507   Russell Wilson  15.0  71.5  236.5    15.8       9.0       15.0              6          2               6.0\n",
      "1505        Tom Brady  17.0  70.5  280.5    16.5       8.0       11.0              6          1               3.0\n",
      "1457       Josh Allen  17.0  22.0  412.4    24.3       1.0        2.0              2          1               1.0\n",
      "1527    Aaron Rodgers  17.0  93.0  251.3    14.8      11.0       12.0              8          1               1.0\n",
      "1470  Patrick Mahomes  17.0  33.0  428.9    25.2       2.0        1.0              3          1              -1.0\n"
     ]
    },
    {
     "data": {
      "application/vnd.plotly.v1+json": {
       "config": {
        "plotlyServerURL": "https://plot.ly"
       },
       "data": [
        {
         "customdata": [
          [
           1,
           17
          ],
          [
           2,
           17
          ],
          [
           3,
           15
          ],
          [
           4,
           17
          ],
          [
           5,
           15
          ],
          [
           6,
           17
          ],
          [
           7,
           17
          ],
          [
           8,
           16
          ],
          [
           9,
           17
          ],
          [
           10,
           17
          ],
          [
           11,
           17
          ],
          [
           12,
           17
          ]
         ],
         "hovertemplate": "<b>%{hovertext}</b><br><br>ADP Rank=%{x}<br>Fantasy Points=%{y}<br>FPTS_rank=%{customdata[0]}<br>G=%{customdata[1]}<extra></extra>",
         "hovertext": [
          "Patrick Mahomes",
          "Josh Allen",
          "Jalen Hurts",
          "Joe Burrow",
          "Justin Fields",
          "Kirk Cousins",
          "Trevor Lawrence",
          "Daniel Jones",
          "Jared Goff",
          "Justin Herbert",
          "Tom Brady",
          "Aaron Rodgers"
         ],
         "legendgroup": "",
         "marker": {
          "color": "#636efa",
          "symbol": "circle"
         },
         "mode": "markers",
         "name": "",
         "orientation": "v",
         "showlegend": false,
         "type": "scatter",
         "x": [
          2,
          1,
          7,
          6,
          18,
          15,
          19,
          28,
          21,
          3,
          8,
          11
         ],
         "xaxis": "x",
         "y": [
          428.9,
          412.4,
          384.1,
          369,
          307,
          305.6,
          303.7,
          293.9,
          290.8,
          290.3,
          280.5,
          251.3
         ],
         "yaxis": "y"
        },
        {
         "hovertemplate": "<b>OLS trendline</b><br>FPTS = -3.84379 * ADP_rank + 370.982<br>R<sup>2</sup>=0.334363<br><br>ADP Rank=%{x}<br>Fantasy Points=%{y} <b>(trend)</b><extra></extra>",
         "legendgroup": "",
         "marker": {
          "color": "#636efa",
          "symbol": "circle"
         },
         "mode": "lines",
         "name": "",
         "showlegend": false,
         "type": "scatter",
         "x": [
          1,
          2,
          3,
          6,
          7,
          8,
          11,
          15,
          18,
          19,
          21,
          28
         ],
         "xaxis": "x",
         "y": [
          367.1384773874524,
          363.2946842484805,
          359.45089110950863,
          347.919511692593,
          344.07571855362113,
          340.23192541464925,
          328.7005459977336,
          313.3253734418461,
          301.7939940249305,
          297.9502008859586,
          290.26261460801487,
          263.35606263521174
         ],
         "yaxis": "y"
        }
       ],
       "layout": {
        "legend": {
         "tracegroupgap": 0
        },
        "template": {
         "data": {
          "bar": [
           {
            "error_x": {
             "color": "#2a3f5f"
            },
            "error_y": {
             "color": "#2a3f5f"
            },
            "marker": {
             "line": {
              "color": "#E5ECF6",
              "width": 0.5
             },
             "pattern": {
              "fillmode": "overlay",
              "size": 10,
              "solidity": 0.2
             }
            },
            "type": "bar"
           }
          ],
          "barpolar": [
           {
            "marker": {
             "line": {
              "color": "#E5ECF6",
              "width": 0.5
             },
             "pattern": {
              "fillmode": "overlay",
              "size": 10,
              "solidity": 0.2
             }
            },
            "type": "barpolar"
           }
          ],
          "carpet": [
           {
            "aaxis": {
             "endlinecolor": "#2a3f5f",
             "gridcolor": "white",
             "linecolor": "white",
             "minorgridcolor": "white",
             "startlinecolor": "#2a3f5f"
            },
            "baxis": {
             "endlinecolor": "#2a3f5f",
             "gridcolor": "white",
             "linecolor": "white",
             "minorgridcolor": "white",
             "startlinecolor": "#2a3f5f"
            },
            "type": "carpet"
           }
          ],
          "choropleth": [
           {
            "colorbar": {
             "outlinewidth": 0,
             "ticks": ""
            },
            "type": "choropleth"
           }
          ],
          "contour": [
           {
            "colorbar": {
             "outlinewidth": 0,
             "ticks": ""
            },
            "colorscale": [
             [
              0,
              "#0d0887"
             ],
             [
              0.1111111111111111,
              "#46039f"
             ],
             [
              0.2222222222222222,
              "#7201a8"
             ],
             [
              0.3333333333333333,
              "#9c179e"
             ],
             [
              0.4444444444444444,
              "#bd3786"
             ],
             [
              0.5555555555555556,
              "#d8576b"
             ],
             [
              0.6666666666666666,
              "#ed7953"
             ],
             [
              0.7777777777777778,
              "#fb9f3a"
             ],
             [
              0.8888888888888888,
              "#fdca26"
             ],
             [
              1,
              "#f0f921"
             ]
            ],
            "type": "contour"
           }
          ],
          "contourcarpet": [
           {
            "colorbar": {
             "outlinewidth": 0,
             "ticks": ""
            },
            "type": "contourcarpet"
           }
          ],
          "heatmap": [
           {
            "colorbar": {
             "outlinewidth": 0,
             "ticks": ""
            },
            "colorscale": [
             [
              0,
              "#0d0887"
             ],
             [
              0.1111111111111111,
              "#46039f"
             ],
             [
              0.2222222222222222,
              "#7201a8"
             ],
             [
              0.3333333333333333,
              "#9c179e"
             ],
             [
              0.4444444444444444,
              "#bd3786"
             ],
             [
              0.5555555555555556,
              "#d8576b"
             ],
             [
              0.6666666666666666,
              "#ed7953"
             ],
             [
              0.7777777777777778,
              "#fb9f3a"
             ],
             [
              0.8888888888888888,
              "#fdca26"
             ],
             [
              1,
              "#f0f921"
             ]
            ],
            "type": "heatmap"
           }
          ],
          "heatmapgl": [
           {
            "colorbar": {
             "outlinewidth": 0,
             "ticks": ""
            },
            "colorscale": [
             [
              0,
              "#0d0887"
             ],
             [
              0.1111111111111111,
              "#46039f"
             ],
             [
              0.2222222222222222,
              "#7201a8"
             ],
             [
              0.3333333333333333,
              "#9c179e"
             ],
             [
              0.4444444444444444,
              "#bd3786"
             ],
             [
              0.5555555555555556,
              "#d8576b"
             ],
             [
              0.6666666666666666,
              "#ed7953"
             ],
             [
              0.7777777777777778,
              "#fb9f3a"
             ],
             [
              0.8888888888888888,
              "#fdca26"
             ],
             [
              1,
              "#f0f921"
             ]
            ],
            "type": "heatmapgl"
           }
          ],
          "histogram": [
           {
            "marker": {
             "pattern": {
              "fillmode": "overlay",
              "size": 10,
              "solidity": 0.2
             }
            },
            "type": "histogram"
           }
          ],
          "histogram2d": [
           {
            "colorbar": {
             "outlinewidth": 0,
             "ticks": ""
            },
            "colorscale": [
             [
              0,
              "#0d0887"
             ],
             [
              0.1111111111111111,
              "#46039f"
             ],
             [
              0.2222222222222222,
              "#7201a8"
             ],
             [
              0.3333333333333333,
              "#9c179e"
             ],
             [
              0.4444444444444444,
              "#bd3786"
             ],
             [
              0.5555555555555556,
              "#d8576b"
             ],
             [
              0.6666666666666666,
              "#ed7953"
             ],
             [
              0.7777777777777778,
              "#fb9f3a"
             ],
             [
              0.8888888888888888,
              "#fdca26"
             ],
             [
              1,
              "#f0f921"
             ]
            ],
            "type": "histogram2d"
           }
          ],
          "histogram2dcontour": [
           {
            "colorbar": {
             "outlinewidth": 0,
             "ticks": ""
            },
            "colorscale": [
             [
              0,
              "#0d0887"
             ],
             [
              0.1111111111111111,
              "#46039f"
             ],
             [
              0.2222222222222222,
              "#7201a8"
             ],
             [
              0.3333333333333333,
              "#9c179e"
             ],
             [
              0.4444444444444444,
              "#bd3786"
             ],
             [
              0.5555555555555556,
              "#d8576b"
             ],
             [
              0.6666666666666666,
              "#ed7953"
             ],
             [
              0.7777777777777778,
              "#fb9f3a"
             ],
             [
              0.8888888888888888,
              "#fdca26"
             ],
             [
              1,
              "#f0f921"
             ]
            ],
            "type": "histogram2dcontour"
           }
          ],
          "mesh3d": [
           {
            "colorbar": {
             "outlinewidth": 0,
             "ticks": ""
            },
            "type": "mesh3d"
           }
          ],
          "parcoords": [
           {
            "line": {
             "colorbar": {
              "outlinewidth": 0,
              "ticks": ""
             }
            },
            "type": "parcoords"
           }
          ],
          "pie": [
           {
            "automargin": true,
            "type": "pie"
           }
          ],
          "scatter": [
           {
            "fillpattern": {
             "fillmode": "overlay",
             "size": 10,
             "solidity": 0.2
            },
            "type": "scatter"
           }
          ],
          "scatter3d": [
           {
            "line": {
             "colorbar": {
              "outlinewidth": 0,
              "ticks": ""
             }
            },
            "marker": {
             "colorbar": {
              "outlinewidth": 0,
              "ticks": ""
             }
            },
            "type": "scatter3d"
           }
          ],
          "scattercarpet": [
           {
            "marker": {
             "colorbar": {
              "outlinewidth": 0,
              "ticks": ""
             }
            },
            "type": "scattercarpet"
           }
          ],
          "scattergeo": [
           {
            "marker": {
             "colorbar": {
              "outlinewidth": 0,
              "ticks": ""
             }
            },
            "type": "scattergeo"
           }
          ],
          "scattergl": [
           {
            "marker": {
             "colorbar": {
              "outlinewidth": 0,
              "ticks": ""
             }
            },
            "type": "scattergl"
           }
          ],
          "scattermapbox": [
           {
            "marker": {
             "colorbar": {
              "outlinewidth": 0,
              "ticks": ""
             }
            },
            "type": "scattermapbox"
           }
          ],
          "scatterpolar": [
           {
            "marker": {
             "colorbar": {
              "outlinewidth": 0,
              "ticks": ""
             }
            },
            "type": "scatterpolar"
           }
          ],
          "scatterpolargl": [
           {
            "marker": {
             "colorbar": {
              "outlinewidth": 0,
              "ticks": ""
             }
            },
            "type": "scatterpolargl"
           }
          ],
          "scatterternary": [
           {
            "marker": {
             "colorbar": {
              "outlinewidth": 0,
              "ticks": ""
             }
            },
            "type": "scatterternary"
           }
          ],
          "surface": [
           {
            "colorbar": {
             "outlinewidth": 0,
             "ticks": ""
            },
            "colorscale": [
             [
              0,
              "#0d0887"
             ],
             [
              0.1111111111111111,
              "#46039f"
             ],
             [
              0.2222222222222222,
              "#7201a8"
             ],
             [
              0.3333333333333333,
              "#9c179e"
             ],
             [
              0.4444444444444444,
              "#bd3786"
             ],
             [
              0.5555555555555556,
              "#d8576b"
             ],
             [
              0.6666666666666666,
              "#ed7953"
             ],
             [
              0.7777777777777778,
              "#fb9f3a"
             ],
             [
              0.8888888888888888,
              "#fdca26"
             ],
             [
              1,
              "#f0f921"
             ]
            ],
            "type": "surface"
           }
          ],
          "table": [
           {
            "cells": {
             "fill": {
              "color": "#EBF0F8"
             },
             "line": {
              "color": "white"
             }
            },
            "header": {
             "fill": {
              "color": "#C8D4E3"
             },
             "line": {
              "color": "white"
             }
            },
            "type": "table"
           }
          ]
         },
         "layout": {
          "annotationdefaults": {
           "arrowcolor": "#2a3f5f",
           "arrowhead": 0,
           "arrowwidth": 1
          },
          "autotypenumbers": "strict",
          "coloraxis": {
           "colorbar": {
            "outlinewidth": 0,
            "ticks": ""
           }
          },
          "colorscale": {
           "diverging": [
            [
             0,
             "#8e0152"
            ],
            [
             0.1,
             "#c51b7d"
            ],
            [
             0.2,
             "#de77ae"
            ],
            [
             0.3,
             "#f1b6da"
            ],
            [
             0.4,
             "#fde0ef"
            ],
            [
             0.5,
             "#f7f7f7"
            ],
            [
             0.6,
             "#e6f5d0"
            ],
            [
             0.7,
             "#b8e186"
            ],
            [
             0.8,
             "#7fbc41"
            ],
            [
             0.9,
             "#4d9221"
            ],
            [
             1,
             "#276419"
            ]
           ],
           "sequential": [
            [
             0,
             "#0d0887"
            ],
            [
             0.1111111111111111,
             "#46039f"
            ],
            [
             0.2222222222222222,
             "#7201a8"
            ],
            [
             0.3333333333333333,
             "#9c179e"
            ],
            [
             0.4444444444444444,
             "#bd3786"
            ],
            [
             0.5555555555555556,
             "#d8576b"
            ],
            [
             0.6666666666666666,
             "#ed7953"
            ],
            [
             0.7777777777777778,
             "#fb9f3a"
            ],
            [
             0.8888888888888888,
             "#fdca26"
            ],
            [
             1,
             "#f0f921"
            ]
           ],
           "sequentialminus": [
            [
             0,
             "#0d0887"
            ],
            [
             0.1111111111111111,
             "#46039f"
            ],
            [
             0.2222222222222222,
             "#7201a8"
            ],
            [
             0.3333333333333333,
             "#9c179e"
            ],
            [
             0.4444444444444444,
             "#bd3786"
            ],
            [
             0.5555555555555556,
             "#d8576b"
            ],
            [
             0.6666666666666666,
             "#ed7953"
            ],
            [
             0.7777777777777778,
             "#fb9f3a"
            ],
            [
             0.8888888888888888,
             "#fdca26"
            ],
            [
             1,
             "#f0f921"
            ]
           ]
          },
          "colorway": [
           "#636efa",
           "#EF553B",
           "#00cc96",
           "#ab63fa",
           "#FFA15A",
           "#19d3f3",
           "#FF6692",
           "#B6E880",
           "#FF97FF",
           "#FECB52"
          ],
          "font": {
           "color": "#2a3f5f"
          },
          "geo": {
           "bgcolor": "white",
           "lakecolor": "white",
           "landcolor": "#E5ECF6",
           "showlakes": true,
           "showland": true,
           "subunitcolor": "white"
          },
          "hoverlabel": {
           "align": "left"
          },
          "hovermode": "closest",
          "mapbox": {
           "style": "light"
          },
          "paper_bgcolor": "white",
          "plot_bgcolor": "#E5ECF6",
          "polar": {
           "angularaxis": {
            "gridcolor": "white",
            "linecolor": "white",
            "ticks": ""
           },
           "bgcolor": "#E5ECF6",
           "radialaxis": {
            "gridcolor": "white",
            "linecolor": "white",
            "ticks": ""
           }
          },
          "scene": {
           "xaxis": {
            "backgroundcolor": "#E5ECF6",
            "gridcolor": "white",
            "gridwidth": 2,
            "linecolor": "white",
            "showbackground": true,
            "ticks": "",
            "zerolinecolor": "white"
           },
           "yaxis": {
            "backgroundcolor": "#E5ECF6",
            "gridcolor": "white",
            "gridwidth": 2,
            "linecolor": "white",
            "showbackground": true,
            "ticks": "",
            "zerolinecolor": "white"
           },
           "zaxis": {
            "backgroundcolor": "#E5ECF6",
            "gridcolor": "white",
            "gridwidth": 2,
            "linecolor": "white",
            "showbackground": true,
            "ticks": "",
            "zerolinecolor": "white"
           }
          },
          "shapedefaults": {
           "line": {
            "color": "#2a3f5f"
           }
          },
          "ternary": {
           "aaxis": {
            "gridcolor": "white",
            "linecolor": "white",
            "ticks": ""
           },
           "baxis": {
            "gridcolor": "white",
            "linecolor": "white",
            "ticks": ""
           },
           "bgcolor": "#E5ECF6",
           "caxis": {
            "gridcolor": "white",
            "linecolor": "white",
            "ticks": ""
           }
          },
          "title": {
           "x": 0.05
          },
          "xaxis": {
           "automargin": true,
           "gridcolor": "white",
           "linecolor": "white",
           "ticks": "",
           "title": {
            "standoff": 15
           },
           "zerolinecolor": "white",
           "zerolinewidth": 2
          },
          "yaxis": {
           "automargin": true,
           "gridcolor": "white",
           "linecolor": "white",
           "ticks": "",
           "title": {
            "standoff": 15
           },
           "zerolinecolor": "white",
           "zerolinewidth": 2
          }
         }
        },
        "title": {
         "text": "FPTS vs ADP_rank"
        },
        "xaxis": {
         "anchor": "y",
         "autorange": "reversed",
         "domain": [
          0,
          1
         ],
         "title": {
          "text": "ADP Rank"
         }
        },
        "yaxis": {
         "anchor": "x",
         "domain": [
          0,
          1
         ],
         "title": {
          "text": "Fantasy Points"
         }
        }
       }
      }
     },
     "metadata": {},
     "output_type": "display_data"
    }
   ],
   "source": [
    "analyze_position(df, 'qb', per_team=1)"
   ]
  },
  {
   "cell_type": "code",
   "execution_count": 34,
   "metadata": {},
   "outputs": [
    {
     "name": "stdout",
     "output_type": "stream",
     "text": [
      "top performers\n",
      "                   Player     G    ADP   FPTS  FPTS/G  ADP_rank  FPTS_rank  round_drafted  pos_group  FPTS_vs_ADP_rank\n",
      "1439        Austin Ekeler  17.0    3.5  319.2    18.8       3.0        1.0              1          1              -2.0\n",
      "1438  Christian McCaffrey  17.0    2.0  313.9    18.5       2.0        2.0              1          1               0.0\n",
      "1486          Josh Jacobs  17.0   49.5  301.8    17.8      22.0        3.0              5          1             -19.0\n",
      "1440        Derrick Henry  16.0    4.5  286.3    17.9       4.0        4.0              1          1               0.0\n",
      "1455           Nick Chubb  17.0   17.5  267.9    15.8      12.0        5.0              2          1              -7.0\n",
      "1454       Saquon Barkley  16.0   16.5  255.5    16.0      11.0        6.0              2          1              -5.0\n",
      "1521         Tony Pollard  16.0   87.0  229.3    14.3      33.0        7.0              8          1             -26.0\n",
      "1590      Jamaal Williams  17.0  179.0  219.9    12.9      57.0        8.0             15          1             -49.0\n",
      "1453          Aaron Jones  17.0   16.0  219.1    12.9      10.0        9.0              2          1              -1.0\n",
      "1443          Dalvin Cook  17.0    6.5  218.3    12.8       5.0       10.0              1          1               5.0\n",
      "1525  Rhamondre Stevenson  17.0   91.5  214.6    12.6      36.0       11.0              8          1             -25.0\n",
      "1446            Joe Mixon  15.0   10.0  210.7    14.0       7.0       12.0              1          1               5.0\n",
      "\n",
      "best values\n",
      "                   Player     G    ADP   FPTS  FPTS/G  ADP_rank  FPTS_rank  round_drafted  pos_group  FPTS_vs_ADP_rank\n",
      "1590      Jamaal Williams  17.0  179.0  219.9    12.9      57.0        8.0             15          1             -49.0\n",
      "1643      Jerick McKinnon  17.0  226.0  168.3     9.9      69.0       21.0             17          2             -48.0\n",
      "1521         Tony Pollard  16.0   87.0  229.3    14.3      33.0        7.0              8          1             -26.0\n",
      "1525  Rhamondre Stevenson  17.0   91.5  214.6    12.6      36.0       11.0              8          1             -25.0\n",
      "1536       Kenneth Walker  15.0  103.5  189.0    12.6      38.0       16.0              9          2             -22.0\n",
      "1486          Josh Jacobs  17.0   49.5  301.8    17.8      22.0        3.0              5          1             -19.0\n",
      "1517        Miles Sanders  17.0   82.5  206.7    12.2      30.0       13.0              7          2             -17.0\n",
      "1518     Devin Singletary  17.0   84.0  159.2     9.4      31.0       24.0              7          2              -7.0\n",
      "1455           Nick Chubb  17.0   17.5  267.9    15.8      12.0        5.0              2          1              -7.0\n",
      "1454       Saquon Barkley  16.0   16.5  255.5    16.0      11.0        6.0              2          1              -5.0\n",
      "\n",
      "worst values\n",
      "                Player     G   ADP   FPTS  FPTS/G  ADP_rank  FPTS_rank  round_drafted  pos_group  FPTS_vs_ADP_rank\n",
      "1459  Javonte Williams   4.0  23.0   34.0     8.5      14.0       64.0              2          6              50.0\n",
      "1482   Elijah Mitchell   5.0  45.5   42.1     8.4      21.0       61.0              4          6              40.0\n",
      "1437   Jonathan Taylor  12.0   1.0  132.4    11.0       1.0       33.0              1          3              32.0\n",
      "1490      J.K. Dobbins   8.0  55.0   77.7     9.7      24.0       50.0              5          5              26.0\n",
      "1476       Breece Hall   7.0  40.5  105.6    15.1      18.0       41.0              4          4              23.0\n",
      "1449     D'Andre Swift  14.0  14.5  167.1    11.9       8.0       22.0              2          2              14.0\n",
      "1479         Cam Akers  15.0  42.0  134.8     9.0      19.0       32.0              4          3              13.0\n",
      "1451      Alvin Kamara  15.0  15.5  183.2    12.2       9.0       18.0              2          2               9.0\n",
      "1444      Najee Harris  17.0   8.0  203.0    11.9       6.0       14.0              1          2               8.0\n",
      "1446         Joe Mixon  15.0  10.0  210.7    14.0       7.0       12.0              1          1               5.0\n"
     ]
    },
    {
     "data": {
      "application/vnd.plotly.v1+json": {
       "config": {
        "plotlyServerURL": "https://plot.ly"
       },
       "data": [
        {
         "customdata": [
          [
           1,
           17
          ],
          [
           2,
           17
          ],
          [
           3,
           17
          ],
          [
           4,
           16
          ],
          [
           5,
           17
          ],
          [
           6,
           16
          ],
          [
           7,
           16
          ],
          [
           8,
           17
          ],
          [
           9,
           17
          ],
          [
           10,
           17
          ],
          [
           11,
           17
          ],
          [
           12,
           15
          ],
          [
           13,
           17
          ],
          [
           14,
           17
          ],
          [
           15,
           16
          ],
          [
           16,
           15
          ],
          [
           17,
           17
          ],
          [
           18,
           15
          ],
          [
           19,
           15
          ],
          [
           20,
           13
          ],
          [
           21,
           17
          ],
          [
           22,
           14
          ],
          [
           23,
           16
          ],
          [
           24,
           17
          ]
         ],
         "hovertemplate": "<b>%{hovertext}</b><br><br>ADP Rank=%{x}<br>Fantasy Points=%{y}<br>FPTS_rank=%{customdata[0]}<br>G=%{customdata[1]}<extra></extra>",
         "hovertext": [
          "Austin Ekeler",
          "Christian McCaffrey",
          "Josh Jacobs",
          "Derrick Henry",
          "Nick Chubb",
          "Saquon Barkley",
          "Tony Pollard",
          "Jamaal Williams",
          "Aaron Jones",
          "Dalvin Cook",
          "Rhamondre Stevenson",
          "Joe Mixon",
          "Miles Sanders",
          "Najee Harris",
          "Leonard Fournette",
          "Kenneth Walker",
          "Travis Etienne",
          "Alvin Kamara",
          "Ezekiel Elliott",
          "James Conner",
          "Jerick McKinnon",
          "D'Andre Swift",
          "David Montgomery",
          "Devin Singletary"
         ],
         "legendgroup": "",
         "marker": {
          "color": "#636efa",
          "symbol": "circle"
         },
         "mode": "markers",
         "name": "",
         "orientation": "v",
         "showlegend": false,
         "type": "scatter",
         "x": [
          3,
          2,
          22,
          4,
          12,
          11,
          33,
          57,
          10,
          5,
          36,
          7,
          30,
          6,
          13,
          38,
          17,
          9,
          15,
          16,
          69,
          8,
          19,
          31
         ],
         "xaxis": "x",
         "y": [
          319.2,
          313.9,
          301.8,
          286.3,
          267.9,
          255.5,
          229.3,
          219.9,
          219.1,
          218.3,
          214.6,
          210.7,
          206.7,
          203,
          190.6,
          189,
          187.6,
          183.2,
          177.3,
          177.2,
          168.3,
          167.1,
          160.7,
          159.2
         ],
         "yaxis": "y"
        },
        {
         "hovertemplate": "<b>OLS trendline</b><br>FPTS = -0.979955 * ADP_rank + 237.08<br>R<sup>2</sup>=0.120187<br><br>ADP Rank=%{x}<br>Fantasy Points=%{y} <b>(trend)</b><extra></extra>",
         "legendgroup": "",
         "marker": {
          "color": "#636efa",
          "symbol": "circle"
         },
         "mode": "lines",
         "name": "",
         "showlegend": false,
         "type": "scatter",
         "x": [
          2,
          3,
          4,
          5,
          6,
          7,
          8,
          9,
          10,
          11,
          12,
          13,
          15,
          16,
          17,
          19,
          22,
          30,
          31,
          33,
          36,
          38,
          57,
          69
         ],
         "xaxis": "x",
         "y": [
          235.1200381737764,
          234.14008307690432,
          233.16012798003226,
          232.18017288316017,
          231.2002177862881,
          230.22026268941602,
          229.24030759254396,
          228.26035249567187,
          227.2803973987998,
          226.30044230192772,
          225.32048720505566,
          224.34053210818357,
          222.38062191443942,
          221.40066681756736,
          220.42071172069527,
          218.46080152695112,
          215.52093623633488,
          207.68129546135827,
          206.7013403644862,
          204.74143017074203,
          201.80156488012582,
          199.84165468638167,
          181.22250784581223,
          169.46304668334733
         ],
         "yaxis": "y"
        }
       ],
       "layout": {
        "legend": {
         "tracegroupgap": 0
        },
        "template": {
         "data": {
          "bar": [
           {
            "error_x": {
             "color": "#2a3f5f"
            },
            "error_y": {
             "color": "#2a3f5f"
            },
            "marker": {
             "line": {
              "color": "#E5ECF6",
              "width": 0.5
             },
             "pattern": {
              "fillmode": "overlay",
              "size": 10,
              "solidity": 0.2
             }
            },
            "type": "bar"
           }
          ],
          "barpolar": [
           {
            "marker": {
             "line": {
              "color": "#E5ECF6",
              "width": 0.5
             },
             "pattern": {
              "fillmode": "overlay",
              "size": 10,
              "solidity": 0.2
             }
            },
            "type": "barpolar"
           }
          ],
          "carpet": [
           {
            "aaxis": {
             "endlinecolor": "#2a3f5f",
             "gridcolor": "white",
             "linecolor": "white",
             "minorgridcolor": "white",
             "startlinecolor": "#2a3f5f"
            },
            "baxis": {
             "endlinecolor": "#2a3f5f",
             "gridcolor": "white",
             "linecolor": "white",
             "minorgridcolor": "white",
             "startlinecolor": "#2a3f5f"
            },
            "type": "carpet"
           }
          ],
          "choropleth": [
           {
            "colorbar": {
             "outlinewidth": 0,
             "ticks": ""
            },
            "type": "choropleth"
           }
          ],
          "contour": [
           {
            "colorbar": {
             "outlinewidth": 0,
             "ticks": ""
            },
            "colorscale": [
             [
              0,
              "#0d0887"
             ],
             [
              0.1111111111111111,
              "#46039f"
             ],
             [
              0.2222222222222222,
              "#7201a8"
             ],
             [
              0.3333333333333333,
              "#9c179e"
             ],
             [
              0.4444444444444444,
              "#bd3786"
             ],
             [
              0.5555555555555556,
              "#d8576b"
             ],
             [
              0.6666666666666666,
              "#ed7953"
             ],
             [
              0.7777777777777778,
              "#fb9f3a"
             ],
             [
              0.8888888888888888,
              "#fdca26"
             ],
             [
              1,
              "#f0f921"
             ]
            ],
            "type": "contour"
           }
          ],
          "contourcarpet": [
           {
            "colorbar": {
             "outlinewidth": 0,
             "ticks": ""
            },
            "type": "contourcarpet"
           }
          ],
          "heatmap": [
           {
            "colorbar": {
             "outlinewidth": 0,
             "ticks": ""
            },
            "colorscale": [
             [
              0,
              "#0d0887"
             ],
             [
              0.1111111111111111,
              "#46039f"
             ],
             [
              0.2222222222222222,
              "#7201a8"
             ],
             [
              0.3333333333333333,
              "#9c179e"
             ],
             [
              0.4444444444444444,
              "#bd3786"
             ],
             [
              0.5555555555555556,
              "#d8576b"
             ],
             [
              0.6666666666666666,
              "#ed7953"
             ],
             [
              0.7777777777777778,
              "#fb9f3a"
             ],
             [
              0.8888888888888888,
              "#fdca26"
             ],
             [
              1,
              "#f0f921"
             ]
            ],
            "type": "heatmap"
           }
          ],
          "heatmapgl": [
           {
            "colorbar": {
             "outlinewidth": 0,
             "ticks": ""
            },
            "colorscale": [
             [
              0,
              "#0d0887"
             ],
             [
              0.1111111111111111,
              "#46039f"
             ],
             [
              0.2222222222222222,
              "#7201a8"
             ],
             [
              0.3333333333333333,
              "#9c179e"
             ],
             [
              0.4444444444444444,
              "#bd3786"
             ],
             [
              0.5555555555555556,
              "#d8576b"
             ],
             [
              0.6666666666666666,
              "#ed7953"
             ],
             [
              0.7777777777777778,
              "#fb9f3a"
             ],
             [
              0.8888888888888888,
              "#fdca26"
             ],
             [
              1,
              "#f0f921"
             ]
            ],
            "type": "heatmapgl"
           }
          ],
          "histogram": [
           {
            "marker": {
             "pattern": {
              "fillmode": "overlay",
              "size": 10,
              "solidity": 0.2
             }
            },
            "type": "histogram"
           }
          ],
          "histogram2d": [
           {
            "colorbar": {
             "outlinewidth": 0,
             "ticks": ""
            },
            "colorscale": [
             [
              0,
              "#0d0887"
             ],
             [
              0.1111111111111111,
              "#46039f"
             ],
             [
              0.2222222222222222,
              "#7201a8"
             ],
             [
              0.3333333333333333,
              "#9c179e"
             ],
             [
              0.4444444444444444,
              "#bd3786"
             ],
             [
              0.5555555555555556,
              "#d8576b"
             ],
             [
              0.6666666666666666,
              "#ed7953"
             ],
             [
              0.7777777777777778,
              "#fb9f3a"
             ],
             [
              0.8888888888888888,
              "#fdca26"
             ],
             [
              1,
              "#f0f921"
             ]
            ],
            "type": "histogram2d"
           }
          ],
          "histogram2dcontour": [
           {
            "colorbar": {
             "outlinewidth": 0,
             "ticks": ""
            },
            "colorscale": [
             [
              0,
              "#0d0887"
             ],
             [
              0.1111111111111111,
              "#46039f"
             ],
             [
              0.2222222222222222,
              "#7201a8"
             ],
             [
              0.3333333333333333,
              "#9c179e"
             ],
             [
              0.4444444444444444,
              "#bd3786"
             ],
             [
              0.5555555555555556,
              "#d8576b"
             ],
             [
              0.6666666666666666,
              "#ed7953"
             ],
             [
              0.7777777777777778,
              "#fb9f3a"
             ],
             [
              0.8888888888888888,
              "#fdca26"
             ],
             [
              1,
              "#f0f921"
             ]
            ],
            "type": "histogram2dcontour"
           }
          ],
          "mesh3d": [
           {
            "colorbar": {
             "outlinewidth": 0,
             "ticks": ""
            },
            "type": "mesh3d"
           }
          ],
          "parcoords": [
           {
            "line": {
             "colorbar": {
              "outlinewidth": 0,
              "ticks": ""
             }
            },
            "type": "parcoords"
           }
          ],
          "pie": [
           {
            "automargin": true,
            "type": "pie"
           }
          ],
          "scatter": [
           {
            "fillpattern": {
             "fillmode": "overlay",
             "size": 10,
             "solidity": 0.2
            },
            "type": "scatter"
           }
          ],
          "scatter3d": [
           {
            "line": {
             "colorbar": {
              "outlinewidth": 0,
              "ticks": ""
             }
            },
            "marker": {
             "colorbar": {
              "outlinewidth": 0,
              "ticks": ""
             }
            },
            "type": "scatter3d"
           }
          ],
          "scattercarpet": [
           {
            "marker": {
             "colorbar": {
              "outlinewidth": 0,
              "ticks": ""
             }
            },
            "type": "scattercarpet"
           }
          ],
          "scattergeo": [
           {
            "marker": {
             "colorbar": {
              "outlinewidth": 0,
              "ticks": ""
             }
            },
            "type": "scattergeo"
           }
          ],
          "scattergl": [
           {
            "marker": {
             "colorbar": {
              "outlinewidth": 0,
              "ticks": ""
             }
            },
            "type": "scattergl"
           }
          ],
          "scattermapbox": [
           {
            "marker": {
             "colorbar": {
              "outlinewidth": 0,
              "ticks": ""
             }
            },
            "type": "scattermapbox"
           }
          ],
          "scatterpolar": [
           {
            "marker": {
             "colorbar": {
              "outlinewidth": 0,
              "ticks": ""
             }
            },
            "type": "scatterpolar"
           }
          ],
          "scatterpolargl": [
           {
            "marker": {
             "colorbar": {
              "outlinewidth": 0,
              "ticks": ""
             }
            },
            "type": "scatterpolargl"
           }
          ],
          "scatterternary": [
           {
            "marker": {
             "colorbar": {
              "outlinewidth": 0,
              "ticks": ""
             }
            },
            "type": "scatterternary"
           }
          ],
          "surface": [
           {
            "colorbar": {
             "outlinewidth": 0,
             "ticks": ""
            },
            "colorscale": [
             [
              0,
              "#0d0887"
             ],
             [
              0.1111111111111111,
              "#46039f"
             ],
             [
              0.2222222222222222,
              "#7201a8"
             ],
             [
              0.3333333333333333,
              "#9c179e"
             ],
             [
              0.4444444444444444,
              "#bd3786"
             ],
             [
              0.5555555555555556,
              "#d8576b"
             ],
             [
              0.6666666666666666,
              "#ed7953"
             ],
             [
              0.7777777777777778,
              "#fb9f3a"
             ],
             [
              0.8888888888888888,
              "#fdca26"
             ],
             [
              1,
              "#f0f921"
             ]
            ],
            "type": "surface"
           }
          ],
          "table": [
           {
            "cells": {
             "fill": {
              "color": "#EBF0F8"
             },
             "line": {
              "color": "white"
             }
            },
            "header": {
             "fill": {
              "color": "#C8D4E3"
             },
             "line": {
              "color": "white"
             }
            },
            "type": "table"
           }
          ]
         },
         "layout": {
          "annotationdefaults": {
           "arrowcolor": "#2a3f5f",
           "arrowhead": 0,
           "arrowwidth": 1
          },
          "autotypenumbers": "strict",
          "coloraxis": {
           "colorbar": {
            "outlinewidth": 0,
            "ticks": ""
           }
          },
          "colorscale": {
           "diverging": [
            [
             0,
             "#8e0152"
            ],
            [
             0.1,
             "#c51b7d"
            ],
            [
             0.2,
             "#de77ae"
            ],
            [
             0.3,
             "#f1b6da"
            ],
            [
             0.4,
             "#fde0ef"
            ],
            [
             0.5,
             "#f7f7f7"
            ],
            [
             0.6,
             "#e6f5d0"
            ],
            [
             0.7,
             "#b8e186"
            ],
            [
             0.8,
             "#7fbc41"
            ],
            [
             0.9,
             "#4d9221"
            ],
            [
             1,
             "#276419"
            ]
           ],
           "sequential": [
            [
             0,
             "#0d0887"
            ],
            [
             0.1111111111111111,
             "#46039f"
            ],
            [
             0.2222222222222222,
             "#7201a8"
            ],
            [
             0.3333333333333333,
             "#9c179e"
            ],
            [
             0.4444444444444444,
             "#bd3786"
            ],
            [
             0.5555555555555556,
             "#d8576b"
            ],
            [
             0.6666666666666666,
             "#ed7953"
            ],
            [
             0.7777777777777778,
             "#fb9f3a"
            ],
            [
             0.8888888888888888,
             "#fdca26"
            ],
            [
             1,
             "#f0f921"
            ]
           ],
           "sequentialminus": [
            [
             0,
             "#0d0887"
            ],
            [
             0.1111111111111111,
             "#46039f"
            ],
            [
             0.2222222222222222,
             "#7201a8"
            ],
            [
             0.3333333333333333,
             "#9c179e"
            ],
            [
             0.4444444444444444,
             "#bd3786"
            ],
            [
             0.5555555555555556,
             "#d8576b"
            ],
            [
             0.6666666666666666,
             "#ed7953"
            ],
            [
             0.7777777777777778,
             "#fb9f3a"
            ],
            [
             0.8888888888888888,
             "#fdca26"
            ],
            [
             1,
             "#f0f921"
            ]
           ]
          },
          "colorway": [
           "#636efa",
           "#EF553B",
           "#00cc96",
           "#ab63fa",
           "#FFA15A",
           "#19d3f3",
           "#FF6692",
           "#B6E880",
           "#FF97FF",
           "#FECB52"
          ],
          "font": {
           "color": "#2a3f5f"
          },
          "geo": {
           "bgcolor": "white",
           "lakecolor": "white",
           "landcolor": "#E5ECF6",
           "showlakes": true,
           "showland": true,
           "subunitcolor": "white"
          },
          "hoverlabel": {
           "align": "left"
          },
          "hovermode": "closest",
          "mapbox": {
           "style": "light"
          },
          "paper_bgcolor": "white",
          "plot_bgcolor": "#E5ECF6",
          "polar": {
           "angularaxis": {
            "gridcolor": "white",
            "linecolor": "white",
            "ticks": ""
           },
           "bgcolor": "#E5ECF6",
           "radialaxis": {
            "gridcolor": "white",
            "linecolor": "white",
            "ticks": ""
           }
          },
          "scene": {
           "xaxis": {
            "backgroundcolor": "#E5ECF6",
            "gridcolor": "white",
            "gridwidth": 2,
            "linecolor": "white",
            "showbackground": true,
            "ticks": "",
            "zerolinecolor": "white"
           },
           "yaxis": {
            "backgroundcolor": "#E5ECF6",
            "gridcolor": "white",
            "gridwidth": 2,
            "linecolor": "white",
            "showbackground": true,
            "ticks": "",
            "zerolinecolor": "white"
           },
           "zaxis": {
            "backgroundcolor": "#E5ECF6",
            "gridcolor": "white",
            "gridwidth": 2,
            "linecolor": "white",
            "showbackground": true,
            "ticks": "",
            "zerolinecolor": "white"
           }
          },
          "shapedefaults": {
           "line": {
            "color": "#2a3f5f"
           }
          },
          "ternary": {
           "aaxis": {
            "gridcolor": "white",
            "linecolor": "white",
            "ticks": ""
           },
           "baxis": {
            "gridcolor": "white",
            "linecolor": "white",
            "ticks": ""
           },
           "bgcolor": "#E5ECF6",
           "caxis": {
            "gridcolor": "white",
            "linecolor": "white",
            "ticks": ""
           }
          },
          "title": {
           "x": 0.05
          },
          "xaxis": {
           "automargin": true,
           "gridcolor": "white",
           "linecolor": "white",
           "ticks": "",
           "title": {
            "standoff": 15
           },
           "zerolinecolor": "white",
           "zerolinewidth": 2
          },
          "yaxis": {
           "automargin": true,
           "gridcolor": "white",
           "linecolor": "white",
           "ticks": "",
           "title": {
            "standoff": 15
           },
           "zerolinecolor": "white",
           "zerolinewidth": 2
          }
         }
        },
        "title": {
         "text": "FPTS vs ADP_rank"
        },
        "xaxis": {
         "anchor": "y",
         "autorange": "reversed",
         "domain": [
          0,
          1
         ],
         "title": {
          "text": "ADP Rank"
         }
        },
        "yaxis": {
         "anchor": "x",
         "domain": [
          0,
          1
         ],
         "title": {
          "text": "Fantasy Points"
         }
        }
       }
      }
     },
     "metadata": {},
     "output_type": "display_data"
    }
   ],
   "source": [
    "analyze_position(df, 'rb')"
   ]
  },
  {
   "cell_type": "code",
   "execution_count": 35,
   "metadata": {},
   "outputs": [
    {
     "name": "stdout",
     "output_type": "stream",
     "text": [
      "top performers\n",
      "                Player     G    ADP   FPTS  FPTS/G  ADP_rank  FPTS_rank  round_drafted  pos_group  FPTS_vs_ADP_rank\n",
      "1442  Justin Jefferson  17.0    6.5  304.6    17.9       2.0        1.0              1          1              -1.0\n",
      "1447     Davante Adams  17.0   11.5  285.5    16.8       4.0        2.0              1          1              -2.0\n",
      "1456       Tyreek Hill  17.0   22.0  281.7    16.6       7.0        3.0              2          1              -4.0\n",
      "1448      Stefon Diggs  17.0   12.0  266.2    15.7       5.0        4.0              1          1              -1.0\n",
      "1466        A.J. Brown  17.0   30.0  255.6    15.0      10.0        5.0              3          1              -5.0\n",
      "1452       CeeDee Lamb  17.0   16.0  248.1    14.6       6.0        6.0              2          1               0.0\n",
      "1485     Jaylen Waddle  17.0   49.0  221.7    13.0      19.0        7.0              5          1             -12.0\n",
      "1499       Amon-Ra St.  16.0   65.0  214.6    13.4      25.0        8.0              6          1             -17.0\n",
      "1511      Amari Cooper  17.0   75.5  208.0    12.2      30.0        9.0              7          1             -21.0\n",
      "1531     DeVonta Smith  17.0   97.5  207.1    12.2      38.0       10.0              9          1             -28.0\n",
      "1537    Christian Kirk  17.0  104.0  199.9    11.8      40.0       11.0              9          1             -29.0\n",
      "1445     Ja'Marr Chase  13.0    9.0  198.9    15.3       3.0       12.0              1          1               9.0\n",
      "\n",
      "best values\n",
      "              Player     G    ADP   FPTS  FPTS/G  ADP_rank  FPTS_rank  round_drafted  pos_group  FPTS_vs_ADP_rank\n",
      "1558  Garrett Wilson  17.0  144.0  174.2    10.2      49.0       19.0             12          2             -30.0\n",
      "1537  Christian Kirk  17.0  104.0  199.9    11.8      40.0       11.0              9          1             -29.0\n",
      "1540   Tyler Lockett  16.0  110.5  195.3    12.2      42.0       13.0             10          2             -29.0\n",
      "1531   DeVonta Smith  17.0   97.5  207.1    12.2      38.0       10.0              9          1             -28.0\n",
      "1529   Brandon Aiyuk  17.0   96.0  188.8    11.1      37.0       15.0              8          2             -22.0\n",
      "1511    Amari Cooper  17.0   75.5  208.0    12.2      30.0        9.0              7          1             -21.0\n",
      "1499     Amon-Ra St.  16.0   65.0  214.6    13.4      25.0        8.0              6          1             -17.0\n",
      "1485   Jaylen Waddle  17.0   49.0  221.7    13.0      19.0        7.0              5          1             -12.0\n",
      "1513    Chris Godwin  15.0   79.0  170.8    11.4      32.0       20.0              7          2             -12.0\n",
      "1466      A.J. Brown  17.0   30.0  255.6    15.0      10.0        5.0              3          1              -5.0\n",
      "\n",
      "worst values\n",
      "                Player     G   ADP   FPTS  FPTS/G  ADP_rank  FPTS_rank  round_drafted  pos_group  FPTS_vs_ADP_rank\n",
      "1487    Allen Robinson  10.0  50.5   68.4     6.8      20.0       67.0              5          6              47.0\n",
      "1467      Keenan Allen  10.0  30.5  131.0    13.1      12.0       42.0              3          4              30.0\n",
      "1461      Deebo Samuel  13.0  23.5  140.4    10.8       8.0       38.0              2          4              30.0\n",
      "1481  Courtland Sutton  15.0  44.0  127.4     8.5      17.0       43.0              4          4              26.0\n",
      "1497     Brandin Cooks  13.0  63.5  117.1     9.0      23.0       48.0              6          4              25.0\n",
      "1441       Cooper Kupp   9.0   4.5  163.9    18.2       1.0       24.0              1          2              23.0\n",
      "1484   Diontae Johnson  17.0  48.5  137.7     8.1      18.0       39.0              5          4              21.0\n",
      "1475     Mike Williams  13.0  40.5  145.0    11.2      15.0       31.0              4          3              16.0\n",
      "1465   Michael Pittman  16.0  30.0  167.0    10.4      10.0       23.0              3          2              13.0\n",
      "1445     Ja'Marr Chase  13.0   9.0  198.9    15.3       3.0       12.0              1          1               9.0\n"
     ]
    },
    {
     "data": {
      "application/vnd.plotly.v1+json": {
       "config": {
        "plotlyServerURL": "https://plot.ly"
       },
       "data": [
        {
         "customdata": [
          [
           1,
           17
          ],
          [
           2,
           17
          ],
          [
           3,
           17
          ],
          [
           4,
           17
          ],
          [
           5,
           17
          ],
          [
           6,
           17
          ],
          [
           7,
           17
          ],
          [
           8,
           16
          ],
          [
           9,
           17
          ],
          [
           10,
           17
          ],
          [
           11,
           17
          ],
          [
           12,
           13
          ],
          [
           13,
           16
          ],
          [
           14,
           17
          ],
          [
           15,
           17
          ],
          [
           16,
           15
          ],
          [
           17,
           15
          ],
          [
           18,
           17
          ],
          [
           19,
           17
          ],
          [
           20,
           15
          ],
          [
           21,
           15
          ],
          [
           22,
           17
          ],
          [
           23,
           16
          ],
          [
           24,
           9
          ]
         ],
         "hovertemplate": "<b>%{hovertext}</b><br><br>ADP Rank=%{x}<br>Fantasy Points=%{y}<br>FPTS_rank=%{customdata[0]}<br>G=%{customdata[1]}<extra></extra>",
         "hovertext": [
          "Justin Jefferson",
          "Davante Adams",
          "Tyreek Hill",
          "Stefon Diggs",
          "A.J. Brown",
          "CeeDee Lamb",
          "Jaylen Waddle",
          "Amon-Ra St.",
          "Amari Cooper",
          "DeVonta Smith",
          "Christian Kirk",
          "Ja'Marr Chase",
          "Tyler Lockett",
          "Terry McLaurin",
          "Brandon Aiyuk",
          "Mike Evans",
          "Tee Higgins",
          "DK Metcalf",
          "Garrett Wilson",
          "Chris Godwin",
          "Jerry Jeudy",
          "DJ Moore",
          "Michael Pittman",
          "Cooper Kupp"
         ],
         "legendgroup": "",
         "marker": {
          "color": "#636efa",
          "symbol": "circle"
         },
         "mode": "markers",
         "name": "",
         "orientation": "v",
         "showlegend": false,
         "type": "scatter",
         "x": [
          2,
          4,
          7,
          5,
          10,
          6,
          19,
          25,
          30,
          38,
          40,
          3,
          42,
          16,
          37,
          8,
          13,
          21,
          49,
          32,
          22,
          14,
          10,
          1
         ],
         "xaxis": "x",
         "y": [
          304.6,
          285.5,
          281.7,
          266.2,
          255.6,
          248.1,
          221.7,
          214.6,
          208,
          207.1,
          199.9,
          198.9,
          195.3,
          190.5,
          188.8,
          186.9,
          185.7,
          181.8,
          174.2,
          170.8,
          170.7,
          167.6,
          167,
          163.9
         ],
         "yaxis": "y"
        },
        {
         "hovertemplate": "<b>OLS trendline</b><br>FPTS = -1.23064 * ADP_rank + 233.075<br>R<sup>2</sup>=0.183743<br><br>ADP Rank=%{x}<br>Fantasy Points=%{y} <b>(trend)</b><extra></extra>",
         "legendgroup": "",
         "marker": {
          "color": "#636efa",
          "symbol": "circle"
         },
         "mode": "lines",
         "name": "",
         "showlegend": false,
         "type": "scatter",
         "x": [
          1,
          2,
          3,
          4,
          5,
          6,
          7,
          8,
          10,
          10,
          13,
          14,
          16,
          19,
          21,
          22,
          25,
          30,
          32,
          37,
          38,
          40,
          42,
          49
         ],
         "xaxis": "x",
         "y": [
          231.84483487405075,
          230.6141929275921,
          229.38355098113345,
          228.15290903467482,
          226.92226708821616,
          225.69162514175753,
          224.4609831952989,
          223.23034124884023,
          220.76905735592297,
          220.76905735592297,
          217.077131516547,
          215.84648957008838,
          213.3852056771711,
          209.69327983779516,
          207.2319959448779,
          206.00135399841923,
          202.3094281590433,
          196.15621842675012,
          193.69493453383282,
          187.5417248015396,
          186.31108285508097,
          183.84979896216367,
          181.3885150692464,
          172.7740214440359
         ],
         "yaxis": "y"
        }
       ],
       "layout": {
        "legend": {
         "tracegroupgap": 0
        },
        "template": {
         "data": {
          "bar": [
           {
            "error_x": {
             "color": "#2a3f5f"
            },
            "error_y": {
             "color": "#2a3f5f"
            },
            "marker": {
             "line": {
              "color": "#E5ECF6",
              "width": 0.5
             },
             "pattern": {
              "fillmode": "overlay",
              "size": 10,
              "solidity": 0.2
             }
            },
            "type": "bar"
           }
          ],
          "barpolar": [
           {
            "marker": {
             "line": {
              "color": "#E5ECF6",
              "width": 0.5
             },
             "pattern": {
              "fillmode": "overlay",
              "size": 10,
              "solidity": 0.2
             }
            },
            "type": "barpolar"
           }
          ],
          "carpet": [
           {
            "aaxis": {
             "endlinecolor": "#2a3f5f",
             "gridcolor": "white",
             "linecolor": "white",
             "minorgridcolor": "white",
             "startlinecolor": "#2a3f5f"
            },
            "baxis": {
             "endlinecolor": "#2a3f5f",
             "gridcolor": "white",
             "linecolor": "white",
             "minorgridcolor": "white",
             "startlinecolor": "#2a3f5f"
            },
            "type": "carpet"
           }
          ],
          "choropleth": [
           {
            "colorbar": {
             "outlinewidth": 0,
             "ticks": ""
            },
            "type": "choropleth"
           }
          ],
          "contour": [
           {
            "colorbar": {
             "outlinewidth": 0,
             "ticks": ""
            },
            "colorscale": [
             [
              0,
              "#0d0887"
             ],
             [
              0.1111111111111111,
              "#46039f"
             ],
             [
              0.2222222222222222,
              "#7201a8"
             ],
             [
              0.3333333333333333,
              "#9c179e"
             ],
             [
              0.4444444444444444,
              "#bd3786"
             ],
             [
              0.5555555555555556,
              "#d8576b"
             ],
             [
              0.6666666666666666,
              "#ed7953"
             ],
             [
              0.7777777777777778,
              "#fb9f3a"
             ],
             [
              0.8888888888888888,
              "#fdca26"
             ],
             [
              1,
              "#f0f921"
             ]
            ],
            "type": "contour"
           }
          ],
          "contourcarpet": [
           {
            "colorbar": {
             "outlinewidth": 0,
             "ticks": ""
            },
            "type": "contourcarpet"
           }
          ],
          "heatmap": [
           {
            "colorbar": {
             "outlinewidth": 0,
             "ticks": ""
            },
            "colorscale": [
             [
              0,
              "#0d0887"
             ],
             [
              0.1111111111111111,
              "#46039f"
             ],
             [
              0.2222222222222222,
              "#7201a8"
             ],
             [
              0.3333333333333333,
              "#9c179e"
             ],
             [
              0.4444444444444444,
              "#bd3786"
             ],
             [
              0.5555555555555556,
              "#d8576b"
             ],
             [
              0.6666666666666666,
              "#ed7953"
             ],
             [
              0.7777777777777778,
              "#fb9f3a"
             ],
             [
              0.8888888888888888,
              "#fdca26"
             ],
             [
              1,
              "#f0f921"
             ]
            ],
            "type": "heatmap"
           }
          ],
          "heatmapgl": [
           {
            "colorbar": {
             "outlinewidth": 0,
             "ticks": ""
            },
            "colorscale": [
             [
              0,
              "#0d0887"
             ],
             [
              0.1111111111111111,
              "#46039f"
             ],
             [
              0.2222222222222222,
              "#7201a8"
             ],
             [
              0.3333333333333333,
              "#9c179e"
             ],
             [
              0.4444444444444444,
              "#bd3786"
             ],
             [
              0.5555555555555556,
              "#d8576b"
             ],
             [
              0.6666666666666666,
              "#ed7953"
             ],
             [
              0.7777777777777778,
              "#fb9f3a"
             ],
             [
              0.8888888888888888,
              "#fdca26"
             ],
             [
              1,
              "#f0f921"
             ]
            ],
            "type": "heatmapgl"
           }
          ],
          "histogram": [
           {
            "marker": {
             "pattern": {
              "fillmode": "overlay",
              "size": 10,
              "solidity": 0.2
             }
            },
            "type": "histogram"
           }
          ],
          "histogram2d": [
           {
            "colorbar": {
             "outlinewidth": 0,
             "ticks": ""
            },
            "colorscale": [
             [
              0,
              "#0d0887"
             ],
             [
              0.1111111111111111,
              "#46039f"
             ],
             [
              0.2222222222222222,
              "#7201a8"
             ],
             [
              0.3333333333333333,
              "#9c179e"
             ],
             [
              0.4444444444444444,
              "#bd3786"
             ],
             [
              0.5555555555555556,
              "#d8576b"
             ],
             [
              0.6666666666666666,
              "#ed7953"
             ],
             [
              0.7777777777777778,
              "#fb9f3a"
             ],
             [
              0.8888888888888888,
              "#fdca26"
             ],
             [
              1,
              "#f0f921"
             ]
            ],
            "type": "histogram2d"
           }
          ],
          "histogram2dcontour": [
           {
            "colorbar": {
             "outlinewidth": 0,
             "ticks": ""
            },
            "colorscale": [
             [
              0,
              "#0d0887"
             ],
             [
              0.1111111111111111,
              "#46039f"
             ],
             [
              0.2222222222222222,
              "#7201a8"
             ],
             [
              0.3333333333333333,
              "#9c179e"
             ],
             [
              0.4444444444444444,
              "#bd3786"
             ],
             [
              0.5555555555555556,
              "#d8576b"
             ],
             [
              0.6666666666666666,
              "#ed7953"
             ],
             [
              0.7777777777777778,
              "#fb9f3a"
             ],
             [
              0.8888888888888888,
              "#fdca26"
             ],
             [
              1,
              "#f0f921"
             ]
            ],
            "type": "histogram2dcontour"
           }
          ],
          "mesh3d": [
           {
            "colorbar": {
             "outlinewidth": 0,
             "ticks": ""
            },
            "type": "mesh3d"
           }
          ],
          "parcoords": [
           {
            "line": {
             "colorbar": {
              "outlinewidth": 0,
              "ticks": ""
             }
            },
            "type": "parcoords"
           }
          ],
          "pie": [
           {
            "automargin": true,
            "type": "pie"
           }
          ],
          "scatter": [
           {
            "fillpattern": {
             "fillmode": "overlay",
             "size": 10,
             "solidity": 0.2
            },
            "type": "scatter"
           }
          ],
          "scatter3d": [
           {
            "line": {
             "colorbar": {
              "outlinewidth": 0,
              "ticks": ""
             }
            },
            "marker": {
             "colorbar": {
              "outlinewidth": 0,
              "ticks": ""
             }
            },
            "type": "scatter3d"
           }
          ],
          "scattercarpet": [
           {
            "marker": {
             "colorbar": {
              "outlinewidth": 0,
              "ticks": ""
             }
            },
            "type": "scattercarpet"
           }
          ],
          "scattergeo": [
           {
            "marker": {
             "colorbar": {
              "outlinewidth": 0,
              "ticks": ""
             }
            },
            "type": "scattergeo"
           }
          ],
          "scattergl": [
           {
            "marker": {
             "colorbar": {
              "outlinewidth": 0,
              "ticks": ""
             }
            },
            "type": "scattergl"
           }
          ],
          "scattermapbox": [
           {
            "marker": {
             "colorbar": {
              "outlinewidth": 0,
              "ticks": ""
             }
            },
            "type": "scattermapbox"
           }
          ],
          "scatterpolar": [
           {
            "marker": {
             "colorbar": {
              "outlinewidth": 0,
              "ticks": ""
             }
            },
            "type": "scatterpolar"
           }
          ],
          "scatterpolargl": [
           {
            "marker": {
             "colorbar": {
              "outlinewidth": 0,
              "ticks": ""
             }
            },
            "type": "scatterpolargl"
           }
          ],
          "scatterternary": [
           {
            "marker": {
             "colorbar": {
              "outlinewidth": 0,
              "ticks": ""
             }
            },
            "type": "scatterternary"
           }
          ],
          "surface": [
           {
            "colorbar": {
             "outlinewidth": 0,
             "ticks": ""
            },
            "colorscale": [
             [
              0,
              "#0d0887"
             ],
             [
              0.1111111111111111,
              "#46039f"
             ],
             [
              0.2222222222222222,
              "#7201a8"
             ],
             [
              0.3333333333333333,
              "#9c179e"
             ],
             [
              0.4444444444444444,
              "#bd3786"
             ],
             [
              0.5555555555555556,
              "#d8576b"
             ],
             [
              0.6666666666666666,
              "#ed7953"
             ],
             [
              0.7777777777777778,
              "#fb9f3a"
             ],
             [
              0.8888888888888888,
              "#fdca26"
             ],
             [
              1,
              "#f0f921"
             ]
            ],
            "type": "surface"
           }
          ],
          "table": [
           {
            "cells": {
             "fill": {
              "color": "#EBF0F8"
             },
             "line": {
              "color": "white"
             }
            },
            "header": {
             "fill": {
              "color": "#C8D4E3"
             },
             "line": {
              "color": "white"
             }
            },
            "type": "table"
           }
          ]
         },
         "layout": {
          "annotationdefaults": {
           "arrowcolor": "#2a3f5f",
           "arrowhead": 0,
           "arrowwidth": 1
          },
          "autotypenumbers": "strict",
          "coloraxis": {
           "colorbar": {
            "outlinewidth": 0,
            "ticks": ""
           }
          },
          "colorscale": {
           "diverging": [
            [
             0,
             "#8e0152"
            ],
            [
             0.1,
             "#c51b7d"
            ],
            [
             0.2,
             "#de77ae"
            ],
            [
             0.3,
             "#f1b6da"
            ],
            [
             0.4,
             "#fde0ef"
            ],
            [
             0.5,
             "#f7f7f7"
            ],
            [
             0.6,
             "#e6f5d0"
            ],
            [
             0.7,
             "#b8e186"
            ],
            [
             0.8,
             "#7fbc41"
            ],
            [
             0.9,
             "#4d9221"
            ],
            [
             1,
             "#276419"
            ]
           ],
           "sequential": [
            [
             0,
             "#0d0887"
            ],
            [
             0.1111111111111111,
             "#46039f"
            ],
            [
             0.2222222222222222,
             "#7201a8"
            ],
            [
             0.3333333333333333,
             "#9c179e"
            ],
            [
             0.4444444444444444,
             "#bd3786"
            ],
            [
             0.5555555555555556,
             "#d8576b"
            ],
            [
             0.6666666666666666,
             "#ed7953"
            ],
            [
             0.7777777777777778,
             "#fb9f3a"
            ],
            [
             0.8888888888888888,
             "#fdca26"
            ],
            [
             1,
             "#f0f921"
            ]
           ],
           "sequentialminus": [
            [
             0,
             "#0d0887"
            ],
            [
             0.1111111111111111,
             "#46039f"
            ],
            [
             0.2222222222222222,
             "#7201a8"
            ],
            [
             0.3333333333333333,
             "#9c179e"
            ],
            [
             0.4444444444444444,
             "#bd3786"
            ],
            [
             0.5555555555555556,
             "#d8576b"
            ],
            [
             0.6666666666666666,
             "#ed7953"
            ],
            [
             0.7777777777777778,
             "#fb9f3a"
            ],
            [
             0.8888888888888888,
             "#fdca26"
            ],
            [
             1,
             "#f0f921"
            ]
           ]
          },
          "colorway": [
           "#636efa",
           "#EF553B",
           "#00cc96",
           "#ab63fa",
           "#FFA15A",
           "#19d3f3",
           "#FF6692",
           "#B6E880",
           "#FF97FF",
           "#FECB52"
          ],
          "font": {
           "color": "#2a3f5f"
          },
          "geo": {
           "bgcolor": "white",
           "lakecolor": "white",
           "landcolor": "#E5ECF6",
           "showlakes": true,
           "showland": true,
           "subunitcolor": "white"
          },
          "hoverlabel": {
           "align": "left"
          },
          "hovermode": "closest",
          "mapbox": {
           "style": "light"
          },
          "paper_bgcolor": "white",
          "plot_bgcolor": "#E5ECF6",
          "polar": {
           "angularaxis": {
            "gridcolor": "white",
            "linecolor": "white",
            "ticks": ""
           },
           "bgcolor": "#E5ECF6",
           "radialaxis": {
            "gridcolor": "white",
            "linecolor": "white",
            "ticks": ""
           }
          },
          "scene": {
           "xaxis": {
            "backgroundcolor": "#E5ECF6",
            "gridcolor": "white",
            "gridwidth": 2,
            "linecolor": "white",
            "showbackground": true,
            "ticks": "",
            "zerolinecolor": "white"
           },
           "yaxis": {
            "backgroundcolor": "#E5ECF6",
            "gridcolor": "white",
            "gridwidth": 2,
            "linecolor": "white",
            "showbackground": true,
            "ticks": "",
            "zerolinecolor": "white"
           },
           "zaxis": {
            "backgroundcolor": "#E5ECF6",
            "gridcolor": "white",
            "gridwidth": 2,
            "linecolor": "white",
            "showbackground": true,
            "ticks": "",
            "zerolinecolor": "white"
           }
          },
          "shapedefaults": {
           "line": {
            "color": "#2a3f5f"
           }
          },
          "ternary": {
           "aaxis": {
            "gridcolor": "white",
            "linecolor": "white",
            "ticks": ""
           },
           "baxis": {
            "gridcolor": "white",
            "linecolor": "white",
            "ticks": ""
           },
           "bgcolor": "#E5ECF6",
           "caxis": {
            "gridcolor": "white",
            "linecolor": "white",
            "ticks": ""
           }
          },
          "title": {
           "x": 0.05
          },
          "xaxis": {
           "automargin": true,
           "gridcolor": "white",
           "linecolor": "white",
           "ticks": "",
           "title": {
            "standoff": 15
           },
           "zerolinecolor": "white",
           "zerolinewidth": 2
          },
          "yaxis": {
           "automargin": true,
           "gridcolor": "white",
           "linecolor": "white",
           "ticks": "",
           "title": {
            "standoff": 15
           },
           "zerolinecolor": "white",
           "zerolinewidth": 2
          }
         }
        },
        "title": {
         "text": "FPTS vs ADP_rank"
        },
        "xaxis": {
         "anchor": "y",
         "autorange": "reversed",
         "domain": [
          0,
          1
         ],
         "title": {
          "text": "ADP Rank"
         }
        },
        "yaxis": {
         "anchor": "x",
         "domain": [
          0,
          1
         ],
         "title": {
          "text": "Fantasy Points"
         }
        }
       }
      }
     },
     "metadata": {},
     "output_type": "display_data"
    }
   ],
   "source": [
    "analyze_position(df, 'wr')"
   ]
  },
  {
   "cell_type": "code",
   "execution_count": 36,
   "metadata": {},
   "outputs": [
    {
     "name": "stdout",
     "output_type": "stream",
     "text": [
      "top performers\n",
      "              Player     G    ADP   FPTS  FPTS/G  ADP_rank  FPTS_rank  round_drafted  pos_group  FPTS_vs_ADP_rank\n",
      "1450    Travis Kelce  17.0   15.0  261.3    15.4       1.0        1.0              2          1               0.0\n",
      "1503  T.J. Hockenson  17.0   68.0  172.4    10.1       7.0        2.0              6          1              -5.0\n",
      "1473   George Kittle  15.0   38.5  170.5    11.4       4.0        3.0              4          1              -1.0\n",
      "1462    Mark Andrews  15.0   24.5  154.0    10.3       2.0        4.0              3          1               2.0\n",
      "1602     Taysom Hill  16.0  186.5  141.3     8.8      21.0        5.0             16          1             -16.0\n",
      "1631     Evan Engram  17.0  220.0  140.4     8.3      29.0        6.0             17          1             -23.0\n",
      "1544       Cole Kmet  17.0  118.5  122.3     7.2      12.0        7.0             10          1              -5.0\n",
      "1542  Pat Freiermuth  15.0  114.0  116.7     7.8      11.0        8.0             10          1              -3.0\n",
      "1588    Tyler Higbee  16.0  175.5  116.0     7.3      19.0        9.0             15          1             -10.0\n",
      "1494  Dalton Schultz  15.0   56.5  114.2     7.6       6.0       10.0              5          1               4.0\n",
      "1655   Juwan Johnson  16.0  263.0  113.8     7.1      31.0       11.0             17          1             -20.0\n",
      "1504  Dallas Goedert  12.0   70.0  113.7     9.5       8.0       12.0              6          1               4.0\n",
      "\n",
      "best values\n",
      "              Player     G    ADP   FPTS  FPTS/G  ADP_rank  FPTS_rank  round_drafted  pos_group  FPTS_vs_ADP_rank\n",
      "1631     Evan Engram  17.0  220.0  140.4     8.3      29.0        6.0             17          1             -23.0\n",
      "1655   Juwan Johnson  16.0  263.0  113.8     7.1      31.0       11.0             17          1             -20.0\n",
      "1602     Taysom Hill  16.0  186.5  141.3     8.8      21.0        5.0             16          1             -16.0\n",
      "1588    Tyler Higbee  16.0  175.5  116.0     7.3      19.0        9.0             15          1             -10.0\n",
      "1503  T.J. Hockenson  17.0   68.0  172.4    10.1       7.0        2.0              6          1              -5.0\n",
      "1544       Cole Kmet  17.0  118.5  122.3     7.2      12.0        7.0             10          1              -5.0\n",
      "1542  Pat Freiermuth  15.0  114.0  116.7     7.8      11.0        8.0             10          1              -3.0\n",
      "1473   George Kittle  15.0   38.5  170.5    11.4       4.0        3.0              4          1              -1.0\n",
      "1450    Travis Kelce  17.0   15.0  261.3    15.4       1.0        1.0              2          1               0.0\n",
      "1462    Mark Andrews  15.0   24.5  154.0    10.3       2.0        4.0              3          1               2.0\n",
      "\n",
      "worst values\n",
      "              Player     G    ADP   FPTS  FPTS/G  ADP_rank  FPTS_rank  round_drafted  pos_group  FPTS_vs_ADP_rank\n",
      "1469      Kyle Pitts  10.0   32.0   61.6     6.2       3.0       25.0              3          3              22.0\n",
      "1483   Darren Waller   9.0   47.5   70.8     7.9       5.0       24.0              4          2              19.0\n",
      "1530       Zach Ertz  10.0   97.0   92.1     9.2      10.0       17.0              9          2               7.0\n",
      "1515     Dawson Knox  15.0   81.0  111.7     7.4       9.0       14.0              7          2               5.0\n",
      "1494  Dalton Schultz  15.0   56.5  114.2     7.6       6.0       10.0              5          1               4.0\n",
      "1504  Dallas Goedert  12.0   70.0  113.7     9.5       8.0       12.0              6          1               4.0\n",
      "1462    Mark Andrews  15.0   24.5  154.0    10.3       2.0        4.0              3          1               2.0\n",
      "1450    Travis Kelce  17.0   15.0  261.3    15.4       1.0        1.0              2          1               0.0\n",
      "1473   George Kittle  15.0   38.5  170.5    11.4       4.0        3.0              4          1              -1.0\n",
      "1542  Pat Freiermuth  15.0  114.0  116.7     7.8      11.0        8.0             10          1              -3.0\n"
     ]
    },
    {
     "data": {
      "application/vnd.plotly.v1+json": {
       "config": {
        "plotlyServerURL": "https://plot.ly"
       },
       "data": [
        {
         "customdata": [
          [
           1,
           17
          ],
          [
           2,
           17
          ],
          [
           3,
           15
          ],
          [
           4,
           15
          ],
          [
           5,
           16
          ],
          [
           6,
           17
          ],
          [
           7,
           17
          ],
          [
           8,
           15
          ],
          [
           9,
           16
          ],
          [
           10,
           15
          ],
          [
           11,
           16
          ],
          [
           12,
           12
          ]
         ],
         "hovertemplate": "<b>%{hovertext}</b><br><br>ADP Rank=%{x}<br>Fantasy Points=%{y}<br>FPTS_rank=%{customdata[0]}<br>G=%{customdata[1]}<extra></extra>",
         "hovertext": [
          "Travis Kelce",
          "T.J. Hockenson",
          "George Kittle",
          "Mark Andrews",
          "Taysom Hill",
          "Evan Engram",
          "Cole Kmet",
          "Pat Freiermuth",
          "Tyler Higbee",
          "Dalton Schultz",
          "Juwan Johnson",
          "Dallas Goedert"
         ],
         "legendgroup": "",
         "marker": {
          "color": "#636efa",
          "symbol": "circle"
         },
         "mode": "markers",
         "name": "",
         "orientation": "v",
         "showlegend": false,
         "type": "scatter",
         "x": [
          1,
          7,
          4,
          2,
          21,
          29,
          12,
          11,
          19,
          6,
          31,
          8
         ],
         "xaxis": "x",
         "y": [
          261.3,
          172.4,
          170.5,
          154,
          141.3,
          140.4,
          122.3,
          116.7,
          116,
          114.2,
          113.8,
          113.7
         ],
         "yaxis": "y"
        },
        {
         "hovertemplate": "<b>OLS trendline</b><br>FPTS = -1.99955 * ADP_rank + 169.878<br>R<sup>2</sup>=0.226541<br><br>ADP Rank=%{x}<br>Fantasy Points=%{y} <b>(trend)</b><extra></extra>",
         "legendgroup": "",
         "marker": {
          "color": "#636efa",
          "symbol": "circle"
         },
         "mode": "lines",
         "name": "",
         "showlegend": false,
         "type": "scatter",
         "x": [
          1,
          2,
          4,
          6,
          7,
          8,
          11,
          12,
          19,
          21,
          29,
          31
         ],
         "xaxis": "x",
         "y": [
          167.8780785834492,
          165.87853223092122,
          161.87943952586525,
          157.88034682080925,
          155.88080046828128,
          153.88125411575328,
          147.8826150581693,
          145.88306870564134,
          131.8862442379454,
          127.88715153288942,
          111.89078071266552,
          107.89168800760953
         ],
         "yaxis": "y"
        }
       ],
       "layout": {
        "legend": {
         "tracegroupgap": 0
        },
        "template": {
         "data": {
          "bar": [
           {
            "error_x": {
             "color": "#2a3f5f"
            },
            "error_y": {
             "color": "#2a3f5f"
            },
            "marker": {
             "line": {
              "color": "#E5ECF6",
              "width": 0.5
             },
             "pattern": {
              "fillmode": "overlay",
              "size": 10,
              "solidity": 0.2
             }
            },
            "type": "bar"
           }
          ],
          "barpolar": [
           {
            "marker": {
             "line": {
              "color": "#E5ECF6",
              "width": 0.5
             },
             "pattern": {
              "fillmode": "overlay",
              "size": 10,
              "solidity": 0.2
             }
            },
            "type": "barpolar"
           }
          ],
          "carpet": [
           {
            "aaxis": {
             "endlinecolor": "#2a3f5f",
             "gridcolor": "white",
             "linecolor": "white",
             "minorgridcolor": "white",
             "startlinecolor": "#2a3f5f"
            },
            "baxis": {
             "endlinecolor": "#2a3f5f",
             "gridcolor": "white",
             "linecolor": "white",
             "minorgridcolor": "white",
             "startlinecolor": "#2a3f5f"
            },
            "type": "carpet"
           }
          ],
          "choropleth": [
           {
            "colorbar": {
             "outlinewidth": 0,
             "ticks": ""
            },
            "type": "choropleth"
           }
          ],
          "contour": [
           {
            "colorbar": {
             "outlinewidth": 0,
             "ticks": ""
            },
            "colorscale": [
             [
              0,
              "#0d0887"
             ],
             [
              0.1111111111111111,
              "#46039f"
             ],
             [
              0.2222222222222222,
              "#7201a8"
             ],
             [
              0.3333333333333333,
              "#9c179e"
             ],
             [
              0.4444444444444444,
              "#bd3786"
             ],
             [
              0.5555555555555556,
              "#d8576b"
             ],
             [
              0.6666666666666666,
              "#ed7953"
             ],
             [
              0.7777777777777778,
              "#fb9f3a"
             ],
             [
              0.8888888888888888,
              "#fdca26"
             ],
             [
              1,
              "#f0f921"
             ]
            ],
            "type": "contour"
           }
          ],
          "contourcarpet": [
           {
            "colorbar": {
             "outlinewidth": 0,
             "ticks": ""
            },
            "type": "contourcarpet"
           }
          ],
          "heatmap": [
           {
            "colorbar": {
             "outlinewidth": 0,
             "ticks": ""
            },
            "colorscale": [
             [
              0,
              "#0d0887"
             ],
             [
              0.1111111111111111,
              "#46039f"
             ],
             [
              0.2222222222222222,
              "#7201a8"
             ],
             [
              0.3333333333333333,
              "#9c179e"
             ],
             [
              0.4444444444444444,
              "#bd3786"
             ],
             [
              0.5555555555555556,
              "#d8576b"
             ],
             [
              0.6666666666666666,
              "#ed7953"
             ],
             [
              0.7777777777777778,
              "#fb9f3a"
             ],
             [
              0.8888888888888888,
              "#fdca26"
             ],
             [
              1,
              "#f0f921"
             ]
            ],
            "type": "heatmap"
           }
          ],
          "heatmapgl": [
           {
            "colorbar": {
             "outlinewidth": 0,
             "ticks": ""
            },
            "colorscale": [
             [
              0,
              "#0d0887"
             ],
             [
              0.1111111111111111,
              "#46039f"
             ],
             [
              0.2222222222222222,
              "#7201a8"
             ],
             [
              0.3333333333333333,
              "#9c179e"
             ],
             [
              0.4444444444444444,
              "#bd3786"
             ],
             [
              0.5555555555555556,
              "#d8576b"
             ],
             [
              0.6666666666666666,
              "#ed7953"
             ],
             [
              0.7777777777777778,
              "#fb9f3a"
             ],
             [
              0.8888888888888888,
              "#fdca26"
             ],
             [
              1,
              "#f0f921"
             ]
            ],
            "type": "heatmapgl"
           }
          ],
          "histogram": [
           {
            "marker": {
             "pattern": {
              "fillmode": "overlay",
              "size": 10,
              "solidity": 0.2
             }
            },
            "type": "histogram"
           }
          ],
          "histogram2d": [
           {
            "colorbar": {
             "outlinewidth": 0,
             "ticks": ""
            },
            "colorscale": [
             [
              0,
              "#0d0887"
             ],
             [
              0.1111111111111111,
              "#46039f"
             ],
             [
              0.2222222222222222,
              "#7201a8"
             ],
             [
              0.3333333333333333,
              "#9c179e"
             ],
             [
              0.4444444444444444,
              "#bd3786"
             ],
             [
              0.5555555555555556,
              "#d8576b"
             ],
             [
              0.6666666666666666,
              "#ed7953"
             ],
             [
              0.7777777777777778,
              "#fb9f3a"
             ],
             [
              0.8888888888888888,
              "#fdca26"
             ],
             [
              1,
              "#f0f921"
             ]
            ],
            "type": "histogram2d"
           }
          ],
          "histogram2dcontour": [
           {
            "colorbar": {
             "outlinewidth": 0,
             "ticks": ""
            },
            "colorscale": [
             [
              0,
              "#0d0887"
             ],
             [
              0.1111111111111111,
              "#46039f"
             ],
             [
              0.2222222222222222,
              "#7201a8"
             ],
             [
              0.3333333333333333,
              "#9c179e"
             ],
             [
              0.4444444444444444,
              "#bd3786"
             ],
             [
              0.5555555555555556,
              "#d8576b"
             ],
             [
              0.6666666666666666,
              "#ed7953"
             ],
             [
              0.7777777777777778,
              "#fb9f3a"
             ],
             [
              0.8888888888888888,
              "#fdca26"
             ],
             [
              1,
              "#f0f921"
             ]
            ],
            "type": "histogram2dcontour"
           }
          ],
          "mesh3d": [
           {
            "colorbar": {
             "outlinewidth": 0,
             "ticks": ""
            },
            "type": "mesh3d"
           }
          ],
          "parcoords": [
           {
            "line": {
             "colorbar": {
              "outlinewidth": 0,
              "ticks": ""
             }
            },
            "type": "parcoords"
           }
          ],
          "pie": [
           {
            "automargin": true,
            "type": "pie"
           }
          ],
          "scatter": [
           {
            "fillpattern": {
             "fillmode": "overlay",
             "size": 10,
             "solidity": 0.2
            },
            "type": "scatter"
           }
          ],
          "scatter3d": [
           {
            "line": {
             "colorbar": {
              "outlinewidth": 0,
              "ticks": ""
             }
            },
            "marker": {
             "colorbar": {
              "outlinewidth": 0,
              "ticks": ""
             }
            },
            "type": "scatter3d"
           }
          ],
          "scattercarpet": [
           {
            "marker": {
             "colorbar": {
              "outlinewidth": 0,
              "ticks": ""
             }
            },
            "type": "scattercarpet"
           }
          ],
          "scattergeo": [
           {
            "marker": {
             "colorbar": {
              "outlinewidth": 0,
              "ticks": ""
             }
            },
            "type": "scattergeo"
           }
          ],
          "scattergl": [
           {
            "marker": {
             "colorbar": {
              "outlinewidth": 0,
              "ticks": ""
             }
            },
            "type": "scattergl"
           }
          ],
          "scattermapbox": [
           {
            "marker": {
             "colorbar": {
              "outlinewidth": 0,
              "ticks": ""
             }
            },
            "type": "scattermapbox"
           }
          ],
          "scatterpolar": [
           {
            "marker": {
             "colorbar": {
              "outlinewidth": 0,
              "ticks": ""
             }
            },
            "type": "scatterpolar"
           }
          ],
          "scatterpolargl": [
           {
            "marker": {
             "colorbar": {
              "outlinewidth": 0,
              "ticks": ""
             }
            },
            "type": "scatterpolargl"
           }
          ],
          "scatterternary": [
           {
            "marker": {
             "colorbar": {
              "outlinewidth": 0,
              "ticks": ""
             }
            },
            "type": "scatterternary"
           }
          ],
          "surface": [
           {
            "colorbar": {
             "outlinewidth": 0,
             "ticks": ""
            },
            "colorscale": [
             [
              0,
              "#0d0887"
             ],
             [
              0.1111111111111111,
              "#46039f"
             ],
             [
              0.2222222222222222,
              "#7201a8"
             ],
             [
              0.3333333333333333,
              "#9c179e"
             ],
             [
              0.4444444444444444,
              "#bd3786"
             ],
             [
              0.5555555555555556,
              "#d8576b"
             ],
             [
              0.6666666666666666,
              "#ed7953"
             ],
             [
              0.7777777777777778,
              "#fb9f3a"
             ],
             [
              0.8888888888888888,
              "#fdca26"
             ],
             [
              1,
              "#f0f921"
             ]
            ],
            "type": "surface"
           }
          ],
          "table": [
           {
            "cells": {
             "fill": {
              "color": "#EBF0F8"
             },
             "line": {
              "color": "white"
             }
            },
            "header": {
             "fill": {
              "color": "#C8D4E3"
             },
             "line": {
              "color": "white"
             }
            },
            "type": "table"
           }
          ]
         },
         "layout": {
          "annotationdefaults": {
           "arrowcolor": "#2a3f5f",
           "arrowhead": 0,
           "arrowwidth": 1
          },
          "autotypenumbers": "strict",
          "coloraxis": {
           "colorbar": {
            "outlinewidth": 0,
            "ticks": ""
           }
          },
          "colorscale": {
           "diverging": [
            [
             0,
             "#8e0152"
            ],
            [
             0.1,
             "#c51b7d"
            ],
            [
             0.2,
             "#de77ae"
            ],
            [
             0.3,
             "#f1b6da"
            ],
            [
             0.4,
             "#fde0ef"
            ],
            [
             0.5,
             "#f7f7f7"
            ],
            [
             0.6,
             "#e6f5d0"
            ],
            [
             0.7,
             "#b8e186"
            ],
            [
             0.8,
             "#7fbc41"
            ],
            [
             0.9,
             "#4d9221"
            ],
            [
             1,
             "#276419"
            ]
           ],
           "sequential": [
            [
             0,
             "#0d0887"
            ],
            [
             0.1111111111111111,
             "#46039f"
            ],
            [
             0.2222222222222222,
             "#7201a8"
            ],
            [
             0.3333333333333333,
             "#9c179e"
            ],
            [
             0.4444444444444444,
             "#bd3786"
            ],
            [
             0.5555555555555556,
             "#d8576b"
            ],
            [
             0.6666666666666666,
             "#ed7953"
            ],
            [
             0.7777777777777778,
             "#fb9f3a"
            ],
            [
             0.8888888888888888,
             "#fdca26"
            ],
            [
             1,
             "#f0f921"
            ]
           ],
           "sequentialminus": [
            [
             0,
             "#0d0887"
            ],
            [
             0.1111111111111111,
             "#46039f"
            ],
            [
             0.2222222222222222,
             "#7201a8"
            ],
            [
             0.3333333333333333,
             "#9c179e"
            ],
            [
             0.4444444444444444,
             "#bd3786"
            ],
            [
             0.5555555555555556,
             "#d8576b"
            ],
            [
             0.6666666666666666,
             "#ed7953"
            ],
            [
             0.7777777777777778,
             "#fb9f3a"
            ],
            [
             0.8888888888888888,
             "#fdca26"
            ],
            [
             1,
             "#f0f921"
            ]
           ]
          },
          "colorway": [
           "#636efa",
           "#EF553B",
           "#00cc96",
           "#ab63fa",
           "#FFA15A",
           "#19d3f3",
           "#FF6692",
           "#B6E880",
           "#FF97FF",
           "#FECB52"
          ],
          "font": {
           "color": "#2a3f5f"
          },
          "geo": {
           "bgcolor": "white",
           "lakecolor": "white",
           "landcolor": "#E5ECF6",
           "showlakes": true,
           "showland": true,
           "subunitcolor": "white"
          },
          "hoverlabel": {
           "align": "left"
          },
          "hovermode": "closest",
          "mapbox": {
           "style": "light"
          },
          "paper_bgcolor": "white",
          "plot_bgcolor": "#E5ECF6",
          "polar": {
           "angularaxis": {
            "gridcolor": "white",
            "linecolor": "white",
            "ticks": ""
           },
           "bgcolor": "#E5ECF6",
           "radialaxis": {
            "gridcolor": "white",
            "linecolor": "white",
            "ticks": ""
           }
          },
          "scene": {
           "xaxis": {
            "backgroundcolor": "#E5ECF6",
            "gridcolor": "white",
            "gridwidth": 2,
            "linecolor": "white",
            "showbackground": true,
            "ticks": "",
            "zerolinecolor": "white"
           },
           "yaxis": {
            "backgroundcolor": "#E5ECF6",
            "gridcolor": "white",
            "gridwidth": 2,
            "linecolor": "white",
            "showbackground": true,
            "ticks": "",
            "zerolinecolor": "white"
           },
           "zaxis": {
            "backgroundcolor": "#E5ECF6",
            "gridcolor": "white",
            "gridwidth": 2,
            "linecolor": "white",
            "showbackground": true,
            "ticks": "",
            "zerolinecolor": "white"
           }
          },
          "shapedefaults": {
           "line": {
            "color": "#2a3f5f"
           }
          },
          "ternary": {
           "aaxis": {
            "gridcolor": "white",
            "linecolor": "white",
            "ticks": ""
           },
           "baxis": {
            "gridcolor": "white",
            "linecolor": "white",
            "ticks": ""
           },
           "bgcolor": "#E5ECF6",
           "caxis": {
            "gridcolor": "white",
            "linecolor": "white",
            "ticks": ""
           }
          },
          "title": {
           "x": 0.05
          },
          "xaxis": {
           "automargin": true,
           "gridcolor": "white",
           "linecolor": "white",
           "ticks": "",
           "title": {
            "standoff": 15
           },
           "zerolinecolor": "white",
           "zerolinewidth": 2
          },
          "yaxis": {
           "automargin": true,
           "gridcolor": "white",
           "linecolor": "white",
           "ticks": "",
           "title": {
            "standoff": 15
           },
           "zerolinecolor": "white",
           "zerolinewidth": 2
          }
         }
        },
        "title": {
         "text": "FPTS vs ADP_rank"
        },
        "xaxis": {
         "anchor": "y",
         "autorange": "reversed",
         "domain": [
          0,
          1
         ],
         "title": {
          "text": "ADP Rank"
         }
        },
        "yaxis": {
         "anchor": "x",
         "domain": [
          0,
          1
         ],
         "title": {
          "text": "Fantasy Points"
         }
        }
       }
      }
     },
     "metadata": {},
     "output_type": "display_data"
    }
   ],
   "source": [
    "analyze_position(df, 'te', per_team=1)"
   ]
  },
  {
   "cell_type": "code",
   "execution_count": 37,
   "metadata": {},
   "outputs": [],
   "source": [
    "def top_performers_by_round(df, pos):\n",
    "    pos_df = df[df['pos'] == pos]\n",
    "    pos_grouped_draft = pos_df.groupby(['Year', 'round_drafted']).size().reset_index(name=f'count_{pos}')\n",
    "    pos_grouped_group = pos_df[pos_df['pos_group'] == 1].groupby(['Year', 'round_drafted']).size().reset_index(name=f'count_{pos}_1')\n",
    "    \n",
    "    merged_df = pd.merge(pos_grouped_draft, pos_grouped_group, on=['Year', 'round_drafted'], how='outer').fillna(0)\n",
    "\n",
    "    # Modify the bar visualization to show every integer on the x-axis from 1 to 17\n",
    "\n",
    "    grouped = merged_df.groupby('Year')\n",
    "\n",
    "    colors = plt.cm.viridis_r(np.linspace(0, 1, len(grouped)))\n",
    "\n",
    "    plt.figure(figsize=(14, 8))\n",
    "    for idx, (name, group) in enumerate(grouped):\n",
    "        plt.bar(group['round_drafted'] + idx*0.1 - 0.5, group[f'count_{pos}_1'], width=0.1, label=name, color=colors[idx])\n",
    "\n",
    "    # Set x-ticks to show every integer from 1 to 17\n",
    "    plt.xticks(np.arange(1, 18, 1))\n",
    "\n",
    "    plt.title(f\"Variation of {pos} 1's by round_drafted year over year\")\n",
    "    plt.xlabel(\"Round Drafted\")\n",
    "    plt.ylabel(f\"Count of {pos} 1's\")\n",
    "    plt.legend(title=\"Year\", bbox_to_anchor=(1.05, 1), loc='upper left')\n",
    "    plt.grid(True, which='both', axis='y', linestyle='--', linewidth=0.5)\n",
    "    plt.tight_layout()\n",
    "    plt.show()"
   ]
  },
  {
   "cell_type": "code",
   "execution_count": 38,
   "metadata": {},
   "outputs": [
    {
     "data": {
      "image/png": "[encoded data removed]",
      "text/plain": [
       "<Figure size 1400x800 with 1 Axes>"
      ]
     },
     "metadata": {},
     "output_type": "display_data"
    }
   ],
   "source": [
    "top_performers_by_round(df, 'rb')"
   ]
  },
  {
   "cell_type": "code",
   "execution_count": 39,
   "metadata": {},
   "outputs": [
    {
     "data": {
      "image/png": "[encoded data removed]",
      "text/plain": [
       "<Figure size 1400x800 with 1 Axes>"
      ]
     },
     "metadata": {},
     "output_type": "display_data"
    }
   ],
   "source": [
    "top_performers_by_round(df, 'wr')"
   ]
  },
  {
   "cell_type": "code",
   "execution_count": 40,
   "metadata": {},
   "outputs": [
    {
     "data": {
      "image/png": "[encoded data removed]",
      "text/plain": [
       "<Figure size 1400x800 with 1 Axes>"
      ]
     },
     "metadata": {},
     "output_type": "display_data"
    }
   ],
   "source": [
    "top_performers_by_round(df, 'te')"
   ]
  },
  {
   "cell_type": "code",
   "execution_count": 41,
   "metadata": {},
   "outputs": [
    {
     "data": {
      "image/png": "[encoded data removed]",
      "text/plain": [
       "<Figure size 1400x800 with 1 Axes>"
      ]
     },
     "metadata": {},
     "output_type": "display_data"
    }
   ],
   "source": [
    "top_performers_by_round(df, 'qb')"
   ]
  }
 ],
 "metadata": {
  "kernelspec": {
   "display_name": "fin",
   "language": "python",
   "name": "python3"
  },
  "language_info": {
   "codemirror_mode": {
    "name": "ipython",
    "version": 3
   },
   "file_extension": ".py",
   "mimetype": "text/x-python",
   "name": "python",
   "nbconvert_exporter": "python",
   "pygments_lexer": "ipython3",
   "version": "3.11.4"
  },
  "orig_nbformat": 4
 },
 "nbformat": 4,
 "nbformat_minor": 2
}
