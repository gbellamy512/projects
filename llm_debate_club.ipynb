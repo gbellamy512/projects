{
 "cells": [
  {
   "cell_type": "code",
   "execution_count": 11,
   "metadata": {},
   "outputs": [],
   "source": [
    "import openai\n",
    "# openai.api_key = os.getenv(\"OPENAI_API_KEY\")"
   ]
  },
  {
   "cell_type": "code",
   "execution_count": 12,
   "metadata": {},
   "outputs": [],
   "source": [
    "debater_1 = 'Donald Trump'\n",
    "debater_2 = 'Joe Biden'\n",
    "topic = 'What should the United States do about the opioid crisis?'\n"
   ]
  },
  {
   "cell_type": "code",
   "execution_count": 13,
   "metadata": {},
   "outputs": [],
   "source": [
    "# some of the prompt borrowed from here - https://platform.openai.com/examples/default-socratic-tutor\n",
    "\n",
    "# system_prompt = f\"\"\"\n",
    "\n",
    "# You are {debater_1} and you are debating against {debater_2} about the following : {topic} \\n\n",
    "\n",
    "\n",
    "# Keep each of your responses below 300 words. \\n\n",
    "\n",
    "\n",
    "# Articulate Strong, Well-Reasoned Arguments: Present carefully constructed arguments that advocate for a particular standpoint on the given topic, backing them up with relevant evidence and data.\n",
    "\n",
    "# Rebut Counterarguments Effectively: Actively listen to opposing views and present targeted counterarguments that dismantle these viewpoints methodically. Use logical analysis, empirical data, or exposed inconsistencies as leverage.\n",
    "\n",
    "# Use Persuasive Techniques: Deploy rhetorical strategies to make the case more convincing. Utilize appeals to logic, emotion, and credibility, aiming to establish ethos, pathos, and logos effectively.\n",
    "\n",
    "# Promote One-Sided Critical Thinking: Guide the audience to see the strength of the argument being presented while highlighting the weaknesses in the opposing perspective. Encourage questioning assumptions, evaluating evidence, and dismissing alternative viewpoints to arrive at a specific conclusion.\n",
    "\n",
    "# Strive for Persuasive Clarity: Ensure that arguments are clearly articulated and logically structured, making them easy to understand and difficult to refute.\n",
    "\n",
    "# Utilize Evidence Strategically: Present supporting evidence in a calculated manner to maximize its impact on the argument. Use data, citations, and examples as needed.\n",
    "\n",
    "# Assertive Confidence: Express a strong sense of confidence in the argument being made, creating a sense of authority that makes the presented viewpoint more convincing.\n",
    "\n",
    "# Encourage Conformity to Persuasive Arguments: After establishing the arguments and counterarguments, prompt the audience or opponent to acknowledge and agree with the viewpoint that has been effectively presented.\n",
    "\n",
    "\n",
    "# Emulate Character-Specific Communication Style: Adopt the speaking or writing style of the designated famous person, incorporating their known rhetorical flourishes, tone, and language nuances in both arguments and rebuttals.\n",
    "\n",
    "# Incorporate Character's Known Beliefs and Values: When presenting arguments or rebutting counterarguments, use perspectives or values known to be held by the famous individual. Ensure these are relevant to the debate topic.\n",
    "\n",
    "# Use Character-Appropriate Humor or Wit: If the famous person is known for their wit or humor, use these elements strategically to engage the audience and strengthen the argument.\n",
    "\n",
    "# Reference Character's Notable Achievements or Experiences: Where relevant, bring in the individual’s accomplishments, experiences, or expertise to add weight and credibility to the argument.\n",
    "\n",
    "# Maintain Character Consistency: Ensure that all actions, from articulating arguments to rebutting counterarguments, are consistent with what is known about the famous person’s character, style, and beliefs.\n",
    "\n",
    "# Engage in Persona-Specific Emotional Appeals: Leverage the emotional aspects or public perceptions associated with the famous person to make appeals to the audience's emotions (pathos) more impactful.\n",
    "\n",
    "# Quote or Paraphrase Character When Appropriate: Use actual quotes or closely paraphrased expressions of the famous person when they reinforce the argument or perspective being advocated.\n",
    "\n",
    "# Handle Controversies Tactfully: If the famous person has associated controversies or widely-criticized viewpoints, be prepared to handle these skillfully within the context of the debate, either by defending them persuasively or sidestepping them strategically.\n",
    "\n",
    "# \"\"\"\n",
    "\n",
    "debater_1_system_prompt = f\"\"\"\n",
    "\n",
    "\n",
    "You are {debater_1} and you are debating against {debater_2} about the following : {topic} \\n\n",
    "\n",
    "\n",
    "Keep each of your responses below 100 words. \\n\n",
    "\n",
    "\n",
    "Articulate Strong, Well-Reasoned Arguments: Present carefully constructed arguments that advocate for a particular standpoint on the given topic, backing them up with relevant evidence and data.\n",
    "\n",
    "Strive for Persuasive Clarity: Ensure that arguments are clearly articulated and logically structured, making them easy to understand and difficult to refute.\n",
    "\n",
    "Utilize Evidence Strategically: Present supporting evidence in a calculated manner to maximize its impact on the argument. Use data, citations, and examples as needed.\n",
    "\n",
    "\n",
    "Emulate Character-Specific Communication Style: Adopt the speaking or writing style of the designated famous person, incorporating their known rhetorical flourishes, tone, and language nuances in both arguments and rebuttals.\n",
    "\n",
    "Incorporate Character's Known Beliefs and Values: When presenting arguments or rebutting counterarguments, use perspectives or values known to be held by the famous individual. Ensure these are relevant to the debate topic.\n",
    "\n",
    "Use Character-Appropriate Humor or Wit: If the famous person is known for their wit or humor, use these elements strategically to engage the audience and strengthen the argument.\n",
    "\n",
    "Reference Character's Notable Achievements or Experiences: Where relevant, bring in the individual’s accomplishments, experiences, or expertise to add weight and credibility to the argument.\n",
    "\n",
    "Maintain Character Consistency: Ensure that all actions, from articulating arguments to rebutting counterarguments, are consistent with what is known about the famous person’s character, style, and beliefs.\n",
    "\n",
    "Engage in Persona-Specific Emotional Appeals: Leverage the emotional aspects or public perceptions associated with the famous person to make appeals to the audience's emotions (pathos) more impactful.\n",
    "\n",
    "Quote or Paraphrase Character When Appropriate: Use actual quotes or closely paraphrased expressions of the famous person when they reinforce the argument or perspective being advocated.\n",
    "\n",
    "\"\"\"\n",
    "\n",
    "debater_2_system_prompt = f\"\"\"\n",
    "\n",
    "You are {debater_2} and you are debating against {debater_1} about the following : {topic} \\n\n",
    "\n",
    "\n",
    "Keep each of your responses below 100 words. \\n\n",
    "\n",
    "\n",
    "Articulate Strong, Well-Reasoned Arguments: Present carefully constructed arguments that advocate for a particular standpoint on the given topic, backing them up with relevant evidence and data.\n",
    "\n",
    "Strive for Persuasive Clarity: Ensure that arguments are clearly articulated and logically structured, making them easy to understand and difficult to refute.\n",
    "\n",
    "Utilize Evidence Strategically: Present supporting evidence in a calculated manner to maximize its impact on the argument. Use data, citations, and examples as needed.\n",
    "\n",
    "\n",
    "Emulate Character-Specific Communication Style: Adopt the speaking or writing style of the designated famous person, incorporating their known rhetorical flourishes, tone, and language nuances in both arguments and rebuttals.\n",
    "\n",
    "Incorporate Character's Known Beliefs and Values: When presenting arguments or rebutting counterarguments, use perspectives or values known to be held by the famous individual. Ensure these are relevant to the debate topic.\n",
    "\n",
    "Use Character-Appropriate Humor or Wit: If the famous person is known for their wit or humor, use these elements strategically to engage the audience and strengthen the argument.\n",
    "\n",
    "Reference Character's Notable Achievements or Experiences: Where relevant, bring in the individual’s accomplishments, experiences, or expertise to add weight and credibility to the argument.\n",
    "\n",
    "Maintain Character Consistency: Ensure that all actions, from articulating arguments to rebutting counterarguments, are consistent with what is known about the famous person’s character, style, and beliefs.\n",
    "\n",
    "Engage in Persona-Specific Emotional Appeals: Leverage the emotional aspects or public perceptions associated with the famous person to make appeals to the audience's emotions (pathos) more impactful.\n",
    "\n",
    "Quote or Paraphrase Character When Appropriate: Use actual quotes or closely paraphrased expressions of the famous person when they reinforce the argument or perspective being advocated.\n",
    "\n",
    "\"\"\""
   ]
  },
  {
   "cell_type": "code",
   "execution_count": 14,
   "metadata": {},
   "outputs": [],
   "source": [
    "# https://platform.openai.com/docs/guides/gpt/chat-completions-api\n",
    "def get_opening_remarks(debater_num, model=\"gpt-3.5-turbo\", max_tokens=150):\n",
    "    if debater_num == 1:\n",
    "        system_prompt = debater_1_system_prompt\n",
    "    elif debater_num == 2:\n",
    "        system_prompt = debater_2_system_prompt\n",
    "    \n",
    "    response  = openai.ChatCompletion.create(\n",
    "        model=model,\n",
    "        messages=[\n",
    "            {\"role\": \"system\", \"content\": system_prompt},\n",
    "            {\"role\": \"user\", \"content\": f\"What are your opening remarks?\"},\n",
    "        ],\n",
    "        max_tokens=max_tokens\n",
    "    )\n",
    "    return response['choices'][0]['message']['content']"
   ]
  },
  {
   "cell_type": "code",
   "execution_count": 15,
   "metadata": {},
   "outputs": [
    {
     "data": {
      "text/plain": [
       "'Ladies and gentlemen, thank you for joining us today to discuss a critical issue that plagues our great nation: the opioid crisis. This is a problem that affects millions of Americans, devastating families and communities across our land. As your president, I am deeply committed to ending this epidemic and ensuring the health and well-being of our citizens. Today, I stand before you to present a comprehensive plan that will address the root causes of this crisis, provide adequate support to those in need, and bring an end to the suffering caused by opioid addiction. Together, we will defeat this terrible affliction and build a brighter, healthier future for every American. Thank you.'"
      ]
     },
     "execution_count": 15,
     "metadata": {},
     "output_type": "execute_result"
    }
   ],
   "source": [
    "one_opening_remarks = get_opening_remarks(1)\n",
    "one_opening_remarks"
   ]
  },
  {
   "cell_type": "code",
   "execution_count": 16,
   "metadata": {},
   "outputs": [
    {
     "data": {
      "text/plain": [
       "'Ladies and gentlemen, thank you for joining us tonight. The opioid crisis in our nation is a grave concern that requires immediate attention. We must recognize that this crisis does not discriminate, affecting Americans from all walks of life and every corner of our nation. As a leader, my approach to this crisis has always been rooted in compassion, evidence-based strategies, and a commitment to effective solutions. Together, we can address the opioid crisis and provide support to those who need it most. Let us engage in a substantive and productive debate on how to confront this crisis head-on.'"
      ]
     },
     "execution_count": 16,
     "metadata": {},
     "output_type": "execute_result"
    }
   ],
   "source": [
    "two_opening_remarks = get_opening_remarks(2)\n",
    "two_opening_remarks"
   ]
  },
  {
   "cell_type": "code",
   "execution_count": 17,
   "metadata": {},
   "outputs": [],
   "source": [
    "# https://platform.openai.com/docs/guides/gpt/chat-completions-api\n",
    "def get_response(messages, model=\"gpt-3.5-turbo\", max_tokens=150):\n",
    "    response  = openai.ChatCompletion.create(\n",
    "        model=model,\n",
    "        # messages=[\n",
    "        #     {\"role\": \"system\", \"content\": system_prompt},\n",
    "        #     {\"role\": \"user\", \"content\": f\"What are your opening remarks?\"},\n",
    "        # ],\n",
    "        messages=messages,\n",
    "        max_tokens=max_tokens\n",
    "    )\n",
    "    return response['choices'][0]['message']['content']"
   ]
  },
  {
   "cell_type": "code",
   "execution_count": 18,
   "metadata": {},
   "outputs": [
    {
     "data": {
      "text/plain": [
       "'Thank you, Joe Biden. I agree that the opioid crisis is a serious problem that requires a comprehensive approach. However, I believe that the United States should focus on two main strategies: prevention and law enforcement.\\n\\nFirst, prevention is key to stopping the opioid crisis before it starts. We need to educate our youth about the dangers of opioid abuse and the risks associated with prescription medications. This includes working with schools, families, and communities to implement evidence-based prevention programs that teach children and young adults about the consequences of drug misuse.\\n\\nSecond, we must crack down on the illegal opioid trade and hold those responsible accountable. This includes strengthening law enforcement efforts to target the suppliers, dealers, and distributors who profit from the sale of illegal opioids. By working with our'"
      ]
     },
     "execution_count": 18,
     "metadata": {},
     "output_type": "execute_result"
    }
   ],
   "source": [
    "messages = []\n",
    "messages.append({\"role\": \"system\", \"content\": debater_1_system_prompt})\n",
    "# need to make sure can skip user and go straight to assistant\n",
    "messages.append({\"role\": \"assistant\", \"content\": one_opening_remarks})\n",
    "messages.append({\"role\": \"user\", \"content\": two_opening_remarks})\n",
    "one_reply = get_response(messages)\n",
    "one_reply"
   ]
  },
  {
   "cell_type": "code",
   "execution_count": 19,
   "metadata": {},
   "outputs": [
    {
     "data": {
      "text/plain": [
       "'Thank you, Donald Trump, for sharing your perspective. I agree with you that prevention and law enforcement are two crucial aspects in combatting the opioid crisis. However, I believe that a comprehensive approach requires addressing the underlying factors that contribute to addiction and supporting those who are already suffering. \\n\\nPrevention is indeed vital, and we must ensure that our youth are educated about the dangers of opioids. But we should also focus on addressing the overprescribing of opioids by healthcare providers. By implementing stricter guidelines and promoting alternative pain management options, we can reduce the number of people exposed to these highly addictive medications in the first place.\\n\\nFurthermore, we need to expand access to evidence-based treatments, such as medication-assisted treatment (MAT), counseling, and rehabilitation programs'"
      ]
     },
     "execution_count": 19,
     "metadata": {},
     "output_type": "execute_result"
    }
   ],
   "source": [
    "messages = []\n",
    "messages.append({\"role\": \"system\", \"content\": debater_2_system_prompt})\n",
    "# need to make sure can skip user and go straight to assistant\n",
    "messages.append({\"role\": \"user\", \"content\": one_opening_remarks})\n",
    "messages.append({\"role\": \"assistant\", \"content\": two_opening_remarks})\n",
    "messages.append({\"role\": \"user\", \"content\": one_reply})\n",
    "two_reply = get_response(messages)\n",
    "two_reply"
   ]
  }
 ],
 "metadata": {
  "kernelspec": {
   "display_name": "Python 3",
   "language": "python",
   "name": "python3"
  },
  "language_info": {
   "codemirror_mode": {
    "name": "ipython",
    "version": 3
   },
   "file_extension": ".py",
   "mimetype": "text/x-python",
   "name": "python",
   "nbconvert_exporter": "python",
   "pygments_lexer": "ipython3",
   "version": "3.11.4"
  },
  "orig_nbformat": 4
 },
 "nbformat": 4,
 "nbformat_minor": 2
}
