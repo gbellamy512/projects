{
 "cells": [
  {
   "attachments": {},
   "cell_type": "markdown",
   "id": "e5e3e18f",
   "metadata": {},
   "source": [
    "In this project we'll train agents that choose to run, pass, kick or punt based on the current yards to first, yards to goal, and down.\n",
    "\n",
    "First we need to create a stable baselines3 compliant custom environment (SB3's guide - https://stable-baselines3.readthedocs.io/en/master/guide/custom_env.html)."
   ]
  },
  {
   "cell_type": "code",
   "execution_count": 1,
   "id": "66467bb7",
   "metadata": {},
   "outputs": [],
   "source": [
    "import numpy as np\n",
    "from numpy import random\n",
    "from scipy import stats\n",
    "import gymnasium as gym\n",
    "from gymnasium import spaces\n",
    "\n",
    "# the function provides the other team's expected points when there is a change of possession.\n",
    "def calc_ep(ydsToGo, ydsToGo_ep_intercept=5.211187389603027, ydsToGo_coef=-0.06155063):\n",
    "    return ydsToGo_ep_intercept + ydsToGo * ydsToGo_coef\n",
    "\n",
    "touchback_ep = calc_ep(80)\n",
    "\n",
    "def normalize_continuous(value, min_value, max_value):\n",
    "    return (value - min_value) / (max_value - min_value)\n",
    "\n",
    "class NflEnv(gym.Env):\n",
    "    \n",
    "    def __init__(self, init_yds_to_goal = 80):\n",
    "        super(NflEnv, self).__init__()\n",
    "        \n",
    "        # Define action and observation space\n",
    "        # They must be gym.spaces objects\n",
    "        self.action_space = spaces.Discrete(4)  # 0 - run, 1 - pass, 2 - kick, 3 - punt\n",
    "\n",
    "        \n",
    "        self.observation_space = spaces.Dict({\n",
    "            \"yds_to_goal\": spaces.Box(low=0, high=100, shape=(1,), dtype=np.float32),\n",
    "            \"yds_to_first\": spaces.Box(low=0, high=100, shape=(1,), dtype=np.float32),\n",
    "            \"down\": spaces.Discrete(4)\n",
    "        })\n",
    "\n",
    "        \n",
    "        self.init_yds_to_goal = init_yds_to_goal\n",
    "        self.init_down = 0\n",
    "        self.init_yds_to_first = 10\n",
    "        \n",
    "        self.comp_percent=.642\n",
    "        self.int_rate=.023\n",
    "        self.sack_rate=.067\n",
    "        self.sack_avg=-5\n",
    "        self.sack_sd=1\n",
    "        self.fmb_rate=.5 / (21.4 + 27.3)\n",
    "\n",
    "    def step(self, action):\n",
    "        \n",
    "        prev_down = self.down\n",
    "        prev_yds_to_first = self.yds_to_first\n",
    "        prev_yds_to_goal = self.yds_to_goal\n",
    "        \n",
    "        self.down += 1\n",
    "        score = 0\n",
    "        yds = 0\n",
    "        turnover = False\n",
    "\n",
    "        # kick\n",
    "        if action == 2:\n",
    "            prob = random.rand()\n",
    "            # made fg\n",
    "            # https://www.reddit.com/r/nfl/comments/d4h2r0/kicker_accuracy_accounting_for_distance/\n",
    "            if ((self.yds_to_goal < 60) & (self.yds_to_goal >= 50) & (prob <= .54)) \\\n",
    "                    | ((self.yds_to_goal < 50) & (self.yds_to_goal >= 40) & (prob <= .79)) \\\n",
    "                    | ((self.yds_to_goal < 40) & (self.yds_to_goal >= 30) & (prob <= .90)) \\\n",
    "                    | ((self.yds_to_goal < 30) & (prob <= .95)):\n",
    "                yds = self.yds_to_goal\n",
    "                self.yds_to_goal = 0\n",
    "                self.yds_to_first = 0\n",
    "                score = 3\n",
    "                self.reward = score - touchback_ep\n",
    "            # missed fg\n",
    "            else:\n",
    "                score = 0\n",
    "                self.reward = score - calc_ep(100 - self.yds_to_goal)\n",
    "            self.done = True\n",
    "        # punt\n",
    "        elif action == 3:  \n",
    "            potential_yds = random.normal(loc=45, scale=5)\n",
    "            if potential_yds >= self.yds_to_goal:\n",
    "                touchback = (np.random.rand() < 0.1)\n",
    "                if touchback:\n",
    "                    yds = self.yds_to_goal - 20\n",
    "                    self.yds_to_goal = 20\n",
    "                else:\n",
    "                    yds = self.yds_to_goal - 1\n",
    "                    self.yds_to_goal = 1\n",
    "            else:\n",
    "                yds = potential_yds\n",
    "                self.yds_to_goal = self.yds_to_goal - yds\n",
    "    \n",
    "            self.reward += ((yds / 100) - calc_ep(100 - self.yds_to_goal))\n",
    "            self.done = True\n",
    "\n",
    "        # run\n",
    "        elif action == 0:\n",
    "            yds = stats.lognorm.rvs(s=0.25558500132474415, loc=-15.189614313924665, scale=18.92331909863129, size=1)[0]\n",
    "            # fumble?\n",
    "            if np.random.rand() <= self.fmb_rate:\n",
    "                turnover = True\n",
    "        # pass\n",
    "        elif action == 1:\n",
    "            # sack?\n",
    "            if np.random.rand() <= self.sack_rate:\n",
    "                yds = random.normal(loc=self.sack_avg, scale=self.sack_sd)\n",
    "                # fumble?\n",
    "                if np.random.rand() <= self.fmb_rate:\n",
    "                    turnover = True\n",
    "            else:\n",
    "                if self.yds_to_goal <= 20:\n",
    "                    air_yds = \\\n",
    "                        stats.lognorm.rvs(s=0.18033921317690882, loc=-20.781271075327744, scale=27.083791999969066,\n",
    "                                          size=1)[\n",
    "                            0]\n",
    "                else:\n",
    "                    air_yds = \\\n",
    "                        stats.lognorm.rvs(s=0.3868256330626365, loc=-11.72666357691477, scale=21.714746429166233,\n",
    "                                          size=1)[0]\n",
    "                prob = np.random.rand()\n",
    "                # completion?\n",
    "                if prob <= self.comp_percent:\n",
    "                    yds = air_yds\n",
    "                    # fumble?\n",
    "                    if np.random.rand() <= self.fmb_rate:\n",
    "                        yds = air_yds\n",
    "                        turnover = True\n",
    "                # int?\n",
    "                elif prob >= (1 - self.int_rate):\n",
    "                    yds = air_yds\n",
    "                    turnover = True\n",
    "                # incomplete\n",
    "                else:\n",
    "                    yds = 0\n",
    "        # if action is not kick or punt\n",
    "        if action in [0, 1]:\n",
    "            self.yds_to_goal = max(self.yds_to_goal - yds, 0)\n",
    "            self.yds_to_first -= yds\n",
    "            # first down?\n",
    "            if self.yds_to_first <= 0:\n",
    "                self.down = self.init_down\n",
    "                self.yds_to_first = min(self.yds_to_goal, self.init_yds_to_first)\n",
    "            # turnover on downs?\n",
    "            elif self.down >= (self.init_down + 4):\n",
    "                turnover = True\n",
    "            # td?\n",
    "            if self.yds_to_goal == 0:\n",
    "                score = 7\n",
    "                self.reward = score - touchback_ep\n",
    "                self.done = True\n",
    "            if turnover == True:\n",
    "                score = 0\n",
    "                # should take touchback into account\n",
    "                self.reward = score - calc_ep(100 - self.yds_to_goal)\n",
    "                self.done = True\n",
    "            # trying a shaping reward here. just kind of winging this, probably needs refined\n",
    "            self.reward += (yds / 100)\n",
    "        \n",
    "        # not sure this is right but I think 5th down (expressed as 4) is breaking things turnover, kick on fourth down \n",
    "        if (self.down == (self.init_down + 4)):\n",
    "            self.down = self.init_down\n",
    "\n",
    "        self.state = {\n",
    "            \"yds_to_goal\": np.array([self.yds_to_goal], dtype=np.float32),\n",
    "            \"yds_to_first\": np.array([self.yds_to_first], dtype=np.float32),\n",
    "            \"down\": self.down  # Represents value 3 (0: 1st down, 1: 2nd down, 2: 3rd down, 3: 4th down)\n",
    "        }\n",
    "        \n",
    "        self.episode_reward += self.reward\n",
    "        \n",
    "        info = {}\n",
    "        info.update({\n",
    "            'prev_down': prev_down,\n",
    "            'prev_yds_to_first': prev_yds_to_first,\n",
    "            'prev_yds_to_goal': prev_yds_to_goal,\n",
    "            'yds': yds,\n",
    "            'turnover': turnover,\n",
    "            'score': score\n",
    "        })\n",
    "        \n",
    "        # https://gymnasium.farama.org/tutorials/gymnasium_basics/environment_creation/#sphx-glr-tutorials-gymnasium-basics-environment-creation-py\n",
    "        return self.state, self.reward, self.done, False, info\n",
    "\n",
    "    def reset(self, seed=None, yds_to_goal=None):\n",
    "\n",
    "        # https://gymnasium.farama.org/tutorials/gymnasium_basics/environment_creation/#sphx-glr-tutorials-gymnasium-basics-environment-creation-py\n",
    "        # We need the following line to seed self.np_random\n",
    "        super().reset(seed=seed)\n",
    "\n",
    "        self.down = self.init_down\n",
    "        self.yds_to_first = self.init_yds_to_first\n",
    "        if yds_to_goal is not None:\n",
    "            self.yds_to_goal = yds_to_goal\n",
    "        else:\n",
    "            self.yds_to_goal = self.init_yds_to_goal\n",
    "        \n",
    "        self.state = {\n",
    "            \"yds_to_goal\": self.yds_to_goal\n",
    "            , \"yds_to_first\": self.yds_to_first\n",
    "            , \"down\": self.down}\n",
    "        \n",
    "        self.reward = 0\n",
    "        self.episode_reward = 0\n",
    "        self.done = False\n",
    "        \n",
    "        # https://gymnasium.farama.org/tutorials/gymnasium_basics/environment_creation/#sphx-glr-tutorials-gymnasium-basics-environment-creation-py\n",
    "        info = {}\n",
    "        return self.state, info\n",
    "    \n",
    "\n",
    "    \n",
    "    def set_yds_to_goal(self, yds_to_goal):\n",
    "        self.yds_to_goal = yds_to_goal\n",
    "        self.state = {\n",
    "            \"yds_to_goal\": self.yds_to_goal\n",
    "            , \"yds_to_first\": self.yds_to_first\n",
    "            , \"down\": self.down}\n",
    "        \n",
    "        return self.state\n",
    "        \n",
    "    \n",
    "    def pretty_print(self, state, action, info):\n",
    "        down = state[\"down\"]\n",
    "        yds_to_first = state[\"yds_to_first\"][0]\n",
    "        yds_to_goal = state[\"yds_to_goal\"][0]\n",
    "        \n",
    "        yds = info[\"yds\"]\n",
    "        turnover = info[\"turnover\"]\n",
    "        score = info[\"score\"]\n",
    "        prev_down = info[\"prev_down\"]\n",
    "        prev_yds_to_first = info[\"prev_yds_to_first\"]\n",
    "        prev_yds_to_goal = info[\"prev_yds_to_goal\"]\n",
    "\n",
    "        if action == 0:\n",
    "            action = \"Run\"\n",
    "        elif action == 1:\n",
    "            action = \"Pass\"\n",
    "        elif action == 2:\n",
    "            action = \"Kick\"\n",
    "        elif action == 3:\n",
    "            action = \"Punt\"\n",
    "        \n",
    "        print(f\"Down: {prev_down}, Yards to First: {prev_yds_to_first:.1f}, Yards to Goal: {prev_yds_to_goal:.1f}, Action: {action}, Yards Gained: {yds:.1f}, Turnover: {turnover}\")\n",
    "        if turnover: print('Turnover')\n",
    "        if action == 'Kick':\n",
    "            if score == 3:\n",
    "                print('Made Field Goal')\n",
    "            else:\n",
    "                print('Missed Field Goal')\n",
    "        if score == 7: print('Touchdown')\n",
    "            \n",
    "        return"
   ]
  },
  {
   "attachments": {},
   "cell_type": "markdown",
   "id": "7db71304",
   "metadata": {},
   "source": [
    "Before we train the agents let's first try a custom policy on the environment. We'll use this as a benchmark to see how well the agents learn. Further, let's create two styles (chill & agro) so we can watch them play against each other. We'll want that functionality when we have the agents."
   ]
  },
  {
   "cell_type": "code",
   "execution_count": 2,
   "id": "084b3543",
   "metadata": {},
   "outputs": [
    {
     "name": "stdout",
     "output_type": "stream",
     "text": [
      "chill Custom policy mean reward: 2.71 +/- 4.13\n",
      "agro Custom policy mean reward: 2.64 +/- 4.09\n"
     ]
    }
   ],
   "source": [
    "from random import choices\n",
    "\n",
    "def custom_policy(state, style = 'chill'):\n",
    "    down = state['down']\n",
    "    yds_to_first = state['yds_to_first']\n",
    "    yds_to_goal = state['yds_to_goal']\n",
    "\n",
    "    if down == 0:\n",
    "        if style == 'chill':\n",
    "            # run first team\n",
    "            return choices([0, 1], weights=[70, 30], k=1)[0]\n",
    "        elif style == 'agro':\n",
    "            # pass first team\n",
    "            return choices([0, 1], weights=[30, 70], k=1)[0]\n",
    "        \n",
    "    if down == 1:\n",
    "        # heavy run first if ahead of the sticks\n",
    "        if yds_to_first <= (2*10/3):\n",
    "            return choices([0, 1], weights=[85, 15], k=1)[0]\n",
    "        # else pass first\n",
    "        else:\n",
    "            return choices([0, 1], weights=[30, 70], k=1)[0]\n",
    "        \n",
    "    if down == 2:\n",
    "        # passing down if well behind the sticks\n",
    "        if yds_to_first >= (2*10/3):\n",
    "            return 1\n",
    "        # heavy run first if ahead of the sticks\n",
    "        elif yds_to_first <= (10/3):\n",
    "            return choices([0, 1], weights=[85, 15], k=1)[0]\n",
    "        # else (>3.33 and <6.67) pass first\n",
    "        else:\n",
    "            return choices([0, 1], weights=[30, 70], k=1)[0]\n",
    "\n",
    "    # Kick on fourth down if yards to goal is less than 60 yards else same logic as third down\n",
    "    if down == 3:\n",
    "        # agro will always go for it ahead of the sticks\n",
    "        if (style == 'agro') & (yds_to_first <= (10/3)):\n",
    "            return choices([0, 1], weights=[85, 15], k=1)[0]\n",
    "        # kick\n",
    "        elif yds_to_goal < 60:\n",
    "            return 2\n",
    "        # punt\n",
    "        else:\n",
    "            return 3\n",
    "\n",
    "def custom_policy(state, style = 'chill'):\n",
    "    down = state['down']\n",
    "    yds_to_first = state['yds_to_first']\n",
    "    yds_to_goal = state['yds_to_goal']\n",
    "\n",
    "    if down == 0:\n",
    "        if style == 'chill':\n",
    "            # run first team\n",
    "            return choices([0, 1], weights=[70, 30], k=1)[0]\n",
    "        elif style == 'agro':\n",
    "            # pass first team\n",
    "            return choices([0, 1], weights=[30, 70], k=1)[0]\n",
    "        \n",
    "    if down == 1:\n",
    "        # heavy run first if ahead of the sticks\n",
    "        if yds_to_first <= (2*10/3):\n",
    "            return choices([0, 1], weights=[85, 15], k=1)[0]\n",
    "        # else pass first\n",
    "        else:\n",
    "            return choices([0, 1], weights=[30, 70], k=1)[0]\n",
    "        \n",
    "    if down == 2:\n",
    "        # passing down if well behind the sticks\n",
    "        if yds_to_first >= (2*10/3):\n",
    "            return 1\n",
    "        # heavy run first if ahead of the sticks\n",
    "        elif yds_to_first <= (10/3):\n",
    "            return choices([0, 1], weights=[85, 15], k=1)[0]\n",
    "        # else (>3.33 and <6.67) pass first\n",
    "        else:\n",
    "            return choices([0, 1], weights=[30, 70], k=1)[0]\n",
    "\n",
    "    # Kick on fourth down if yards to goal is less than 60 yards else same logic as third down\n",
    "    if down == 3:\n",
    "        # agro will always go for it ahead of the sticks\n",
    "        if (style == 'agro') & (yds_to_first <= (10/3)):\n",
    "            return choices([0, 1], weights=[85, 15], k=1)[0]\n",
    "        # kick\n",
    "        elif yds_to_goal < 60:\n",
    "            return 2\n",
    "        # punt\n",
    "        else:\n",
    "            return 3\n",
    "\n",
    "\n",
    "def evaluate_custom_policy(env, style='chill', n_episodes=1000, watch=False):\n",
    "    rewards = []\n",
    "    \n",
    "    for episode in range(n_episodes):\n",
    "        state, info = env.reset()\n",
    "        done = False\n",
    "        episode_reward = 0\n",
    "        step_count = 0\n",
    "\n",
    "        while not done:\n",
    "            action = custom_policy(state)\n",
    "            state, reward, done, placeholder, info = env.step(np.array([action]))\n",
    "            episode_reward += reward\n",
    "\n",
    "            if watch and episode == n_episodes - 1:\n",
    "                yds = info['yds']\n",
    "                prev_down = info['prev_down']\n",
    "                prev_yds_to_first = info['prev_yds_to_first']\n",
    "                prev_yds_to_goal = info['prev_yds_to_goal']\n",
    "                turnover = info['turnover']\n",
    "                print(f\"Step: {step_count}, Dwn: {prev_down}, to First: {round(float(prev_yds_to_first), 2)}, to Goal: {round(float(prev_yds_to_goal), 2)}, Action: {action}, Yds Gained: {round(float(yds), 2)}, Reward: {round(float(reward), 2)}, Tot Reward: {round(float(episode_reward), 2)}, TO: {turnover}\")\n",
    "\n",
    "            step_count += 1\n",
    "        \n",
    "        rewards.append(episode_reward)\n",
    "\n",
    "    mean_reward = np.mean(rewards)\n",
    "    std_reward = np.std(rewards)\n",
    "\n",
    "    return mean_reward, std_reward\n",
    "\n",
    "n_eval_episodes = 1_000\n",
    "styles = ['chill', 'agro']\n",
    "for style in styles:\n",
    "    env = NflEnv()\n",
    "    mean_reward_custom, std_reward_custom = evaluate_custom_policy(env, style, n_episodes=n_eval_episodes, watch=False)\n",
    "    print(f\"{style} Custom policy mean reward: {mean_reward_custom:.2f} +/- {std_reward_custom:.2f}\")"
   ]
  },
  {
   "attachments": {},
   "cell_type": "markdown",
   "id": "8532a0e7",
   "metadata": {},
   "source": [
    "Let's watch the two styles play a game against each other, first with text and then with images."
   ]
  },
  {
   "cell_type": "code",
   "execution_count": 3,
   "id": "9175e77b",
   "metadata": {},
   "outputs": [],
   "source": [
    "import matplotlib.pyplot as plt\n",
    "import time\n",
    "from IPython.display import display, clear_output\n",
    "\n",
    "def draw_field(player_with_ball, starting_yds_to_goal, yds, drive_yds, player_1_score, player_2_score, one_image='n'):\n",
    "    plt.figure(figsize=(20, 5))\n",
    "    plt.barh(0, 100, color='green', height=5)\n",
    "    plt.xlim(0, 100)\n",
    "    plt.ylim(-1, 1)\n",
    "    plt.xticks(range(0, 101, 10))\n",
    "    plt.yticks([])\n",
    "    plt.grid(axis='x')\n",
    "\n",
    "    if player_with_ball == 1:\n",
    "        starting_ball_position = (100 - starting_yds_to_goal)\n",
    "        ball_position = starting_ball_position + drive_yds\n",
    "    elif player_with_ball == 2:\n",
    "        starting_ball_position = starting_yds_to_goal\n",
    "        ball_position = starting_ball_position - drive_yds\n",
    "    \n",
    "    # Plot the ball\n",
    "    plt.plot(ball_position, 0, 'o', markersize=20, color='orange')\n",
    "\n",
    "    plt.text(ball_position, 0.1, f'Play gain: {yds} yards\\nTotal drive: {drive_yds} yards',\n",
    "             horizontalalignment='center', verticalalignment='bottom', color='white', fontsize=12, fontweight='bold')\n",
    "\n",
    "    if player_with_ball == 1:\n",
    "        plt.barh(0, drive_yds, left=starting_ball_position, color='red', height=0.1)\n",
    "    else:  # team 2\n",
    "        plt.barh(0, drive_yds, left=ball_position, color='blue', height=0.1)\n",
    "    \n",
    "    # Add a scoreboard in the top right corner\n",
    "    plt.text(98, 0.8, f'Team 1: {player_1_score}\\nTeam 2: {player_2_score}', \n",
    "             horizontalalignment='right', verticalalignment='top', \n",
    "             bbox=dict(boxstyle=\"square,pad=1\", fc=\"white\", ec=\"black\"), fontsize=14)\n",
    "    \n",
    "    if one_image == 'n':\n",
    "        plt.show()\n",
    "    else:\n",
    "        clear_output(wait=True)  # This will clear the output before showing the new plot\n",
    "        display(plt.gcf())  # This will display the current plot\n",
    "        plt.close()  # This will close the plot so it doesn't get shown again later\n",
    "        time.sleep(0.25)  # wait for quarter second between plays\n",
    "        \n",
    "\n",
    "\n",
    "def play_game(env, possessions=2, style_1='chill', style_2='agro', model_1=None, model_2=None, players = [1, 2], text_viz='y', image_viz='n', one_image='n'):\n",
    "    \n",
    "    starting_yds_to_goal = 80\n",
    "    player_1_score = 0\n",
    "    player_2_score = 0\n",
    "    \n",
    "    if model_1 is not None:\n",
    "        print('player 1 is an agent')\n",
    "    else:\n",
    "        print(f'player 1 is using {style_1} play style')\n",
    "    if model_2 is not None:\n",
    "        print('player 2 is an agent')\n",
    "    else:\n",
    "        print(f'player 2 is using {style_2} play style')\n",
    "    print()\n",
    "\n",
    "    for possessions in range(1, possessions+1):\n",
    "\n",
    "        for player in players:\n",
    "            \n",
    "            if text_viz == 'y':\n",
    "                if player == 1:\n",
    "                    print(f\"player 1 taking possession with {starting_yds_to_goal:.2f} yards to go\")\n",
    "                else:\n",
    "                    print(f\"player 2 taking possession with {starting_yds_to_goal:.2f} yards to go\")\n",
    "            \n",
    "            # state = env.reset(yds_to_goal = starting_yds_to_goal)\n",
    "            state, info = env.reset(yds_to_goal = starting_yds_to_goal)\n",
    "            \n",
    "            done = False\n",
    "            episode_reward = 0\n",
    "            \n",
    "            drive_yds = 0\n",
    "\n",
    "            while not done:\n",
    "                state_array = {'yds_to_goal': np.array([state['yds_to_goal']]), 'yds_to_first': np.array([state['yds_to_first']]), 'down': np.array([state['down']])}\n",
    "                if player == 1:\n",
    "                    if model_1 is not None:\n",
    "                        action, _states = model_1.predict(state_array)\n",
    "                    else:\n",
    "                        action = custom_policy(state, style=style_1)\n",
    "                elif player == 2:\n",
    "                    if model_2 is not None:\n",
    "                        action, _states = model_2.predict(state_array)\n",
    "                    else:\n",
    "                        action = custom_policy(state, style=style_2)\n",
    "                state, reward, done, placeholder, info = env.step(np.array([action]))\n",
    "                episode_reward += reward\n",
    "                \n",
    "                score = info[\"score\"]                \n",
    "                if player == 1:\n",
    "                    player_1_score += score\n",
    "                else:\n",
    "                    player_2_score += score\n",
    "                \n",
    "                if text_viz == 'y':\n",
    "                    env.pretty_print(state, action, info)\n",
    "                    \n",
    "                if image_viz == 'y':\n",
    "                    yds = info[\"yds\"]\n",
    "                    drive_yds += yds\n",
    "                    draw_field(player_with_ball=player, starting_yds_to_goal=round(starting_yds_to_goal,1), yds=round(yds,1), drive_yds=round(drive_yds,1), player_1_score=player_1_score, player_2_score=player_2_score, one_image=one_image)\n",
    "                                \n",
    "            # if not made fg or td, probably better way to implement. This doesn't include punt touchbacks.\n",
    "            if score < 3:\n",
    "                starting_yds_to_goal = 100 - state[\"yds_to_goal\"][0]\n",
    "            else:\n",
    "                starting_yds_to_goal = 80\n",
    "            \n",
    "            if text_viz == 'y':\n",
    "                print('Scoreboard:')\n",
    "                print(f\"player 1 - {player_1_score}\")\n",
    "                print(f\"player 2 - {player_2_score}\")\n",
    "                print()"
   ]
  },
  {
   "cell_type": "code",
   "execution_count": 4,
   "id": "185f7165",
   "metadata": {},
   "outputs": [
    {
     "name": "stdout",
     "output_type": "stream",
     "text": [
      "player 1 is using chill play style\n",
      "player 2 is using agro play style\n",
      "\n",
      "player 1 taking possession with 80.00 yards to go\n",
      "Down: 0, Yards to First: 10.0, Yards to Goal: 80.0, Action: Run, Yards Gained: -3.6, Turnover: False\n",
      "Down: 1, Yards to First: 13.6, Yards to Goal: 83.6, Action: Pass, Yards Gained: 32.7, Turnover: False\n",
      "Down: 0, Yards to First: 10.0, Yards to Goal: 50.9, Action: Pass, Yards Gained: 1.5, Turnover: False\n",
      "Down: 1, Yards to First: 8.5, Yards to Goal: 49.4, Action: Pass, Yards Gained: 12.4, Turnover: False\n",
      "Down: 0, Yards to First: 10.0, Yards to Goal: 37.0, Action: Pass, Yards Gained: 8.0, Turnover: False\n",
      "Down: 1, Yards to First: 2.0, Yards to Goal: 29.0, Action: Run, Yards Gained: 11.2, Turnover: False\n",
      "Down: 0, Yards to First: 10.0, Yards to Goal: 17.8, Action: Run, Yards Gained: 15.0, Turnover: False\n",
      "Down: 0, Yards to First: 2.8, Yards to Goal: 2.8, Action: Run, Yards Gained: -1.4, Turnover: False\n",
      "Down: 1, Yards to First: 4.2, Yards to Goal: 4.2, Action: Run, Yards Gained: -0.9, Turnover: False\n",
      "Down: 2, Yards to First: 5.1, Yards to Goal: 5.1, Action: Pass, Yards Gained: -4.9, Turnover: False\n",
      "Down: 3, Yards to First: 10.0, Yards to Goal: 10.0, Action: Kick, Yards Gained: 10.0, Turnover: False\n",
      "Made Field Goal\n",
      "Scoreboard:\n",
      "player 1 - 3\n",
      "player 2 - 0\n",
      "\n",
      "player 2 taking possession with 80.00 yards to go\n",
      "Down: 0, Yards to First: 10.0, Yards to Goal: 80.0, Action: Pass, Yards Gained: 6.4, Turnover: False\n",
      "Down: 1, Yards to First: 3.6, Yards to Goal: 73.6, Action: Pass, Yards Gained: 19.2, Turnover: False\n",
      "Down: 0, Yards to First: 10.0, Yards to Goal: 54.4, Action: Run, Yards Gained: 5.3, Turnover: False\n",
      "Down: 1, Yards to First: 4.7, Yards to Goal: 49.1, Action: Run, Yards Gained: -1.6, Turnover: False\n",
      "Down: 2, Yards to First: 6.3, Yards to Goal: 50.7, Action: Run, Yards Gained: 6.2, Turnover: False\n",
      "Down: 3, Yards to First: 0.1, Yards to Goal: 44.5, Action: Run, Yards Gained: 0.1, Turnover: True\n",
      "Turnover\n",
      "Scoreboard:\n",
      "player 1 - 3\n",
      "player 2 - 0\n",
      "\n",
      "player 1 taking possession with 55.57 yards to go\n",
      "Down: 0, Yards to First: 10.0, Yards to Goal: 55.6, Action: Run, Yards Gained: 1.2, Turnover: False\n",
      "Down: 1, Yards to First: 8.8, Yards to Goal: 54.4, Action: Pass, Yards Gained: 0.0, Turnover: False\n",
      "Down: 2, Yards to First: 8.8, Yards to Goal: 54.4, Action: Pass, Yards Gained: 29.2, Turnover: False\n",
      "Down: 0, Yards to First: 10.0, Yards to Goal: 25.3, Action: Run, Yards Gained: 7.5, Turnover: False\n",
      "Down: 1, Yards to First: 2.5, Yards to Goal: 17.8, Action: Run, Yards Gained: 3.6, Turnover: False\n",
      "Down: 0, Yards to First: 10.0, Yards to Goal: 14.2, Action: Run, Yards Gained: 3.6, Turnover: False\n",
      "Down: 1, Yards to First: 6.4, Yards to Goal: 10.6, Action: Run, Yards Gained: 3.7, Turnover: False\n",
      "Down: 2, Yards to First: 2.7, Yards to Goal: 6.9, Action: Run, Yards Gained: -1.9, Turnover: False\n",
      "Down: 3, Yards to First: 4.6, Yards to Goal: 8.8, Action: Kick, Yards Gained: 8.8, Turnover: False\n",
      "Made Field Goal\n",
      "Scoreboard:\n",
      "player 1 - 6\n",
      "player 2 - 0\n",
      "\n",
      "player 2 taking possession with 80.00 yards to go\n",
      "Down: 0, Yards to First: 10.0, Yards to Goal: 80.0, Action: Pass, Yards Gained: 8.4, Turnover: False\n",
      "Down: 1, Yards to First: 1.6, Yards to Goal: 71.6, Action: Run, Yards Gained: 1.3, Turnover: False\n",
      "Down: 2, Yards to First: 0.3, Yards to Goal: 70.3, Action: Pass, Yards Gained: 0.0, Turnover: False\n",
      "Down: 3, Yards to First: 0.3, Yards to Goal: 70.3, Action: Run, Yards Gained: -1.8, Turnover: True\n",
      "Turnover\n",
      "Scoreboard:\n",
      "player 1 - 6\n",
      "player 2 - 0\n",
      "\n"
     ]
    }
   ],
   "source": [
    "play_game(env=NflEnv())"
   ]
  },
  {
   "cell_type": "code",
   "execution_count": 5,
   "id": "bdceb30c",
   "metadata": {},
   "outputs": [
    {
     "data": {
      "image/png": "[encoded data removed]",
      "text/plain": [
       "<Figure size 1440x360 with 1 Axes>"
      ]
     },
     "metadata": {},
     "output_type": "display_data"
    }
   ],
   "source": [
    "# play_game(env=NflEnv(), text_viz='n', image_viz='y')\n",
    "play_game(env=NflEnv(), text_viz='n', image_viz='y', one_image='y')"
   ]
  },
  {
   "attachments": {},
   "cell_type": "markdown",
   "id": "313f7603",
   "metadata": {},
   "source": [
    "Now for the fun part, let's use RL to train agents. We'll use stable baselines3 to train and weights & biases to monitor and evaluate our training runs. First, let's import libraries and set hyperparameters."
   ]
  },
  {
   "cell_type": "code",
   "execution_count": 6,
   "id": "b0c2e4a9",
   "metadata": {},
   "outputs": [
    {
     "name": "stderr",
     "output_type": "stream",
     "text": [
      "Failed to detect the name of this notebook, you can set it manually with the WANDB_NOTEBOOK_NAME environment variable to enable code saving.\n",
      "\u001b[34m\u001b[1mwandb\u001b[0m: Currently logged in as: \u001b[33mgrantbell\u001b[0m. Use \u001b[1m`wandb login --relogin`\u001b[0m to force relogin\n"
     ]
    },
    {
     "data": {
      "text/plain": [
       "True"
      ]
     },
     "execution_count": 6,
     "metadata": {},
     "output_type": "execute_result"
    }
   ],
   "source": [
    "import os\n",
    "\n",
    "from stable_baselines3 import DQN, PPO, A2C\n",
    "from stable_baselines3.common.env_checker import check_env\n",
    "from stable_baselines3.common.env_util import make_vec_env\n",
    "from stable_baselines3.common.evaluation import evaluate_policy\n",
    "\n",
    "import wandb\n",
    "from wandb.integration.sb3 import WandbCallback\n",
    "wandb.login()"
   ]
  },
  {
   "cell_type": "code",
   "execution_count": 7,
   "id": "3916d263",
   "metadata": {},
   "outputs": [],
   "source": [
    "def run_training_job(model_type, use_wandb = 'y', timesteps=1_000_000, policy='MultiInputPolicy'\n",
    "                     ,exploration_final_eps=0.025, exploration_fraction=0.5\n",
    "                     , vec_envs='n', n_envs=4, sb3_model_verbose=0, wandb_verbose=2):\n",
    "    \n",
    "    # https://docs.wandb.ai/guides/integrations/stable-baselines-3\n",
    "    config = {\n",
    "    \"policy_type\": policy,\n",
    "    \"total_timesteps\": timesteps,\n",
    "    \"env_id\": \"NflEnv\",\n",
    "    }\n",
    "\n",
    "    if use_wandb == 'y':\n",
    "        run = wandb.init(\n",
    "            project=\"sb3_nfl_2\",\n",
    "            config=config,\n",
    "            sync_tensorboard=True\n",
    "        )\n",
    "\n",
    "    # when using multiple environments, the total number of steps taken in counts each step taken in each environment\n",
    "    # if using 4 environments and 400_000 TIMESTEPS, the agent will take a total of 100_000 steps in each environment.\n",
    "    if vec_envs == 'y':\n",
    "        # https://colab.research.google.com/github/araffin/rl-tutorial-jnrr19/blob/sb3/5_custom_gym_env.ipynb\n",
    "        # received 'ValueError: high is out of bounds for int32' without the seed\n",
    "        env = make_vec_env(env_id = NflEnv, n_envs=n_envs, seed=1)\n",
    "\n",
    "    elif vec_envs == 'n':\n",
    "        env = NflEnv()\n",
    "    \n",
    "    if use_wandb == 'y':\n",
    "        if model_type == 'DQN':\n",
    "            # default values for these parameters are exploration_final_eps=0.05 and exploration_fraction=0.1\n",
    "            # with the default values, the exploration rate will linearly decrease to 0.05 over the first 10% of the timesteps\n",
    "            model = DQN(config[\"policy_type\"], NflEnv(), verbose=sb3_model_verbose, tensorboard_log=f\"runs/{run.id}\", exploration_final_eps=exploration_final_eps\n",
    "                        , exploration_fraction = exploration_fraction)\n",
    "        elif model_type == 'PPO':\n",
    "            model = PPO(config[\"policy_type\"], NflEnv(), verbose=sb3_model_verbose, tensorboard_log=f\"runs/{run.id}\")\n",
    "        elif model_type == 'A2C':\n",
    "            model = A2C(config[\"policy_type\"], NflEnv(), verbose=sb3_model_verbose, tensorboard_log=f\"runs/{run.id}\")\n",
    "    else:\n",
    "        if model_type == 'DQN':\n",
    "            model = DQN(config[\"policy_type\"], NflEnv(), verbose=sb3_model_verbose, exploration_final_eps=exploration_final_eps\n",
    "                        , exploration_fraction = exploration_fraction)\n",
    "        elif model_type == 'PPO':\n",
    "            model = PPO(config[\"policy_type\"], NflEnv(), verbose=sb3_model_verbose)\n",
    "        elif model_type == 'A2C':\n",
    "            model = A2C(config[\"policy_type\"], NflEnv(), verbose=sb3_model_verbose)\n",
    "\n",
    "    mean_reward, std_reward = evaluate_policy(model=model, env=env, n_eval_episodes=n_eval_episodes)\n",
    "    print(f\"mean_reward before training:{mean_reward:.2f} +/- {std_reward:.2f}\")\n",
    "\n",
    "    if use_wandb == 'y':\n",
    "        model.learn(\n",
    "            total_timesteps=config[\"total_timesteps\"],\n",
    "            callback=WandbCallback(\n",
    "                model_save_path=f\"models/{run.id}\",\n",
    "                verbose=wandb_verbose,\n",
    "            ),\n",
    "        )\n",
    "        run.finish()\n",
    "    else:\n",
    "        model.learn(total_timesteps=config[\"total_timesteps\"])\n",
    "\n",
    "    mean_reward, std_reward = evaluate_policy(model, env, n_eval_episodes=n_eval_episodes)\n",
    "    print(f\"mean_reward after training:{mean_reward:.2f} +/- {std_reward:.2f}\")\n",
    "\n",
    "    # parameters_saved = model.get_parameters()\n",
    "    \n",
    "    return model"
   ]
  },
  {
   "cell_type": "code",
   "execution_count": 9,
   "id": "e5e74b2b",
   "metadata": {},
   "outputs": [
    {
     "data": {
      "text/html": [
       "Finishing last run (ID:jrcj95j9) before initializing another..."
      ],
      "text/plain": [
       "<IPython.core.display.HTML object>"
      ]
     },
     "metadata": {},
     "output_type": "display_data"
    },
    {
     "data": {
      "text/html": [
       "Waiting for W&B process to finish... <strong style=\"color:green\">(success).</strong>"
      ],
      "text/plain": [
       "<IPython.core.display.HTML object>"
      ]
     },
     "metadata": {},
     "output_type": "display_data"
    },
    {
     "data": {
      "text/html": [
       "<style>\n",
       "    table.wandb td:nth-child(1) { padding: 0 10px; text-align: left ; width: auto;} td:nth-child(2) {text-align: left ; width: 100%}\n",
       "    .wandb-row { display: flex; flex-direction: row; flex-wrap: wrap; justify-content: flex-start; width: 100% }\n",
       "    .wandb-col { display: flex; flex-direction: column; flex-basis: 100%; flex: 1; padding: 10px; }\n",
       "    </style>\n",
       "<div class=\"wandb-row\"><div class=\"wandb-col\"><h3>Run history:</h3><br/><table class=\"wandb\"><tr><td>global_step</td><td>▁▁▁▂▂▂▂▂▂▃▃▃▃▄▄▄▄▄▅▅▅▅▅▅▆▆▆▆▆▆▇▇▇▇▇▇████</td></tr><tr><td>rollout/ep_len_mean</td><td>▁▅▄▆▆▆▆▇▇▇▇▇▇▇▇▇█▇▆▇▆▆▅▆▅▅▄▄▄▄▄▄▄▄▄▄▅▅▆▆</td></tr><tr><td>rollout/ep_rew_mean</td><td>▁▇▅▇▇▆▇▇▇█▇▇███▇▇█▇▆▇▇▇▆▆▆▆▆▆▆▆▅▅▄▄▅▆▇▇█</td></tr><tr><td>rollout/exploration_rate</td><td>████▇▇▇▇▇▇▆▆▆▆▆▅▅▅▅▅▄▄▄▄▄▄▃▃▃▃▃▂▂▂▂▂▂▁▁▁</td></tr><tr><td>time/fps</td><td>▁▂▃▄▅▆▆▆▇▇▇▇▇▇▇▇▇▇▇█████████████████████</td></tr></table><br/></div><div class=\"wandb-col\"><h3>Run summary:</h3><br/><table class=\"wandb\"><tr><td>global_step</td><td>1248</td></tr><tr><td>rollout/ep_len_mean</td><td>1.93</td></tr><tr><td>rollout/ep_rew_mean</td><td>-1.55767</td></tr><tr><td>rollout/exploration_rate</td><td>0.97574</td></tr><tr><td>time/fps</td><td>1409.0</td></tr></table><br/></div></div>"
      ],
      "text/plain": [
       "<IPython.core.display.HTML object>"
      ]
     },
     "metadata": {},
     "output_type": "display_data"
    },
    {
     "data": {
      "text/html": [
       " View run <strong style=\"color:#cdcd00\">balmy-rain-33</strong> at: <a href='https://wandb.ai/grantbell/sb3_nfl_2/runs/jrcj95j9' target=\"_blank\">https://wandb.ai/grantbell/sb3_nfl_2/runs/jrcj95j9</a><br/>Synced 5 W&B file(s), 0 media file(s), 0 artifact file(s) and 1 other file(s)"
      ],
      "text/plain": [
       "<IPython.core.display.HTML object>"
      ]
     },
     "metadata": {},
     "output_type": "display_data"
    },
    {
     "data": {
      "text/html": [
       "Find logs at: <code>.\\wandb\\run-20230703_213308-jrcj95j9\\logs</code>"
      ],
      "text/plain": [
       "<IPython.core.display.HTML object>"
      ]
     },
     "metadata": {},
     "output_type": "display_data"
    },
    {
     "data": {
      "text/html": [
       "Successfully finished last run (ID:jrcj95j9). Initializing new run:<br/>"
      ],
      "text/plain": [
       "<IPython.core.display.HTML object>"
      ]
     },
     "metadata": {},
     "output_type": "display_data"
    },
    {
     "data": {
      "text/html": [
       "Tracking run with wandb version 0.15.4"
      ],
      "text/plain": [
       "<IPython.core.display.HTML object>"
      ]
     },
     "metadata": {},
     "output_type": "display_data"
    },
    {
     "data": {
      "text/html": [
       "Run data is saved locally in <code>c:\\Users\\grant\\OneDrive\\Desktop\\nfl_jupyter\\wandb\\run-20230703_213332-g59ewbvq</code>"
      ],
      "text/plain": [
       "<IPython.core.display.HTML object>"
      ]
     },
     "metadata": {},
     "output_type": "display_data"
    },
    {
     "data": {
      "text/html": [
       "Syncing run <strong><a href='https://wandb.ai/grantbell/sb3_nfl_2/runs/g59ewbvq' target=\"_blank\">summer-yogurt-34</a></strong> to <a href='https://wandb.ai/grantbell/sb3_nfl_2' target=\"_blank\">Weights & Biases</a> (<a href='https://wandb.me/run' target=\"_blank\">docs</a>)<br/>"
      ],
      "text/plain": [
       "<IPython.core.display.HTML object>"
      ]
     },
     "metadata": {},
     "output_type": "display_data"
    },
    {
     "data": {
      "text/html": [
       " View project at <a href='https://wandb.ai/grantbell/sb3_nfl_2' target=\"_blank\">https://wandb.ai/grantbell/sb3_nfl_2</a>"
      ],
      "text/plain": [
       "<IPython.core.display.HTML object>"
      ]
     },
     "metadata": {},
     "output_type": "display_data"
    },
    {
     "data": {
      "text/html": [
       " View run at <a href='https://wandb.ai/grantbell/sb3_nfl_2/runs/g59ewbvq' target=\"_blank\">https://wandb.ai/grantbell/sb3_nfl_2/runs/g59ewbvq</a>"
      ],
      "text/plain": [
       "<IPython.core.display.HTML object>"
      ]
     },
     "metadata": {},
     "output_type": "display_data"
    },
    {
     "name": "stderr",
     "output_type": "stream",
     "text": [
      "c:\\Users\\grant\\anaconda3\\envs\\rl\\Lib\\site-packages\\stable_baselines3\\common\\evaluation.py:67: UserWarning: Evaluation environment is not wrapped with a ``Monitor`` wrapper. This may result in reporting modified episode lengths and rewards, if other wrappers happen to modify these. Consider wrapping environment first with ``Monitor`` wrapper.\n",
      "  warnings.warn(\n",
      "\u001b[34m\u001b[1mwandb\u001b[0m: \u001b[33mWARNING\u001b[0m When using several event log directories, please call `wandb.tensorboard.patch(root_logdir=\"...\")` before `wandb.init`\n"
     ]
    },
    {
     "name": "stdout",
     "output_type": "stream",
     "text": [
      "mean_reward before training:-0.02 +/- 2.41\n"
     ]
    },
    {
     "data": {
      "text/html": [
       "Waiting for W&B process to finish... <strong style=\"color:green\">(success).</strong>"
      ],
      "text/plain": [
       "<IPython.core.display.HTML object>"
      ]
     },
     "metadata": {},
     "output_type": "display_data"
    },
    {
     "data": {
      "text/html": [
       "<style>\n",
       "    table.wandb td:nth-child(1) { padding: 0 10px; text-align: left ; width: auto;} td:nth-child(2) {text-align: left ; width: 100%}\n",
       "    .wandb-row { display: flex; flex-direction: row; flex-wrap: wrap; justify-content: flex-start; width: 100% }\n",
       "    .wandb-col { display: flex; flex-direction: column; flex-basis: 100%; flex: 1; padding: 10px; }\n",
       "    </style>\n",
       "<div class=\"wandb-row\"><div class=\"wandb-col\"><h3>Run history:</h3><br/><table class=\"wandb\"><tr><td>global_step</td><td>▁▁▁▂▂▂▂▂▂▃▃▃▃▃▃▃▄▄▄▄▄▄▄▅▅▅▅▅▅▅▅▅▅▅▆▆▆▇▇█</td></tr><tr><td>rollout/ep_len_mean</td><td>▂▂▂▂▂▂▂▂▂▂▂▂▂▂▂▂▂▂▂▂▂▂▁▁▁▁▁▁▁▁▁▁▁▆▆▆█▇█▇</td></tr><tr><td>rollout/ep_rew_mean</td><td>▂▂▂▂▂▂▂▁▂▂▁▂▂▂▂▂▂▁▁▂▂▁▃▃▃▃▃▃▃▃▃▃▄▄▄▄█▆▇▇</td></tr><tr><td>rollout/exploration_rate</td><td>██▇▇▆▆▆▅▅▅▄▄▄▃▃▃▃▂▂▂▂▁▁▁▁▁▁▁▁▁▁▁▁▁▁▁▁▁▁▁</td></tr><tr><td>time/fps</td><td>▇███████████████▇▇▇▇▇▇▇▆▆▅▅▄▄▄▃▃▃▃▂▂▂▁▁▁</td></tr><tr><td>train/learning_rate</td><td>▁▁▁▁▁▁▁▁▁▁▁▁▁▁▁▁▁▁▁▁▁▁▁▁▁▁▁▁▁▁▁▁▁▁▁▁▁▁▁▁</td></tr><tr><td>train/loss</td><td>▂▆▅▄▂▁▃▂▁▂▂▂▂▂▃▂▂▂▃▂▂▅▂▁▃▄▃█▆▅▂▄▃▄▃▅▆▄▄▅</td></tr></table><br/></div><div class=\"wandb-col\"><h3>Run summary:</h3><br/><table class=\"wandb\"><tr><td>global_step</td><td>99991</td></tr><tr><td>rollout/ep_len_mean</td><td>6.69</td></tr><tr><td>rollout/ep_rew_mean</td><td>2.25399</td></tr><tr><td>rollout/exploration_rate</td><td>0.025</td></tr><tr><td>time/fps</td><td>724.0</td></tr><tr><td>train/learning_rate</td><td>0.0001</td></tr><tr><td>train/loss</td><td>0.18514</td></tr></table><br/></div></div>"
      ],
      "text/plain": [
       "<IPython.core.display.HTML object>"
      ]
     },
     "metadata": {},
     "output_type": "display_data"
    },
    {
     "data": {
      "text/html": [
       " View run <strong style=\"color:#cdcd00\">summer-yogurt-34</strong> at: <a href='https://wandb.ai/grantbell/sb3_nfl_2/runs/g59ewbvq' target=\"_blank\">https://wandb.ai/grantbell/sb3_nfl_2/runs/g59ewbvq</a><br/>Synced 5 W&B file(s), 0 media file(s), 0 artifact file(s) and 2 other file(s)"
      ],
      "text/plain": [
       "<IPython.core.display.HTML object>"
      ]
     },
     "metadata": {},
     "output_type": "display_data"
    },
    {
     "data": {
      "text/html": [
       "Find logs at: <code>.\\wandb\\run-20230703_213332-g59ewbvq\\logs</code>"
      ],
      "text/plain": [
       "<IPython.core.display.HTML object>"
      ]
     },
     "metadata": {},
     "output_type": "display_data"
    },
    {
     "name": "stdout",
     "output_type": "stream",
     "text": [
      "mean_reward after training:2.39 +/- 4.85\n"
     ]
    }
   ],
   "source": [
    "timesteps=100_000\n",
    "dqn_model = run_training_job('DQN',timesteps=timesteps)"
   ]
  },
  {
   "cell_type": "code",
   "execution_count": 10,
   "id": "c5ebb199",
   "metadata": {},
   "outputs": [
    {
     "data": {
      "text/html": [
       "Tracking run with wandb version 0.15.4"
      ],
      "text/plain": [
       "<IPython.core.display.HTML object>"
      ]
     },
     "metadata": {},
     "output_type": "display_data"
    },
    {
     "data": {
      "text/html": [
       "Run data is saved locally in <code>c:\\Users\\grant\\OneDrive\\Desktop\\nfl_jupyter\\wandb\\run-20230703_213621-5y9kf88m</code>"
      ],
      "text/plain": [
       "<IPython.core.display.HTML object>"
      ]
     },
     "metadata": {},
     "output_type": "display_data"
    },
    {
     "data": {
      "text/html": [
       "Syncing run <strong><a href='https://wandb.ai/grantbell/sb3_nfl_2/runs/5y9kf88m' target=\"_blank\">lively-energy-35</a></strong> to <a href='https://wandb.ai/grantbell/sb3_nfl_2' target=\"_blank\">Weights & Biases</a> (<a href='https://wandb.me/run' target=\"_blank\">docs</a>)<br/>"
      ],
      "text/plain": [
       "<IPython.core.display.HTML object>"
      ]
     },
     "metadata": {},
     "output_type": "display_data"
    },
    {
     "data": {
      "text/html": [
       " View project at <a href='https://wandb.ai/grantbell/sb3_nfl_2' target=\"_blank\">https://wandb.ai/grantbell/sb3_nfl_2</a>"
      ],
      "text/plain": [
       "<IPython.core.display.HTML object>"
      ]
     },
     "metadata": {},
     "output_type": "display_data"
    },
    {
     "data": {
      "text/html": [
       " View run at <a href='https://wandb.ai/grantbell/sb3_nfl_2/runs/5y9kf88m' target=\"_blank\">https://wandb.ai/grantbell/sb3_nfl_2/runs/5y9kf88m</a>"
      ],
      "text/plain": [
       "<IPython.core.display.HTML object>"
      ]
     },
     "metadata": {},
     "output_type": "display_data"
    },
    {
     "name": "stderr",
     "output_type": "stream",
     "text": [
      "c:\\Users\\grant\\anaconda3\\envs\\rl\\Lib\\site-packages\\stable_baselines3\\common\\evaluation.py:67: UserWarning: Evaluation environment is not wrapped with a ``Monitor`` wrapper. This may result in reporting modified episode lengths and rewards, if other wrappers happen to modify these. Consider wrapping environment first with ``Monitor`` wrapper.\n",
      "  warnings.warn(\n",
      "\u001b[34m\u001b[1mwandb\u001b[0m: \u001b[33mWARNING\u001b[0m When using several event log directories, please call `wandb.tensorboard.patch(root_logdir=\"...\")` before `wandb.init`\n"
     ]
    },
    {
     "name": "stdout",
     "output_type": "stream",
     "text": [
      "mean_reward before training:0.66 +/- 3.35\n"
     ]
    },
    {
     "data": {
      "text/html": [
       "Waiting for W&B process to finish... <strong style=\"color:green\">(success).</strong>"
      ],
      "text/plain": [
       "<IPython.core.display.HTML object>"
      ]
     },
     "metadata": {},
     "output_type": "display_data"
    },
    {
     "data": {
      "text/html": [
       "<style>\n",
       "    table.wandb td:nth-child(1) { padding: 0 10px; text-align: left ; width: auto;} td:nth-child(2) {text-align: left ; width: 100%}\n",
       "    .wandb-row { display: flex; flex-direction: row; flex-wrap: wrap; justify-content: flex-start; width: 100% }\n",
       "    .wandb-col { display: flex; flex-direction: column; flex-basis: 100%; flex: 1; padding: 10px; }\n",
       "    </style>\n",
       "<div class=\"wandb-row\"><div class=\"wandb-col\"><h3>Run history:</h3><br/><table class=\"wandb\"><tr><td>global_step</td><td>▁▁▁▁▂▂▂▂▂▃▃▃▃▃▃▄▄▄▄▄▅▅▅▅▅▅▆▆▆▆▆▇▇▇▇▇▇███</td></tr><tr><td>rollout/ep_len_mean</td><td>▁▁▂▃▅▅▆▇▇▇███▇██▇██▇█▇▇▇▇▇▇▇▇▇▇▇▇▇▇█▇█▇█</td></tr><tr><td>rollout/ep_rew_mean</td><td>▁▂▂▄▄▄▅▇▆█▇▇▇▆▆▅▇▆▇▇▇▇▆█▇▇▇▆▆▆▇▇█▇▇█▆█▇█</td></tr><tr><td>time/fps</td><td>█▃▃▂▂▂▂▂▂▂▁▁▁▁▁▁▁▁▁▁▁▁▁▁▁▁▁▁▁▁▁▁▁▁▁▁▁▁▁▁</td></tr><tr><td>train/approx_kl</td><td>█▅▅▂▃▂▂▁▁▁▁▁▁▁▁▁▁▁▁▁▁▁▁▁▁▁▁▁▁▁▁▁▁▁▁▁▁▁▁▁</td></tr><tr><td>train/clip_fraction</td><td>█▃▆▄▄▂▂▁▂▁▁▁▁▁▁▁▁▁▁▁▁▁▁▁▁▁▁▁▁▁▁▁▁▁▁▁▁▁▁▁</td></tr><tr><td>train/clip_range</td><td>▁▁▁▁▁▁▁▁▁▁▁▁▁▁▁▁▁▁▁▁▁▁▁▁▁▁▁▁▁▁▁▁▁▁▁▁▁▁▁▁</td></tr><tr><td>train/entropy_loss</td><td>▁▁▂▃▃▄▅▅▆▆▆▆▆▆▆▆▆▆▇▇▇▇▇▇████████████████</td></tr><tr><td>train/explained_variance</td><td>▁▆▆▇▇█▇▅▇▆▆▇▇▆▆▆▅▆▇▆▆▆▇▆▇▇▇▆▇▇▅▇▆▆▆▆▅▇▇▆</td></tr><tr><td>train/learning_rate</td><td>▁▁▁▁▁▁▁▁▁▁▁▁▁▁▁▁▁▁▁▁▁▁▁▁▁▁▁▁▁▁▁▁▁▁▁▁▁▁▁▁</td></tr><tr><td>train/loss</td><td>▁▁▁▁▄▆▄▅▅▆▆▆▆▅█▅▅▇▆▆▆▅▆▅▅▅▇▅▆▅▅▆▇▇▆▄▅▆▆▅</td></tr><tr><td>train/policy_gradient_loss</td><td>▁▅▅▆▆▇▇█▇███████████████████████████████</td></tr><tr><td>train/value_loss</td><td>▁▁▁▂▄▆▆▇▇▇▇▇▇▇█▇▇█▇████▇█████▇▇█████▇██▇</td></tr></table><br/></div><div class=\"wandb-col\"><h3>Run summary:</h3><br/><table class=\"wandb\"><tr><td>global_step</td><td>100352</td></tr><tr><td>rollout/ep_len_mean</td><td>7.8</td></tr><tr><td>rollout/ep_rew_mean</td><td>3.33847</td></tr><tr><td>time/fps</td><td>554.0</td></tr><tr><td>train/approx_kl</td><td>7e-05</td></tr><tr><td>train/clip_fraction</td><td>0.00225</td></tr><tr><td>train/clip_range</td><td>0.2</td></tr><tr><td>train/entropy_loss</td><td>-0.04136</td></tr><tr><td>train/explained_variance</td><td>0.17916</td></tr><tr><td>train/learning_rate</td><td>0.0003</td></tr><tr><td>train/loss</td><td>7.32554</td></tr><tr><td>train/policy_gradient_loss</td><td>-0.00039</td></tr><tr><td>train/value_loss</td><td>14.90415</td></tr></table><br/></div></div>"
      ],
      "text/plain": [
       "<IPython.core.display.HTML object>"
      ]
     },
     "metadata": {},
     "output_type": "display_data"
    },
    {
     "data": {
      "text/html": [
       " View run <strong style=\"color:#cdcd00\">lively-energy-35</strong> at: <a href='https://wandb.ai/grantbell/sb3_nfl_2/runs/5y9kf88m' target=\"_blank\">https://wandb.ai/grantbell/sb3_nfl_2/runs/5y9kf88m</a><br/>Synced 5 W&B file(s), 0 media file(s), 0 artifact file(s) and 2 other file(s)"
      ],
      "text/plain": [
       "<IPython.core.display.HTML object>"
      ]
     },
     "metadata": {},
     "output_type": "display_data"
    },
    {
     "data": {
      "text/html": [
       "Find logs at: <code>.\\wandb\\run-20230703_213621-5y9kf88m\\logs</code>"
      ],
      "text/plain": [
       "<IPython.core.display.HTML object>"
      ]
     },
     "metadata": {},
     "output_type": "display_data"
    },
    {
     "name": "stdout",
     "output_type": "stream",
     "text": [
      "mean_reward after training:2.48 +/- 5.45\n"
     ]
    }
   ],
   "source": [
    "ppo_model = run_training_job('PPO', timesteps=timesteps)"
   ]
  },
  {
   "attachments": {},
   "cell_type": "markdown",
   "id": "8b6075a9",
   "metadata": {},
   "source": [
    "Let's watch DQN and PPO play eachother"
   ]
  },
  {
   "cell_type": "code",
   "execution_count": 11,
   "id": "e00a1c11",
   "metadata": {},
   "outputs": [
    {
     "name": "stdout",
     "output_type": "stream",
     "text": [
      "player 1 is an agent\n",
      "player 2 is an agent\n",
      "\n",
      "player 1 taking possession with 80.00 yards to go\n",
      "Down: 0, Yards to First: 10.0, Yards to Goal: 80.0, Action: Pass, Yards Gained: 9.2, Turnover: False\n",
      "Down: 1, Yards to First: 0.8, Yards to Goal: 70.8, Action: Pass, Yards Gained: 5.8, Turnover: False\n",
      "Down: 0, Yards to First: 10.0, Yards to Goal: 65.0, Action: Pass, Yards Gained: 0.0, Turnover: False\n",
      "Down: 1, Yards to First: 10.0, Yards to Goal: 65.0, Action: Pass, Yards Gained: 0.0, Turnover: False\n",
      "Down: 2, Yards to First: 10.0, Yards to Goal: 65.0, Action: Pass, Yards Gained: 15.3, Turnover: False\n",
      "Down: 0, Yards to First: 10.0, Yards to Goal: 49.7, Action: Pass, Yards Gained: 2.7, Turnover: False\n",
      "Down: 1, Yards to First: 7.3, Yards to Goal: 46.9, Action: Pass, Yards Gained: 14.5, Turnover: False\n",
      "Down: 0, Yards to First: 10.0, Yards to Goal: 32.4, Action: Pass, Yards Gained: 2.3, Turnover: False\n",
      "Down: 1, Yards to First: 7.7, Yards to Goal: 30.1, Action: Pass, Yards Gained: 0.0, Turnover: False\n",
      "Down: 2, Yards to First: 7.7, Yards to Goal: 30.1, Action: Pass, Yards Gained: 2.6, Turnover: False\n",
      "Down: 3, Yards to First: 5.0, Yards to Goal: 27.5, Action: Pass, Yards Gained: -3.8, Turnover: True\n",
      "Turnover\n",
      "Scoreboard:\n",
      "player 1 - 0\n",
      "player 2 - 0\n",
      "\n",
      "player 2 taking possession with 68.79 yards to go\n",
      "Down: 0, Yards to First: 10.0, Yards to Goal: 68.8, Action: Pass, Yards Gained: 24.2, Turnover: False\n",
      "Down: 0, Yards to First: 10.0, Yards to Goal: 44.6, Action: Pass, Yards Gained: 7.7, Turnover: False\n",
      "Down: 1, Yards to First: 2.3, Yards to Goal: 36.9, Action: Pass, Yards Gained: -0.9, Turnover: False\n",
      "Down: 2, Yards to First: 3.3, Yards to Goal: 37.9, Action: Pass, Yards Gained: 16.7, Turnover: False\n",
      "Down: 0, Yards to First: 10.0, Yards to Goal: 21.2, Action: Pass, Yards Gained: 18.6, Turnover: False\n",
      "Down: 0, Yards to First: 2.5, Yards to Goal: 2.5, Action: Pass, Yards Gained: 0.0, Turnover: False\n",
      "Down: 1, Yards to First: 2.5, Yards to Goal: 2.5, Action: Pass, Yards Gained: 5.4, Turnover: False\n",
      "Touchdown\n",
      "Scoreboard:\n",
      "player 1 - 0\n",
      "player 2 - 7\n",
      "\n",
      "player 1 taking possession with 80.00 yards to go\n",
      "Down: 0, Yards to First: 10.0, Yards to Goal: 80.0, Action: Pass, Yards Gained: 0.0, Turnover: False\n",
      "Down: 1, Yards to First: 10.0, Yards to Goal: 80.0, Action: Pass, Yards Gained: 11.7, Turnover: False\n",
      "Down: 0, Yards to First: 10.0, Yards to Goal: 68.3, Action: Pass, Yards Gained: 0.0, Turnover: False\n",
      "Down: 1, Yards to First: 10.0, Yards to Goal: 68.3, Action: Pass, Yards Gained: 4.4, Turnover: False\n",
      "Down: 2, Yards to First: 5.6, Yards to Goal: 63.9, Action: Pass, Yards Gained: 21.1, Turnover: False\n",
      "Down: 0, Yards to First: 10.0, Yards to Goal: 42.7, Action: Pass, Yards Gained: 18.6, Turnover: False\n",
      "Down: 0, Yards to First: 10.0, Yards to Goal: 24.2, Action: Pass, Yards Gained: 12.0, Turnover: False\n",
      "Down: 0, Yards to First: 10.0, Yards to Goal: 12.2, Action: Pass, Yards Gained: 0.0, Turnover: False\n",
      "Down: 1, Yards to First: 10.0, Yards to Goal: 12.2, Action: Pass, Yards Gained: 10.4, Turnover: False\n",
      "Down: 0, Yards to First: 1.7, Yards to Goal: 1.7, Action: Pass, Yards Gained: 2.2, Turnover: False\n",
      "Touchdown\n",
      "Scoreboard:\n",
      "player 1 - 7\n",
      "player 2 - 7\n",
      "\n",
      "player 2 taking possession with 80.00 yards to go\n",
      "Down: 0, Yards to First: 10.0, Yards to Goal: 80.0, Action: Pass, Yards Gained: -5.2, Turnover: False\n",
      "Down: 1, Yards to First: 15.2, Yards to Goal: 85.2, Action: Pass, Yards Gained: 15.4, Turnover: False\n",
      "Down: 0, Yards to First: 10.0, Yards to Goal: 69.9, Action: Pass, Yards Gained: 1.6, Turnover: False\n",
      "Down: 1, Yards to First: 8.4, Yards to Goal: 68.3, Action: Pass, Yards Gained: 5.3, Turnover: False\n",
      "Down: 2, Yards to First: 3.0, Yards to Goal: 62.9, Action: Pass, Yards Gained: 0.0, Turnover: False\n",
      "Down: 3, Yards to First: 3.0, Yards to Goal: 62.9, Action: Pass, Yards Gained: 3.9, Turnover: False\n",
      "Down: 0, Yards to First: 10.0, Yards to Goal: 59.0, Action: Pass, Yards Gained: 5.4, Turnover: False\n",
      "Down: 1, Yards to First: 4.6, Yards to Goal: 53.6, Action: Pass, Yards Gained: 0.0, Turnover: False\n",
      "Down: 2, Yards to First: 4.6, Yards to Goal: 53.6, Action: Pass, Yards Gained: 22.6, Turnover: False\n",
      "Down: 0, Yards to First: 10.0, Yards to Goal: 30.9, Action: Pass, Yards Gained: 13.3, Turnover: False\n",
      "Down: 0, Yards to First: 10.0, Yards to Goal: 17.6, Action: Pass, Yards Gained: 7.5, Turnover: False\n",
      "Down: 1, Yards to First: 2.5, Yards to Goal: 10.2, Action: Pass, Yards Gained: 13.0, Turnover: False\n",
      "Touchdown\n",
      "Scoreboard:\n",
      "player 1 - 7\n",
      "player 2 - 14\n",
      "\n",
      "player 1 taking possession with 80.00 yards to go\n",
      "Down: 0, Yards to First: 10.0, Yards to Goal: 80.0, Action: Pass, Yards Gained: 0.0, Turnover: False\n",
      "Down: 1, Yards to First: 10.0, Yards to Goal: 80.0, Action: Pass, Yards Gained: 11.5, Turnover: False\n",
      "Down: 0, Yards to First: 10.0, Yards to Goal: 68.5, Action: Pass, Yards Gained: 0.0, Turnover: False\n",
      "Down: 1, Yards to First: 10.0, Yards to Goal: 68.5, Action: Pass, Yards Gained: -4.3, Turnover: False\n",
      "Down: 2, Yards to First: 14.3, Yards to Goal: 72.8, Action: Pass, Yards Gained: 0.0, Turnover: False\n",
      "Down: 3, Yards to First: 14.3, Yards to Goal: 72.8, Action: Pass, Yards Gained: 14.0, Turnover: True\n",
      "Turnover\n",
      "Scoreboard:\n",
      "player 1 - 7\n",
      "player 2 - 14\n",
      "\n",
      "player 2 taking possession with 41.14 yards to go\n",
      "Down: 0, Yards to First: 10.0, Yards to Goal: 41.1, Action: Pass, Yards Gained: 0.0, Turnover: False\n",
      "Down: 1, Yards to First: 10.0, Yards to Goal: 41.1, Action: Punt, Yards Gained: 40.1, Turnover: False\n",
      "Scoreboard:\n",
      "player 1 - 7\n",
      "player 2 - 14\n",
      "\n"
     ]
    }
   ],
   "source": [
    "play_game(env=NflEnv(), model_1=ppo_model, model_2=dqn_model, possessions=3)"
   ]
  },
  {
   "attachments": {},
   "cell_type": "markdown",
   "id": "43cc3ccf",
   "metadata": {},
   "source": [
    "let's see if vectorized environments with more steps improve performance"
   ]
  },
  {
   "cell_type": "code",
   "execution_count": 12,
   "id": "04021134",
   "metadata": {},
   "outputs": [
    {
     "data": {
      "text/html": [
       "Tracking run with wandb version 0.15.4"
      ],
      "text/plain": [
       "<IPython.core.display.HTML object>"
      ]
     },
     "metadata": {},
     "output_type": "display_data"
    },
    {
     "data": {
      "text/html": [
       "Run data is saved locally in <code>c:\\Users\\grant\\OneDrive\\Desktop\\nfl_jupyter\\wandb\\run-20230703_214554-jrqtcwf1</code>"
      ],
      "text/plain": [
       "<IPython.core.display.HTML object>"
      ]
     },
     "metadata": {},
     "output_type": "display_data"
    },
    {
     "data": {
      "text/html": [
       "Syncing run <strong><a href='https://wandb.ai/grantbell/sb3_nfl_2/runs/jrqtcwf1' target=\"_blank\">radiant-breeze-36</a></strong> to <a href='https://wandb.ai/grantbell/sb3_nfl_2' target=\"_blank\">Weights & Biases</a> (<a href='https://wandb.me/run' target=\"_blank\">docs</a>)<br/>"
      ],
      "text/plain": [
       "<IPython.core.display.HTML object>"
      ]
     },
     "metadata": {},
     "output_type": "display_data"
    },
    {
     "data": {
      "text/html": [
       " View project at <a href='https://wandb.ai/grantbell/sb3_nfl_2' target=\"_blank\">https://wandb.ai/grantbell/sb3_nfl_2</a>"
      ],
      "text/plain": [
       "<IPython.core.display.HTML object>"
      ]
     },
     "metadata": {},
     "output_type": "display_data"
    },
    {
     "data": {
      "text/html": [
       " View run at <a href='https://wandb.ai/grantbell/sb3_nfl_2/runs/jrqtcwf1' target=\"_blank\">https://wandb.ai/grantbell/sb3_nfl_2/runs/jrqtcwf1</a>"
      ],
      "text/plain": [
       "<IPython.core.display.HTML object>"
      ]
     },
     "metadata": {},
     "output_type": "display_data"
    },
    {
     "name": "stderr",
     "output_type": "stream",
     "text": [
      "\u001b[34m\u001b[1mwandb\u001b[0m: \u001b[33mWARNING\u001b[0m When using several event log directories, please call `wandb.tensorboard.patch(root_logdir=\"...\")` before `wandb.init`\n"
     ]
    },
    {
     "name": "stdout",
     "output_type": "stream",
     "text": [
      "mean_reward before training:0.62 +/- 3.48\n"
     ]
    },
    {
     "data": {
      "text/html": [
       "Waiting for W&B process to finish... <strong style=\"color:green\">(success).</strong>"
      ],
      "text/plain": [
       "<IPython.core.display.HTML object>"
      ]
     },
     "metadata": {},
     "output_type": "display_data"
    },
    {
     "data": {
      "text/html": [
       "<style>\n",
       "    table.wandb td:nth-child(1) { padding: 0 10px; text-align: left ; width: auto;} td:nth-child(2) {text-align: left ; width: 100%}\n",
       "    .wandb-row { display: flex; flex-direction: row; flex-wrap: wrap; justify-content: flex-start; width: 100% }\n",
       "    .wandb-col { display: flex; flex-direction: column; flex-basis: 100%; flex: 1; padding: 10px; }\n",
       "    </style>\n",
       "<div class=\"wandb-row\"><div class=\"wandb-col\"><h3>Run history:</h3><br/><table class=\"wandb\"><tr><td>global_step</td><td>▁▁▁▂▂▂▂▂▂▃▃▃▃▃▃▄▄▄▄▄▅▅▅▅▅▅▆▆▆▆▆▇▇▇▇▇▇███</td></tr><tr><td>rollout/ep_len_mean</td><td>▁▅▆▇█▇█▇▇▇█▇▇▆▇█▇▇█▇▇▇▆██▇▇█▇▆█▇▇▇▇▆▇█▇▇</td></tr><tr><td>rollout/ep_rew_mean</td><td>▁▄▆▆▆▅▆▆▆▇█▇▆▆▆█▆▆▇▇▅▇▆▇▇▆▇▇▆▅▇▇▇▆▆▇▇▇▆▆</td></tr><tr><td>time/fps</td><td>█▁▂▃▃▃▃▃▃▄▄▃▃▂▃▃▃▄▄▄▄▄▅▅▅▅▅▅▅▅▆▆▆▆▆▆▆▆▆▆</td></tr><tr><td>train/approx_kl</td><td>█▄▁▁▁▁▁▁▁▁▁▁▁▁▁▁▁▁▁▁▁▁▁▁▁▁▁▁▁▁▁▁▁▁▁▁▁▁▁▁</td></tr><tr><td>train/clip_fraction</td><td>█▅▂▁▂▁▂▁▁▁▁▁▁▁▁▁▁▁▁▁▁▁▁▁▁▁▁▁▁▁▁▁▁▁▁▁▁▁▂▁</td></tr><tr><td>train/clip_range</td><td>▁▁▁▁▁▁▁▁▁▁▁▁▁▁▁▁▁▁▁▁▁▁▁▁▁▁▁▁▁▁▁▁▁▁▁▁▁▁▁▁</td></tr><tr><td>train/entropy_loss</td><td>▁▃▅▆▆▇▇▇▇▇▇▇████████████████████████████</td></tr><tr><td>train/explained_variance</td><td>▅█▅▆▃▃▅▄▆▃▅▄▂▅▅▃▆▆▄▄▃▂▅▆▁▄▄▃█▃▆▃▆▄▁▅▂▆▅▆</td></tr><tr><td>train/learning_rate</td><td>▁▁▁▁▁▁▁▁▁▁▁▁▁▁▁▁▁▁▁▁▁▁▁▁▁▁▁▁▁▁▁▁▁▁▁▁▁▁▁▁</td></tr><tr><td>train/loss</td><td>▁▂▆▅▅▆▇▇▆▅▆▅▆▆▆▅▆▆▅▇▅▆▆▆▆▆▅▆▅▇▆▇█▅▅▆▄▇▄▅</td></tr><tr><td>train/policy_gradient_loss</td><td>▁▆▇█████████████████████████████████████</td></tr><tr><td>train/value_loss</td><td>▁▃▇▇██▇█▇██▇▇███▇███▇█▇█▇▇███▇▇█████▇█▇█</td></tr></table><br/></div><div class=\"wandb-col\"><h3>Run summary:</h3><br/><table class=\"wandb\"><tr><td>global_step</td><td>401408</td></tr><tr><td>rollout/ep_len_mean</td><td>7.27</td></tr><tr><td>rollout/ep_rew_mean</td><td>2.59181</td></tr><tr><td>time/fps</td><td>515.0</td></tr><tr><td>train/approx_kl</td><td>0.00021</td></tr><tr><td>train/clip_fraction</td><td>0.00342</td></tr><tr><td>train/clip_range</td><td>0.2</td></tr><tr><td>train/entropy_loss</td><td>-0.07553</td></tr><tr><td>train/explained_variance</td><td>0.18562</td></tr><tr><td>train/learning_rate</td><td>0.0003</td></tr><tr><td>train/loss</td><td>6.82318</td></tr><tr><td>train/policy_gradient_loss</td><td>-0.00012</td></tr><tr><td>train/value_loss</td><td>15.67249</td></tr></table><br/></div></div>"
      ],
      "text/plain": [
       "<IPython.core.display.HTML object>"
      ]
     },
     "metadata": {},
     "output_type": "display_data"
    },
    {
     "data": {
      "text/html": [
       " View run <strong style=\"color:#cdcd00\">radiant-breeze-36</strong> at: <a href='https://wandb.ai/grantbell/sb3_nfl_2/runs/jrqtcwf1' target=\"_blank\">https://wandb.ai/grantbell/sb3_nfl_2/runs/jrqtcwf1</a><br/>Synced 5 W&B file(s), 0 media file(s), 0 artifact file(s) and 2 other file(s)"
      ],
      "text/plain": [
       "<IPython.core.display.HTML object>"
      ]
     },
     "metadata": {},
     "output_type": "display_data"
    },
    {
     "data": {
      "text/html": [
       "Find logs at: <code>.\\wandb\\run-20230703_214554-jrqtcwf1\\logs</code>"
      ],
      "text/plain": [
       "<IPython.core.display.HTML object>"
      ]
     },
     "metadata": {},
     "output_type": "display_data"
    },
    {
     "name": "stdout",
     "output_type": "stream",
     "text": [
      "mean_reward after training:2.86 +/- 5.72\n"
     ]
    }
   ],
   "source": [
    "n_envs = 4\n",
    "ppo_vec_model = run_training_job('PPO', timesteps=timesteps * n_envs, vec_envs='y',n_envs=n_envs)"
   ]
  },
  {
   "cell_type": "code",
   "execution_count": 13,
   "id": "28238e18",
   "metadata": {},
   "outputs": [
    {
     "name": "stdout",
     "output_type": "stream",
     "text": [
      "player 1 is an agent\n",
      "player 2 is an agent\n",
      "\n",
      "player 1 taking possession with 80.00 yards to go\n",
      "Down: 0, Yards to First: 10.0, Yards to Goal: 80.0, Action: Pass, Yards Gained: 22.3, Turnover: False\n",
      "Down: 0, Yards to First: 10.0, Yards to Goal: 57.7, Action: Pass, Yards Gained: 5.9, Turnover: False\n",
      "Down: 1, Yards to First: 4.1, Yards to Goal: 51.9, Action: Pass, Yards Gained: 18.9, Turnover: False\n",
      "Down: 0, Yards to First: 10.0, Yards to Goal: 32.9, Action: Pass, Yards Gained: 22.4, Turnover: False\n",
      "Down: 0, Yards to First: 10.0, Yards to Goal: 10.5, Action: Pass, Yards Gained: 10.6, Turnover: False\n",
      "Touchdown\n",
      "Scoreboard:\n",
      "player 1 - 7\n",
      "player 2 - 0\n",
      "\n",
      "player 2 taking possession with 80.00 yards to go\n",
      "Down: 0, Yards to First: 10.0, Yards to Goal: 80.0, Action: Pass, Yards Gained: 12.2, Turnover: True\n",
      "Turnover\n",
      "Scoreboard:\n",
      "player 1 - 7\n",
      "player 2 - 0\n",
      "\n",
      "player 1 taking possession with 32.15 yards to go\n",
      "Down: 0, Yards to First: 10.0, Yards to Goal: 32.2, Action: Pass, Yards Gained: 6.9, Turnover: False\n",
      "Down: 1, Yards to First: 3.1, Yards to Goal: 25.2, Action: Pass, Yards Gained: 0.0, Turnover: False\n",
      "Down: 2, Yards to First: 3.1, Yards to Goal: 25.2, Action: Run, Yards Gained: 1.2, Turnover: False\n",
      "Down: 3, Yards to First: 1.9, Yards to Goal: 24.0, Action: Pass, Yards Gained: 11.1, Turnover: False\n",
      "Down: 0, Yards to First: 10.0, Yards to Goal: 12.9, Action: Pass, Yards Gained: 2.1, Turnover: False\n",
      "Down: 1, Yards to First: 7.9, Yards to Goal: 10.8, Action: Pass, Yards Gained: -1.9, Turnover: False\n",
      "Down: 2, Yards to First: 9.8, Yards to Goal: 12.7, Action: Pass, Yards Gained: 0.0, Turnover: False\n",
      "Down: 3, Yards to First: 9.8, Yards to Goal: 12.7, Action: Pass, Yards Gained: 6.7, Turnover: True\n",
      "Turnover\n",
      "Scoreboard:\n",
      "player 1 - 7\n",
      "player 2 - 0\n",
      "\n",
      "player 2 taking possession with 94.02 yards to go\n",
      "Down: 0, Yards to First: 10.0, Yards to Goal: 94.0, Action: Pass, Yards Gained: 21.4, Turnover: False\n",
      "Down: 0, Yards to First: 10.0, Yards to Goal: 72.6, Action: Pass, Yards Gained: 34.2, Turnover: False\n",
      "Down: 0, Yards to First: 10.0, Yards to Goal: 38.4, Action: Pass, Yards Gained: -5.8, Turnover: False\n",
      "Down: 1, Yards to First: 15.8, Yards to Goal: 44.2, Action: Pass, Yards Gained: 0.0, Turnover: False\n",
      "Down: 2, Yards to First: 15.8, Yards to Goal: 44.2, Action: Pass, Yards Gained: 0.0, Turnover: False\n",
      "Down: 3, Yards to First: 15.8, Yards to Goal: 44.2, Action: Pass, Yards Gained: -4.8, Turnover: True\n",
      "Turnover\n",
      "Scoreboard:\n",
      "player 1 - 7\n",
      "player 2 - 0\n",
      "\n",
      "player 1 taking possession with 50.98 yards to go\n",
      "Down: 0, Yards to First: 10.0, Yards to Goal: 51.0, Action: Pass, Yards Gained: 0.0, Turnover: False\n",
      "Down: 1, Yards to First: 10.0, Yards to Goal: 51.0, Action: Pass, Yards Gained: 0.0, Turnover: False\n",
      "Down: 2, Yards to First: 10.0, Yards to Goal: 51.0, Action: Pass, Yards Gained: 11.7, Turnover: False\n",
      "Down: 0, Yards to First: 10.0, Yards to Goal: 39.3, Action: Pass, Yards Gained: 14.1, Turnover: False\n",
      "Down: 0, Yards to First: 10.0, Yards to Goal: 25.2, Action: Pass, Yards Gained: 2.1, Turnover: False\n",
      "Down: 1, Yards to First: 7.9, Yards to Goal: 23.1, Action: Pass, Yards Gained: 8.0, Turnover: False\n",
      "Down: 0, Yards to First: 10.0, Yards to Goal: 15.0, Action: Pass, Yards Gained: 0.0, Turnover: False\n",
      "Down: 1, Yards to First: 10.0, Yards to Goal: 15.0, Action: Pass, Yards Gained: 8.7, Turnover: False\n",
      "Down: 2, Yards to First: 1.3, Yards to Goal: 6.3, Action: Pass, Yards Gained: 0.0, Turnover: False\n",
      "Down: 3, Yards to First: 1.3, Yards to Goal: 6.3, Action: Run, Yards Gained: 21.4, Turnover: False\n",
      "Touchdown\n",
      "Scoreboard:\n",
      "player 1 - 14\n",
      "player 2 - 0\n",
      "\n",
      "player 2 taking possession with 80.00 yards to go\n",
      "Down: 0, Yards to First: 10.0, Yards to Goal: 80.0, Action: Pass, Yards Gained: 9.1, Turnover: False\n",
      "Down: 1, Yards to First: 0.9, Yards to Goal: 70.9, Action: Pass, Yards Gained: 18.7, Turnover: False\n",
      "Down: 0, Yards to First: 10.0, Yards to Goal: 52.2, Action: Pass, Yards Gained: 4.9, Turnover: False\n",
      "Down: 1, Yards to First: 5.1, Yards to Goal: 47.3, Action: Pass, Yards Gained: 10.3, Turnover: False\n",
      "Down: 0, Yards to First: 10.0, Yards to Goal: 36.9, Action: Pass, Yards Gained: 14.0, Turnover: False\n",
      "Down: 0, Yards to First: 10.0, Yards to Goal: 23.0, Action: Pass, Yards Gained: -4.2, Turnover: False\n",
      "Down: 1, Yards to First: 14.2, Yards to Goal: 27.2, Action: Pass, Yards Gained: 7.5, Turnover: False\n",
      "Down: 2, Yards to First: 6.7, Yards to Goal: 19.6, Action: Pass, Yards Gained: 12.7, Turnover: False\n",
      "Down: 0, Yards to First: 6.9, Yards to Goal: 6.9, Action: Run, Yards Gained: 0.6, Turnover: False\n",
      "Down: 1, Yards to First: 6.3, Yards to Goal: 6.3, Action: Pass, Yards Gained: 14.8, Turnover: False\n",
      "Touchdown\n",
      "Scoreboard:\n",
      "player 1 - 14\n",
      "player 2 - 7\n",
      "\n",
      "player 1 taking possession with 80.00 yards to go\n",
      "Down: 0, Yards to First: 10.0, Yards to Goal: 80.0, Action: Pass, Yards Gained: 0.2, Turnover: False\n",
      "Down: 1, Yards to First: 9.8, Yards to Goal: 79.8, Action: Pass, Yards Gained: 7.0, Turnover: False\n",
      "Down: 2, Yards to First: 2.8, Yards to Goal: 72.8, Action: Pass, Yards Gained: 0.0, Turnover: False\n",
      "Down: 3, Yards to First: 2.8, Yards to Goal: 72.8, Action: Pass, Yards Gained: 27.7, Turnover: False\n",
      "Down: 0, Yards to First: 10.0, Yards to Goal: 45.2, Action: Pass, Yards Gained: 1.6, Turnover: False\n",
      "Down: 1, Yards to First: 8.4, Yards to Goal: 43.6, Action: Pass, Yards Gained: 17.1, Turnover: False\n",
      "Down: 0, Yards to First: 10.0, Yards to Goal: 26.5, Action: Pass, Yards Gained: 0.0, Turnover: False\n",
      "Down: 1, Yards to First: 10.0, Yards to Goal: 26.5, Action: Pass, Yards Gained: 0.0, Turnover: False\n",
      "Down: 2, Yards to First: 10.0, Yards to Goal: 26.5, Action: Pass, Yards Gained: 6.6, Turnover: False\n",
      "Down: 3, Yards to First: 3.4, Yards to Goal: 19.9, Action: Pass, Yards Gained: 0.0, Turnover: True\n",
      "Turnover\n",
      "Scoreboard:\n",
      "player 1 - 14\n",
      "player 2 - 7\n",
      "\n",
      "player 2 taking possession with 80.10 yards to go\n",
      "Down: 0, Yards to First: 10.0, Yards to Goal: 80.1, Action: Pass, Yards Gained: 11.4, Turnover: True\n",
      "Turnover\n",
      "Scoreboard:\n",
      "player 1 - 14\n",
      "player 2 - 7\n",
      "\n",
      "player 1 taking possession with 31.34 yards to go\n",
      "Down: 0, Yards to First: 10.0, Yards to Goal: 31.3, Action: Pass, Yards Gained: 0.0, Turnover: False\n",
      "Down: 1, Yards to First: 10.0, Yards to Goal: 31.3, Action: Pass, Yards Gained: -3.2, Turnover: False\n",
      "Down: 2, Yards to First: 13.2, Yards to Goal: 34.5, Action: Pass, Yards Gained: 0.0, Turnover: False\n",
      "Down: 3, Yards to First: 13.2, Yards to Goal: 34.5, Action: Pass, Yards Gained: 0.0, Turnover: True\n",
      "Turnover\n",
      "Scoreboard:\n",
      "player 1 - 14\n",
      "player 2 - 7\n",
      "\n",
      "player 2 taking possession with 65.49 yards to go\n",
      "Down: 0, Yards to First: 10.0, Yards to Goal: 65.5, Action: Pass, Yards Gained: 0.0, Turnover: False\n",
      "Down: 1, Yards to First: 10.0, Yards to Goal: 65.5, Action: Pass, Yards Gained: 0.0, Turnover: False\n",
      "Down: 2, Yards to First: 10.0, Yards to Goal: 65.5, Action: Pass, Yards Gained: 23.1, Turnover: False\n",
      "Down: 0, Yards to First: 10.0, Yards to Goal: 42.4, Action: Pass, Yards Gained: 0.0, Turnover: False\n",
      "Down: 1, Yards to First: 10.0, Yards to Goal: 42.4, Action: Pass, Yards Gained: 27.2, Turnover: False\n",
      "Down: 0, Yards to First: 10.0, Yards to Goal: 15.2, Action: Pass, Yards Gained: -1.9, Turnover: False\n",
      "Down: 1, Yards to First: 11.9, Yards to Goal: 17.1, Action: Pass, Yards Gained: 0.0, Turnover: False\n",
      "Down: 2, Yards to First: 11.9, Yards to Goal: 17.1, Action: Pass, Yards Gained: 0.0, Turnover: False\n",
      "Down: 3, Yards to First: 11.9, Yards to Goal: 17.1, Action: Pass, Yards Gained: 5.4, Turnover: True\n",
      "Turnover\n",
      "Scoreboard:\n",
      "player 1 - 14\n",
      "player 2 - 7\n",
      "\n",
      "player 1 taking possession with 88.34 yards to go\n",
      "Down: 0, Yards to First: 10.0, Yards to Goal: 88.3, Action: Pass, Yards Gained: 0.0, Turnover: False\n",
      "Down: 1, Yards to First: 10.0, Yards to Goal: 88.3, Action: Pass, Yards Gained: 0.0, Turnover: False\n",
      "Down: 2, Yards to First: 10.0, Yards to Goal: 88.3, Action: Pass, Yards Gained: -1.3, Turnover: False\n",
      "Down: 3, Yards to First: 11.3, Yards to Goal: 89.7, Action: Pass, Yards Gained: 20.5, Turnover: False\n",
      "Down: 0, Yards to First: 10.0, Yards to Goal: 69.2, Action: Pass, Yards Gained: 0.0, Turnover: False\n",
      "Down: 1, Yards to First: 10.0, Yards to Goal: 69.2, Action: Pass, Yards Gained: -4.0, Turnover: False\n",
      "Down: 2, Yards to First: 14.0, Yards to Goal: 73.2, Action: Pass, Yards Gained: 9.9, Turnover: False\n",
      "Down: 3, Yards to First: 4.1, Yards to Goal: 63.3, Action: Pass, Yards Gained: 10.1, Turnover: False\n",
      "Down: 0, Yards to First: 10.0, Yards to Goal: 53.2, Action: Pass, Yards Gained: 0.1, Turnover: False\n",
      "Down: 1, Yards to First: 9.9, Yards to Goal: 53.1, Action: Pass, Yards Gained: 25.2, Turnover: False\n",
      "Down: 0, Yards to First: 10.0, Yards to Goal: 27.9, Action: Pass, Yards Gained: 0.0, Turnover: False\n",
      "Down: 1, Yards to First: 10.0, Yards to Goal: 27.9, Action: Pass, Yards Gained: 11.3, Turnover: False\n",
      "Down: 0, Yards to First: 10.0, Yards to Goal: 16.6, Action: Pass, Yards Gained: 12.6, Turnover: False\n",
      "Down: 0, Yards to First: 4.0, Yards to Goal: 4.0, Action: Pass, Yards Gained: 0.0, Turnover: False\n",
      "Down: 1, Yards to First: 4.0, Yards to Goal: 4.0, Action: Pass, Yards Gained: 0.0, Turnover: False\n",
      "Down: 2, Yards to First: 4.0, Yards to Goal: 4.0, Action: Pass, Yards Gained: 9.2, Turnover: False\n",
      "Touchdown\n",
      "Scoreboard:\n",
      "player 1 - 21\n",
      "player 2 - 7\n",
      "\n",
      "player 2 taking possession with 80.00 yards to go\n",
      "Down: 0, Yards to First: 10.0, Yards to Goal: 80.0, Action: Pass, Yards Gained: 1.9, Turnover: False\n",
      "Down: 1, Yards to First: 8.1, Yards to Goal: 78.1, Action: Pass, Yards Gained: 5.2, Turnover: False\n",
      "Down: 2, Yards to First: 2.9, Yards to Goal: 72.9, Action: Pass, Yards Gained: 26.3, Turnover: False\n",
      "Down: 0, Yards to First: 10.0, Yards to Goal: 46.5, Action: Pass, Yards Gained: 8.5, Turnover: False\n",
      "Down: 1, Yards to First: 1.5, Yards to Goal: 38.0, Action: Pass, Yards Gained: -3.7, Turnover: False\n",
      "Down: 2, Yards to First: 5.2, Yards to Goal: 41.7, Action: Pass, Yards Gained: 7.2, Turnover: False\n",
      "Down: 0, Yards to First: 10.0, Yards to Goal: 34.5, Action: Pass, Yards Gained: 4.3, Turnover: False\n",
      "Down: 1, Yards to First: 5.7, Yards to Goal: 30.2, Action: Pass, Yards Gained: 7.5, Turnover: False\n",
      "Down: 0, Yards to First: 10.0, Yards to Goal: 22.7, Action: Pass, Yards Gained: -3.1, Turnover: False\n",
      "Down: 1, Yards to First: 13.1, Yards to Goal: 25.8, Action: Pass, Yards Gained: -5.7, Turnover: False\n",
      "Down: 2, Yards to First: 18.8, Yards to Goal: 31.5, Action: Pass, Yards Gained: 0.0, Turnover: False\n",
      "Down: 3, Yards to First: 18.8, Yards to Goal: 31.5, Action: Pass, Yards Gained: 35.2, Turnover: False\n",
      "Touchdown\n",
      "Scoreboard:\n",
      "player 1 - 21\n",
      "player 2 - 14\n",
      "\n",
      "player 1 taking possession with 80.00 yards to go\n",
      "Down: 0, Yards to First: 10.0, Yards to Goal: 80.0, Action: Pass, Yards Gained: 23.9, Turnover: False\n",
      "Down: 0, Yards to First: 10.0, Yards to Goal: 56.1, Action: Pass, Yards Gained: 0.0, Turnover: False\n",
      "Down: 1, Yards to First: 10.0, Yards to Goal: 56.1, Action: Pass, Yards Gained: 14.8, Turnover: False\n",
      "Down: 0, Yards to First: 10.0, Yards to Goal: 41.3, Action: Pass, Yards Gained: 3.9, Turnover: False\n",
      "Down: 1, Yards to First: 6.1, Yards to Goal: 37.5, Action: Pass, Yards Gained: 0.0, Turnover: False\n",
      "Down: 2, Yards to First: 6.1, Yards to Goal: 37.5, Action: Pass, Yards Gained: 18.1, Turnover: False\n",
      "Down: 0, Yards to First: 10.0, Yards to Goal: 19.4, Action: Pass, Yards Gained: 0.8, Turnover: False\n",
      "Down: 1, Yards to First: 9.2, Yards to Goal: 18.6, Action: Pass, Yards Gained: -3.8, Turnover: False\n",
      "Down: 2, Yards to First: 13.0, Yards to Goal: 22.4, Action: Pass, Yards Gained: -2.9, Turnover: False\n",
      "Down: 3, Yards to First: 15.9, Yards to Goal: 25.3, Action: Pass, Yards Gained: 0.0, Turnover: True\n",
      "Turnover\n",
      "Scoreboard:\n",
      "player 1 - 21\n",
      "player 2 - 14\n",
      "\n",
      "player 2 taking possession with 74.71 yards to go\n",
      "Down: 0, Yards to First: 10.0, Yards to Goal: 74.7, Action: Pass, Yards Gained: 5.1, Turnover: False\n",
      "Down: 1, Yards to First: 4.9, Yards to Goal: 69.7, Action: Pass, Yards Gained: 8.5, Turnover: False\n",
      "Down: 0, Yards to First: 10.0, Yards to Goal: 61.2, Action: Pass, Yards Gained: 0.0, Turnover: False\n",
      "Down: 1, Yards to First: 10.0, Yards to Goal: 61.2, Action: Pass, Yards Gained: 0.0, Turnover: False\n",
      "Down: 2, Yards to First: 10.0, Yards to Goal: 61.2, Action: Pass, Yards Gained: 24.1, Turnover: False\n",
      "Down: 0, Yards to First: 10.0, Yards to Goal: 37.0, Action: Pass, Yards Gained: 60.7, Turnover: False\n",
      "Touchdown\n",
      "Scoreboard:\n",
      "player 1 - 21\n",
      "player 2 - 21\n",
      "\n",
      "player 1 taking possession with 80.00 yards to go\n",
      "Down: 0, Yards to First: 10.0, Yards to Goal: 80.0, Action: Pass, Yards Gained: 15.5, Turnover: False\n",
      "Down: 0, Yards to First: 10.0, Yards to Goal: 64.5, Action: Pass, Yards Gained: 0.0, Turnover: False\n",
      "Down: 1, Yards to First: 10.0, Yards to Goal: 64.5, Action: Pass, Yards Gained: 26.4, Turnover: False\n",
      "Down: 0, Yards to First: 10.0, Yards to Goal: 38.1, Action: Pass, Yards Gained: 0.0, Turnover: False\n",
      "Down: 1, Yards to First: 10.0, Yards to Goal: 38.1, Action: Pass, Yards Gained: 0.0, Turnover: False\n",
      "Down: 2, Yards to First: 10.0, Yards to Goal: 38.1, Action: Pass, Yards Gained: -0.1, Turnover: False\n",
      "Down: 3, Yards to First: 10.1, Yards to Goal: 38.2, Action: Pass, Yards Gained: 0.0, Turnover: True\n",
      "Turnover\n",
      "Scoreboard:\n",
      "player 1 - 21\n",
      "player 2 - 21\n",
      "\n",
      "player 2 taking possession with 61.81 yards to go\n",
      "Down: 0, Yards to First: 10.0, Yards to Goal: 61.8, Action: Pass, Yards Gained: 9.6, Turnover: False\n",
      "Down: 1, Yards to First: 0.4, Yards to Goal: 52.2, Action: Pass, Yards Gained: 6.4, Turnover: False\n",
      "Down: 0, Yards to First: 10.0, Yards to Goal: 45.8, Action: Pass, Yards Gained: 5.7, Turnover: False\n",
      "Down: 1, Yards to First: 4.3, Yards to Goal: 40.1, Action: Pass, Yards Gained: 0.0, Turnover: False\n",
      "Down: 2, Yards to First: 4.3, Yards to Goal: 40.1, Action: Pass, Yards Gained: 0.0, Turnover: False\n",
      "Down: 3, Yards to First: 4.3, Yards to Goal: 40.1, Action: Pass, Yards Gained: 22.0, Turnover: False\n",
      "Down: 0, Yards to First: 10.0, Yards to Goal: 18.1, Action: Pass, Yards Gained: 0.0, Turnover: False\n",
      "Down: 1, Yards to First: 10.0, Yards to Goal: 18.1, Action: Pass, Yards Gained: 9.5, Turnover: False\n",
      "Down: 2, Yards to First: 0.5, Yards to Goal: 8.6, Action: Pass, Yards Gained: 10.5, Turnover: False\n",
      "Touchdown\n",
      "Scoreboard:\n",
      "player 1 - 21\n",
      "player 2 - 28\n",
      "\n",
      "player 1 taking possession with 80.00 yards to go\n",
      "Down: 0, Yards to First: 10.0, Yards to Goal: 80.0, Action: Pass, Yards Gained: 2.7, Turnover: False\n",
      "Down: 1, Yards to First: 7.3, Yards to Goal: 77.3, Action: Pass, Yards Gained: 9.5, Turnover: False\n",
      "Down: 0, Yards to First: 10.0, Yards to Goal: 67.8, Action: Pass, Yards Gained: -6.5, Turnover: False\n",
      "Down: 1, Yards to First: 16.5, Yards to Goal: 74.3, Action: Pass, Yards Gained: 5.9, Turnover: False\n",
      "Down: 2, Yards to First: 10.6, Yards to Goal: 68.4, Action: Pass, Yards Gained: 5.1, Turnover: False\n",
      "Down: 3, Yards to First: 5.5, Yards to Goal: 63.3, Action: Pass, Yards Gained: 0.0, Turnover: True\n",
      "Turnover\n",
      "Scoreboard:\n",
      "player 1 - 21\n",
      "player 2 - 28\n",
      "\n",
      "player 2 taking possession with 36.67 yards to go\n",
      "Down: 0, Yards to First: 10.0, Yards to Goal: 36.7, Action: Pass, Yards Gained: 7.4, Turnover: False\n",
      "Down: 1, Yards to First: 2.6, Yards to Goal: 29.3, Action: Pass, Yards Gained: 0.0, Turnover: False\n",
      "Down: 2, Yards to First: 2.6, Yards to Goal: 29.3, Action: Pass, Yards Gained: 0.0, Turnover: False\n",
      "Down: 3, Yards to First: 2.6, Yards to Goal: 29.3, Action: Pass, Yards Gained: 6.0, Turnover: False\n",
      "Down: 0, Yards to First: 10.0, Yards to Goal: 23.3, Action: Pass, Yards Gained: 5.1, Turnover: True\n",
      "Turnover\n",
      "Scoreboard:\n",
      "player 1 - 21\n",
      "player 2 - 28\n",
      "\n",
      "player 1 taking possession with 81.83 yards to go\n",
      "Down: 0, Yards to First: 10.0, Yards to Goal: 81.8, Action: Pass, Yards Gained: 3.1, Turnover: False\n",
      "Down: 1, Yards to First: 6.9, Yards to Goal: 78.7, Action: Pass, Yards Gained: 0.0, Turnover: False\n",
      "Down: 2, Yards to First: 6.9, Yards to Goal: 78.7, Action: Pass, Yards Gained: 11.3, Turnover: False\n",
      "Down: 0, Yards to First: 10.0, Yards to Goal: 67.4, Action: Pass, Yards Gained: 11.5, Turnover: False\n",
      "Down: 0, Yards to First: 10.0, Yards to Goal: 55.8, Action: Pass, Yards Gained: 0.5, Turnover: False\n",
      "Down: 1, Yards to First: 9.5, Yards to Goal: 55.3, Action: Pass, Yards Gained: 0.0, Turnover: False\n",
      "Down: 2, Yards to First: 9.5, Yards to Goal: 55.3, Action: Pass, Yards Gained: 4.4, Turnover: True\n",
      "Turnover\n",
      "Scoreboard:\n",
      "player 1 - 21\n",
      "player 2 - 28\n",
      "\n",
      "player 2 taking possession with 49.04 yards to go\n",
      "Down: 0, Yards to First: 10.0, Yards to Goal: 49.0, Action: Pass, Yards Gained: 35.0, Turnover: False\n",
      "Down: 0, Yards to First: 10.0, Yards to Goal: 14.0, Action: Pass, Yards Gained: 3.9, Turnover: False\n",
      "Down: 1, Yards to First: 6.1, Yards to Goal: 10.1, Action: Pass, Yards Gained: 2.8, Turnover: False\n",
      "Down: 2, Yards to First: 3.3, Yards to Goal: 7.4, Action: Pass, Yards Gained: 0.0, Turnover: False\n",
      "Down: 3, Yards to First: 3.3, Yards to Goal: 7.4, Action: Pass, Yards Gained: 0.8, Turnover: True\n",
      "Turnover\n",
      "Scoreboard:\n",
      "player 1 - 21\n",
      "player 2 - 28\n",
      "\n"
     ]
    }
   ],
   "source": [
    "play_game(env=NflEnv(), model_1=ppo_model, model_2=ppo_vec_model, possessions=10)"
   ]
  }
 ],
 "metadata": {
  "kernelspec": {
   "display_name": "Python 3 (ipykernel)",
   "language": "python",
   "name": "python3"
  },
  "language_info": {
   "codemirror_mode": {
    "name": "ipython",
    "version": 3
   },
   "file_extension": ".py",
   "mimetype": "text/x-python",
   "name": "python",
   "nbconvert_exporter": "python",
   "pygments_lexer": "ipython3",
   "version": "3.11.3"
  }
 },
 "nbformat": 4,
 "nbformat_minor": 5
}
